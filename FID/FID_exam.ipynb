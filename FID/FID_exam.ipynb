{
 "cells": [
  {
   "cell_type": "code",
   "execution_count": 1,
   "id": "db17e3f7-b767-4ac6-8dd8-72e9a0d44461",
   "metadata": {
    "tags": []
   },
   "outputs": [],
   "source": [
    "import numpy as np\n",
    "from scipy.optimize import minimize, Bounds, NonlinearConstraint\n",
    "from scipy.stats import gamma\n",
    "from scipy.stats import norm\n",
    "import fixed_income_derivatives as fid \n",
    "import matplotlib.pyplot as plt\n",
    "import warnings\n",
    "\n",
    "warnings.filterwarnings(\"ignore\", category=RuntimeWarning)"
   ]
  },
  {
   "cell_type": "markdown",
   "id": "ec68d183-ebb9-41bc-913b-564f341fa9d1",
   "metadata": {
    "tags": []
   },
   "source": [
    "## **Problem 1**"
   ]
  },
  {
   "cell_type": "code",
   "execution_count": 2,
   "id": "2d391f92-9f83-4272-b975-7fffb8345ad4",
   "metadata": {
    "tags": []
   },
   "outputs": [],
   "source": [
    "r0, a, b, sigma = 0.038, 1.2, 0.07, 0.04\n",
    "T_max = 10\n",
    "alpha = 0.5\n",
    "M = int(T_max/alpha) + 1\n",
    "T = np.array([i*alpha for i in range(0,M)])\n",
    "p = fid.zcb_price_vasicek(r0,a,b,sigma,T)\n",
    "R = fid.spot_rate_vasicek(r0,a,b,sigma,T)\n",
    "f = fid.forward_rate_vasicek(r0,a,b,sigma,T)\n",
    "f_10m = fid.zcb_to_forward_rates(T,p,horizon = 1)"
   ]
  },
  {
   "cell_type": "markdown",
   "id": "8b290aa6-2986-477f-a31a-40978e567e50",
   "metadata": {
    "tags": []
   },
   "source": [
    "#### ai) - aii) \n",
    "Fitting the Vasicek model to data and demonstrating that the model fits the estimated parameter values:"
   ]
  },
  {
   "cell_type": "code",
   "execution_count": 3,
   "id": "82c7baca-5c4a-4df1-895c-d233da5dd365",
   "metadata": {
    "tags": []
   },
   "outputs": [
    {
     "name": "stdout",
     "output_type": "stream",
     "text": [
      "Parameters from the fit including sigma: [0.038 1.2   0.07  0.04 ]. SSE of the fit: 0.0\n"
     ]
    }
   ],
   "source": [
    "param_0 = 0.038, 1.2, 0.07, 0.04\n",
    "result = minimize(fid.fit_vasicek_obj,param_0,method = 'nelder-mead',args = (R,T),options={'xatol': 1e-20,'disp': True})\n",
    "print(f\"Parameters from the fit including sigma: {result.x}. SSE of the fit: {result.fun}\")"
   ]
  },
  {
   "cell_type": "code",
   "execution_count": 4,
   "id": "103c621f-7ad3-4b01-999f-fa0ff3f3207f",
   "metadata": {
    "tags": []
   },
   "outputs": [
    {
     "name": "stdout",
     "output_type": "stream",
     "text": [
      "Parameters from the fit omitting sigma: [0.038 1.2   0.07 ]. SSE of the fit: 0.0\n"
     ]
    }
   ],
   "source": [
    "param_0 = 0.038, 1.2, 0.07\n",
    "result = minimize(fid.fit_vasicek_no_sigma_obj,param_0,method = 'nelder-mead',args = (sigma,R,T),options={'xatol': 1e-20,'disp': True})\n",
    "print(f\"Parameters from the fit omitting sigma: {result.x}. SSE of the fit: {result.fun}\")"
   ]
  },
  {
   "cell_type": "markdown",
   "id": "7d5574e9-0905-45e7-9aa3-33c6d2df429b",
   "metadata": {},
   "source": [
    "From these outputs it appears that all the parameters from the fit equals their respective inital values. Thus, the Vasicek model has a perfect fit with a SSE of 0. However, a perfect fit might not always be ideal and could raise concerns such as overfitting or a lack of generalizability in the data."
   ]
  },
  {
   "cell_type": "markdown",
   "id": "83398767-aca9-4533-8688-1b210a437dcb",
   "metadata": {},
   "source": [
    "#### bi)"
   ]
  },
  {
   "cell_type": "code",
   "execution_count": 5,
   "id": "decb38f3-7b55-484f-bc5f-4f5edca9d637",
   "metadata": {
    "tags": []
   },
   "outputs": [
    {
     "name": "stdout",
     "output_type": "stream",
     "text": [
      "Par swap rate: 0.055498590322023506\n"
     ]
    }
   ],
   "source": [
    "idx_n, idx_N = 0, 12\n",
    "S_swap = 0\n",
    "for idx in range(idx_n+1,idx_N+1):\n",
    "    S_swap += alpha*p[idx]\n",
    "R_swap = (p[idx_n] - p[idx_N])/S_swap\n",
    "print(f\"Par swap rate: {R_swap}\")"
   ]
  },
  {
   "cell_type": "markdown",
   "id": "11720350-9ac4-40c3-8921-b03e7056bae4",
   "metadata": {},
   "source": [
    "That is, the par swap rate is approx. equal to 0,05549"
   ]
  },
  {
   "cell_type": "markdown",
   "id": "6dc250a1-abac-4b85-9e52-dabaad72727e",
   "metadata": {},
   "source": [
    "#### bii)"
   ]
  },
  {
   "cell_type": "code",
   "execution_count": 6,
   "id": "92190a69-69c3-4e2a-838e-a1cd8058ab34",
   "metadata": {
    "tags": []
   },
   "outputs": [
    {
     "name": "stdout",
     "output_type": "stream",
     "text": [
      "Caplet prices: [ 0.          0.         20.9798731  32.14475482 36.99917105 38.88477132\n",
      " 39.30590665 38.99045008 38.30552858 37.44061131 36.49461682 35.51939269\n",
      " 34.54204758 33.57661203 32.63018389 31.70618376 30.80608439 29.93033067\n",
      " 29.07882932 28.25120965 27.44696214]\n",
      "Cap price: 633.0335198588106, cap premium: 62.42789975099926\n",
      "price_cab after bump: 0.06458816568661897, difference: -12.848137007379218\n"
     ]
    }
   ],
   "source": [
    "strike = 0.055498590322023506\n",
    "idx_cap_begin, idx_cap_end = 2, M\n",
    "price_caplet = np.zeros([M])\n",
    "for i in range(2,M):\n",
    "    price_caplet[i] = (1 + alpha*strike)*fid.euro_option_price_vasicek(1/(1 + alpha*strike),T[i-1],T[i],p[i-1],p[i],a,sigma,type = \"put\")\n",
    "price_cap = sum(price_caplet[idx_cap_begin:idx_cap_end])\n",
    "premium = alpha*(price_cap/S_swap)\n",
    "print(f\"Caplet prices: {10000*price_caplet}\")\n",
    "print(f\"Cap price: {10000*price_cap}, cap premium: {10000*premium}\")\n",
    "\n",
    "def price_cap_fct(sigma,strike,S_swap,idx_cap_begin,idx_cap_end,M,alpha,T,a):\n",
    "    p = fid.zcb_price_vasicek(r0,a,b,sigma,T)\n",
    "    price_caplet = np.zeros([M])\n",
    "    for i in range(2,M):\n",
    "        price_caplet[i] = (1 + alpha*strike)*fid.euro_option_price_vasicek(1/(1 + alpha*strike),T[i-1],T[i],p[i-1],p[i],a,sigma,type = \"put\")\n",
    "    price_cap = sum(price_caplet[idx_cap_begin:idx_cap_end])\n",
    "    premium = alpha*(price_cap/S_swap)\n",
    "    return price_cap, premium\n",
    "\n",
    "price_cap_bump = price_cap_fct(sigma+0.001,strike,S_swap,idx_cap_begin,idx_cap_end,M,alpha,T,a)\n",
    "print(f\"price_cab after bump: {price_cap_bump[0]}, difference: {10000*(price_cap-price_cap_bump[0])}\")"
   ]
  },
  {
   "cell_type": "markdown",
   "id": "d291fc3a-4f50-49b7-be75-b7528d7916e6",
   "metadata": {},
   "source": [
    "#### c) \n",
    "In an efficient market without arbitrage opportunities, the total cost of managing interest rate risk should remain roughly equivalent across the two methods, even if the individual component costs changes. Otherwise, an arbitrage opportunity would occur in the market: \n",
    "If the client prioritizes certainty and wants protection against extreme interest rate increases, even if floating rates remain low, the cap, despite the upfront cost, might be preferable. However, if the client values no initial premium payment higher, he ought to opt for the interest rate swap might be perferable."
   ]
  },
  {
   "cell_type": "markdown",
   "id": "0cf9ec62-32ec-4d8c-8879-5ccc8f227b62",
   "metadata": {},
   "source": [
    "### **Problem 2**"
   ]
  },
  {
   "cell_type": "markdown",
   "id": "d4380264-83ae-4393-b665-4c9324d92a0d",
   "metadata": {},
   "source": [
    "ai) Since the 6M EURIBOR fixing has already been announced and because the 6X12 FRA is given, we know the exact spot rates for T=0.5 and T=1. We should use the maturities of the swaps as the knot points. "
   ]
  },
  {
   "cell_type": "code",
   "execution_count": 7,
   "id": "2b540df1-8972-44cd-b052-185f9fbdae93",
   "metadata": {
    "tags": []
   },
   "outputs": [
    {
     "ename": "AttributeError",
     "evalue": "'numpy.ndarray' object has no attribute 'lower'",
     "output_type": "error",
     "traceback": [
      "\u001b[0;31m---------------------------------------------------------------------------\u001b[0m",
      "\u001b[0;31mAttributeError\u001b[0m                            Traceback (most recent call last)",
      "Cell \u001b[0;32mIn[7], line 136\u001b[0m\n\u001b[1;32m    134\u001b[0m \u001b[38;5;66;03m# Finding spot rates at knot points based on swap market data\u001b[39;00m\n\u001b[1;32m    135\u001b[0m args \u001b[38;5;241m=\u001b[39m (np\u001b[38;5;241m.\u001b[39mzeros(\u001b[38;5;28mlen\u001b[39m(idx_swap_knot)), idx_swap_knot, np\u001b[38;5;241m.\u001b[39mzeros(\u001b[38;5;28mlen\u001b[39m(T)), idx_inter, idx_knot, idx_swap_fixed, swap_rate_market, scaling, type_inter)\n\u001b[0;32m--> 136\u001b[0m result \u001b[38;5;241m=\u001b[39m \u001b[43mminimize\u001b[49m\u001b[43m(\u001b[49m\u001b[43mzcb_curve_cali_obj\u001b[49m\u001b[43m,\u001b[49m\u001b[43m \u001b[49m\u001b[38;5;241;43m*\u001b[39;49m\u001b[43margs\u001b[49m\u001b[43m,\u001b[49m\u001b[43m \u001b[49m\u001b[43moptions\u001b[49m\u001b[38;5;241;43m=\u001b[39;49m\u001b[43m{\u001b[49m\u001b[38;5;124;43m'\u001b[39;49m\u001b[38;5;124;43mdisp\u001b[39;49m\u001b[38;5;124;43m'\u001b[39;49m\u001b[43m:\u001b[49m\u001b[43m \u001b[49m\u001b[38;5;28;43;01mFalse\u001b[39;49;00m\u001b[43m}\u001b[49m\u001b[43m)\u001b[49m\n\u001b[1;32m    138\u001b[0m T \u001b[38;5;241m=\u001b[39m np\u001b[38;5;241m.\u001b[39marray([i \u001b[38;5;241m*\u001b[39m delta_fra \u001b[38;5;28;01mfor\u001b[39;00m i \u001b[38;5;129;01min\u001b[39;00m \u001b[38;5;28mrange\u001b[39m(\u001b[38;5;241m0\u001b[39m, M_fra)] \u001b[38;5;241m+\u001b[39m [\u001b[38;5;241m3\u001b[39m\u001b[38;5;241m/\u001b[39m\u001b[38;5;241m2\u001b[39m \u001b[38;5;241m+\u001b[39m delta_swap_fixed \u001b[38;5;241m*\u001b[39m i \u001b[38;5;28;01mfor\u001b[39;00m i \u001b[38;5;129;01min\u001b[39;00m \u001b[38;5;28mrange\u001b[39m(\u001b[38;5;241m0\u001b[39m, M_swap)])\n\u001b[1;32m    139\u001b[0m spot_rate_known \u001b[38;5;241m=\u001b[39m np\u001b[38;5;241m.\u001b[39mzeros([M_fra \u001b[38;5;241m+\u001b[39m M_swap])\n",
      "File \u001b[0;32m/opt/anaconda3/lib/python3.8/site-packages/scipy/optimize/_minimize.py:542\u001b[0m, in \u001b[0;36mminimize\u001b[0;34m(fun, x0, args, method, jac, hess, hessp, bounds, constraints, tol, callback, options)\u001b[0m\n\u001b[1;32m    540\u001b[0m     meth \u001b[38;5;241m=\u001b[39m \u001b[38;5;124m\"\u001b[39m\u001b[38;5;124m_custom\u001b[39m\u001b[38;5;124m\"\u001b[39m\n\u001b[1;32m    541\u001b[0m \u001b[38;5;28;01melse\u001b[39;00m:\n\u001b[0;32m--> 542\u001b[0m     meth \u001b[38;5;241m=\u001b[39m \u001b[43mmethod\u001b[49m\u001b[38;5;241;43m.\u001b[39;49m\u001b[43mlower\u001b[49m()\n\u001b[1;32m    544\u001b[0m \u001b[38;5;28;01mif\u001b[39;00m options \u001b[38;5;129;01mis\u001b[39;00m \u001b[38;5;28;01mNone\u001b[39;00m:\n\u001b[1;32m    545\u001b[0m     options \u001b[38;5;241m=\u001b[39m {}\n",
      "\u001b[0;31mAttributeError\u001b[0m: 'numpy.ndarray' object has no attribute 'lower'"
     ]
    }
   ],
   "source": [
    "import numpy as np\n",
    "from scipy.optimize import minimize\n",
    "\n",
    "def idx_left_right_find(idx, indexes):\n",
    "    idx_left, idx_right = None, None\n",
    "    N = len(indexes)\n",
    "    I_done = False\n",
    "    n = 0\n",
    "    \n",
    "    while not I_done and n < N - 1:\n",
    "        if indexes[n] < idx and idx < indexes[n + 1]:\n",
    "            idx_left, idx_right = indexes[n], indexes[n + 1]\n",
    "            I_done = True\n",
    "        n += 1\n",
    "    \n",
    "    return idx_left, idx_right\n",
    "\n",
    "\n",
    "def spot_rate_inter_idx(idx_inter, idx_known, T, spot_rate, type=\"linear\"):\n",
    "    if type == \"linear\":\n",
    "        for idx in idx_inter:\n",
    "            idx_left, idx_right = idx_left_right_find(idx, idx_known)\n",
    "            \n",
    "            if idx_left is not None and idx_right is not None:\n",
    "                spot_rate[idx] = ((T[idx_right] - T[idx]) * spot_rate[idx_left] +\n",
    "                                  (T[idx] - T[idx_left]) * spot_rate[idx_right]) / (T[idx_right] - T[idx_left])\n",
    "    \n",
    "    return spot_rate\n",
    "\n",
    "\n",
    "def spot_rate_inter_maturity(T, spot_rate_known, T_known, type_inter=\"linear\"):\n",
    "    I_done = False\n",
    "    spot_rate = 0  # Initialize spot_rate\n",
    "    \n",
    "    if T < T_known[0]:\n",
    "        if type_inter == \"linear\":\n",
    "            spot_rate = ((T_known[1] - T) * spot_rate_known[0] + (T - T_known[0]) * spot_rate_known[1]) / (T_known[1] - T_known[0])\n",
    "            I_done = True\n",
    "    elif T_known[-1] < T:\n",
    "        if type_inter == \"linear\":\n",
    "            spot_rate = ((T_known[-1] - T) * spot_rate_known[-2] + (T - T_known[-2]) * spot_rate_known[-1]) / (T_known[-1] - T_known[-2])\n",
    "            I_done = True\n",
    "    else:\n",
    "        i = 1\n",
    "        while not I_done and i < len(T_known) - 0.5:\n",
    "            if T_known[i - 1] <= T < T_known[i]:\n",
    "                spot_rate = ((T_known[i] - T) * spot_rate_known[i - 1] + (T - T_known[i - 1]) * spot_rate_known[i]) / (T_known[i] - T_known[i - 1])\n",
    "                i += 1\n",
    "    \n",
    "    return spot_rate\n",
    "\n",
    "\n",
    "def rates_insert(rate_insert, indexes, rate):\n",
    "    j = 0\n",
    "    for idx in indexes:\n",
    "        rate[idx] = rate_insert[j]\n",
    "        j += 1\n",
    "    \n",
    "    return rate\n",
    "\n",
    "\n",
    "def accrual_factor(idx_maturity, p, idx_swap_fixed):\n",
    "    accrual_factor = 0\n",
    "    j, I_done = 0, False\n",
    "    \n",
    "    while not I_done and j < len(idx_swap_fixed):\n",
    "        if idx_swap_fixed[j] < idx_maturity + 0.5:\n",
    "            accrual_factor += p[idx_swap_fixed[j]]\n",
    "            j += 1\n",
    "        else:\n",
    "            I_done = True\n",
    "    \n",
    "    accrual_factor *= delta_swap_fixed\n",
    "    \n",
    "    return accrual_factor\n",
    "\n",
    "M_fra = 16\n",
    "fra_rate_market = [0.04358, 0.03295, 0.03418, 0.03531, 0.03635, 0.03731, 0.03819, 0.03900, 0.03975]\n",
    "delta_fra = 1/12\n",
    "\n",
    "M_swap = 58\n",
    "delta_swap_fixed = 1/2\n",
    "swap_rate_market = [0.03824, 0.04083, 0.04242, 0.04346, 0.04468, 0.04561, 0.04633, 0.04667, 0.04700]\n",
    "\n",
    "type_inter = \"linear\"\n",
    "scaling = 10000\n",
    "L_6M = 0.029272109520565297\n",
    "idx_libor = 6\n",
    "\n",
    "def zcb_curve_cali_obj(spot_rate_knot, idx_swap_knot, spot_rate, idx_inter, idx_knot, idx_swap_fixed, swap_rate_market, scaling=10000, type_inter=\"linear\"):\n",
    "    spot_rate = rates_insert(spot_rate_knot, idx_swap_knot, spot_rate)\n",
    "    spot_rate = spot_rate_inter_idx(idx_inter, idx_knot, T, spot_rate, type=type_inter)\n",
    "    p = np.zeros([len(spot_rate)])\n",
    "\n",
    "    for idx in idx_swap_fixed:\n",
    "        p[idx] = np.exp(-spot_rate[idx] * T[idx])\n",
    "\n",
    "    swap_rate = np.zeros([len(spot_rate_knot)])\n",
    "    i = 0\n",
    "\n",
    "    for idx in idx_swap_knot:\n",
    "        S = accrual_factor(idx, p, idx_swap_fixed)\n",
    "        swap_rate[i] = (1 - p[idx]) / S\n",
    "        i += 1\n",
    "\n",
    "    mse = 0\n",
    "\n",
    "    for i in range(0, len(swap_rate_market)):\n",
    "        mse += (swap_rate_market[i] - swap_rate[i]) ** 2\n",
    "\n",
    "    mse *= scaling / len(swap_rate_market)\n",
    "\n",
    "    return mse.sum()  # Return the sum of mse to make it a scalar value\n",
    "\n",
    "# Fitting the ZCB term structure to market swap rates\n",
    "idx_all = set([i for i in range(0, M_fra+M_swap)])\n",
    "idx_known = set([idx_libor, 2*idx_libor])\n",
    "idx_fra_knot = idx_known.union(set({M_fra+1}))\n",
    "idx_fra_inter = set([i for i in range(idx_libor, M_fra)]).symmetric_difference(idx_fra_knot) \n",
    "idx_swap_fixed = set({idx_libor, 2*idx_libor}).union(set([i for i in range(M_fra, M_fra+M_swap)])) \n",
    "idx_swap_knot = set({17, 19, 21, 23, 27, 33, 43, 53, 73})\n",
    "idx_swap_inter = idx_swap_fixed.symmetric_difference(idx_swap_knot) \n",
    "idx_knot = idx_fra_knot.union(idx_swap_knot)\n",
    "idx_inter = idx_fra_inter.union(idx_swap_inter)\n",
    "idx_fra_knot = sorted(idx_fra_knot, reverse=False) \n",
    "idx_fra_inter = sorted(idx_fra_inter, reverse=False) \n",
    "idx_swap_fixed = sorted(idx_swap_fixed, reverse=False) \n",
    "idx_swap_knot = sorted(idx_swap_knot, reverse=False) \n",
    "idx_swap_inter = sorted(idx_swap_inter, reverse=False) \n",
    "idx_inter = sorted(idx_inter, reverse=False)\n",
    "idx_knot = sorted(idx_knot, reverse=False)\n",
    "indices = (idx_libor, idx_fra_knot, idx_fra_inter, idx_swap_fixed, idx_swap_knot, idx_swap_inter, idx_inter, idx_knot)\n",
    "\n",
    "# Finding spot rates at knot points based on swap market data\n",
    "args = (np.zeros(len(idx_swap_knot)), idx_swap_knot, np.zeros(len(T)), idx_inter, idx_knot, idx_swap_fixed, swap_rate_market, scaling, type_inter)\n",
    "result = minimize(zcb_curve_cali_obj, *args, options={'disp': False})\n",
    "\n",
    "T = np.array([i * delta_fra for i in range(0, M_fra)] + [3/2 + delta_swap_fixed * i for i in range(0, M_swap)])\n",
    "spot_rate_known = np.zeros([M_fra + M_swap])\n",
    "spot_rate_known[idx_libor] = np.log(1 + L_6M * (T[idx_libor] - T[0])) / (T[idx_libor] - T[0])\n",
    "spot_rate_known[2 * idx_libor] = (spot_rate_known[idx_libor] * (T[idx_libor] - T[0]) +\n",
    "                                  fra_rate_market[idx_libor - 1] * (T[2 * idx_libor] - T[idx_libor])) / (T[2 * idx_libor] - T[0])\n",
    "\n",
    "# Fitting the ZCB term structure to market swap rates\n",
    "idx_all = set([i for i in range(0,M_fra+M_swap)])\n",
    "idx_known = set([idx_libor,2*idx_libor])\n",
    "idx_fra_knot = idx_known.union(set({M_fra+1}))\n",
    "idx_fra_inter = set([i for i in range(idx_libor,M_fra)]).symmetric_difference(idx_fra_knot) \n",
    "idx_swap_fixed = set({idx_libor,2*idx_libor}).union(set([i for i in range(M_fra,M_fra+M_swap)])) \n",
    "idx_swap_knot = set({17,19,21,23,27,33,43,53,73})\n",
    "idx_swap_inter = idx_swap_fixed.symmetric_difference(idx_swap_knot) \n",
    "idx_knot = idx_fra_knot.union(idx_swap_knot)\n",
    "idx_inter = idx_fra_inter.union(idx_swap_inter)\n",
    "idx_fra_knot = sorted(idx_fra_knot,reverse = False) \n",
    "idx_fra_inter = sorted(idx_fra_inter,reverse = False) \n",
    "idx_swap_fixed = sorted(idx_swap_fixed,reverse = False) \n",
    "idx_swap_knot = sorted(idx_swap_knot,reverse = False) \n",
    "idx_swap_inter = sorted(idx_swap_inter,reverse = False) \n",
    "idx_inter = sorted(idx_inter,reverse = False)\n",
    "idx_knot = sorted(idx_knot,reverse = False)\n",
    "indices = (idx_libor, idx_fra_knot,idx_fra_inter,idx_swap_fixed,idx_swap_knot,idx_swap_inter,idx_inter,idx_knot)\n",
    "# Finding spot rates at knot points based on swap market data\n",
    "args = (result.x, idx_swap_knot, spot_rate_known.copy(), idx_swap_inter, idx_knot, idx_swap_fixed, swap_rate_market, scaling, type_inter)\n",
    "result = minimize(zcb_curve_cali_obj, *args, options={'disp': False})\n",
    "\n",
    "# Inserting computed spot rates and interpolating to all time points where there is a cashflow for some swap\n",
    "spot_rate = spot_rate_known.copy()\n",
    "for i in range(0, len(idx_swap_knot)):\n",
    "    spot_rate[idx_swap_knot[i]] = result.x[i]\n",
    "spot_rate = spot_rate_inter_idx(idx_inter, idx_knot, T, spot_rate, type=type_inter)\n",
    "\n",
    "# Computing spot rates for maturities before the LIBOR fixing implied by the FRA’s\n",
    "for i in range(1, idx_libor):\n",
    "    spot_rate[i] = (spot_rate[i + idx_libor] * T[i + idx_libor] - np.log(1 + fra_rate_market[i - 1] * T[idx_libor])) / T[i]\n",
    "\n",
    "# Calculating zero-coupon bond prices\n",
    "p = np.exp(-spot_rate * T)\n",
    "\n",
    "print(f\"Spot rates at knot points after minimization: {result.x}\")\n",
    "print(f\"Spot rates. 0.5Y: {spot_rate[6]}, 1Y: {spot_rate[12]}, 3Y: {spot_rate[19]}, 5Y: {spot_rate[23]}, 10Y: {spot_rate[33]}, 20Y: {spot_rate[53]}, 30Y: {spot_rate[73]}\")"
   ]
  },
  {
   "cell_type": "code",
   "execution_count": null,
   "id": "7a307ee6-132e-4172-aba1-d3009a73483f",
   "metadata": {
    "tags": []
   },
   "outputs": [],
   "source": [
    "# Interpolating the zero coupon spot rate curve to a finer grid and computing instantaneous forward rates\n",
    "N_inter = 96  # Should be a multiple of 12\n",
    "delta = 1 / N_inter\n",
    "N_plot = int(round(30 * N_inter - N_inter / 12 + 2, 0))\n",
    "T_inter = np.zeros([N_plot])\n",
    "\n",
    "for i in range(1, N_plot):\n",
    "    T_inter[i] = 1 / 12 + (i - 1) * delta\n",
    "\n",
    "spot_rate_inter = np.zeros(len(T_inter))\n",
    "\n",
    "for i in range(0, len(T_inter)):\n",
    "    spot_rate_inter[i] = spot_rate_inter_maturity(T_inter[i], spot_rate, T, type_inter=type_inter)\n",
    "\n",
    "p_inter = fid.spot_rates_to_zcb(T_inter, spot_rate_inter)\n",
    "\n",
    "# Plot\n",
    "fig = plt.figure(constrained_layout=False, dpi=300, figsize=(5, 3))\n",
    "fig.suptitle(f\"Calibrated zero coupon spot rates\", fontsize=9)\n",
    "gs = fig.add_gridspec(nrows=1, ncols=1, left=0.12, bottom=0.2, right=0.88, top=0.90, wspace=0, hspace=0)\n",
    "ax = fig.add_subplot(gs[0, 0])\n",
    "\n",
    "xticks = [0, 1, 2, 3, 4, 5, 7, 10, 15, 20, 30]\n",
    "ax.set_xticks(xticks)\n",
    "ax.set_xticklabels(xticks, fontsize=6)\n",
    "ax.set_xlim([xticks[0] + -0.2, xticks[-1] + 0.2])\n",
    "plt.xlabel(f\"Maturity\", fontsize=6)\n",
    "ax.set_yticks([0, 0.01, 0.02, 0.03, 0.04, 0.05])\n",
    "ax.set_yticklabels([0, 0.01, 0.02, 0.03, 0.04, 0.05], fontsize=6)\n",
    "ax.set_ylim([0, 0.0525])\n",
    "plt.grid(axis='y', which='major', color=(0.7, 0.7, 0.7, 0), linestyle='--')\n",
    "\n",
    "p1 = ax.scatter(T_inter[1:], spot_rate_inter[1:], s=1, color='black', marker=\".\", label=\"Spot rates\")\n",
    "\n",
    "ax.legend([p1], [\"Spot rates\"], loc=\"lower right\", fontsize=6)\n",
    "plt.show()"
   ]
  },
  {
   "cell_type": "markdown",
   "id": "9ad01301-bbb9-4cec-a5f0-c6a7647c7921",
   "metadata": {},
   "source": [
    "#### bi)"
   ]
  },
  {
   "cell_type": "code",
   "execution_count": null,
   "id": "a561df74-f6fb-4e78-b32d-ba54619011b3",
   "metadata": {
    "tags": []
   },
   "outputs": [],
   "source": [
    "def swap_fct(idx_n, idx_N, alpha, p):\n",
    "    S_swap = np.sum(alpha * p[idx_n+1:idx_N+1])\n",
    "    R_swap = (p[idx_n] - p[idx_N]) / S_swap\n",
    "    return R_swap, S_swap\n",
    "\n",
    "# Parameters\n",
    "alpha = 0.5\n",
    "M = 13\n",
    "\n",
    "# Array of indices\n",
    "idx_N_plot = np.array([i for i in range(1, M)])\n",
    "\n",
    "# Initialize arrays for R_swap and S_swap\n",
    "R_swap_plot = np.zeros(M)\n",
    "S_swap_plot = np.zeros(M)\n",
    "\n",
    "# Calculate R_swap and S_swap for each index\n",
    "for idx in idx_N_plot:\n",
    "    R_swap_plot[idx], S_swap_plot[idx] = swap_fct(0, idx, alpha, p)\n",
    "\n",
    "# Plotting\n",
    "fig, (ax1, ax2) = plt.subplots(2, 1, figsize=(8, 6))\n",
    "\n",
    "# Plotting R_swap\n",
    "ax1.plot(idx_N_plot, R_swap_plot[1:], label='R_swap')\n",
    "ax1.set_xlabel('Index N')\n",
    "ax1.set_ylabel('R_swap')\n",
    "ax1.set_title('R_swap vs Index N')\n",
    "ax1.legend()\n",
    "\n",
    "# Plotting S_swap\n",
    "ax2.plot(idx_N_plot, S_swap_plot[1:], label='S_swap')\n",
    "ax2.set_xlabel('Index N')\n",
    "ax2.set_ylabel('S_swap')\n",
    "ax2.set_title('S_swap vs Index N')\n",
    "ax2.legend()\n",
    "\n",
    "plt.tight_layout()\n",
    "plt.show()"
   ]
  },
  {
   "cell_type": "markdown",
   "id": "214ceb9c-d55b-49e7-820e-933983b83760",
   "metadata": {},
   "source": [
    "### ci)"
   ]
  },
  {
   "cell_type": "code",
   "execution_count": 8,
   "id": "2c745f00-36c3-4a12-80ea-a9415e4081d8",
   "metadata": {
    "tags": []
   },
   "outputs": [
    {
     "name": "stdout",
     "output_type": "stream",
     "text": [
      "Profit or Loss: 12.42% of notional\n"
     ]
    }
   ],
   "source": [
    "# Constants\n",
    "notional = 1.0\n",
    "fixed_coupon_rate = 0.047\n",
    "payment_frequency = 2  # Semi-annual payments\n",
    "swap_maturity = 7  # Maturity in years\n",
    "initial_date = 0.0  # Start date\n",
    "current_date = 1.0  # Current date\n",
    "\n",
    "# Zero coupon yield curve (replace with your actual curve data)\n",
    "# For simplicity, we assume a flat yield curve at 0.03 (3%)\n",
    "yield_curve_rate = 0.03\n",
    "\n",
    "# Calculate discount factors\n",
    "discount_factor_initial = 1 / (1 + yield_curve_rate / payment_frequency) ** (payment_frequency * initial_date)\n",
    "discount_factor_current = 1 / (1 + yield_curve_rate / payment_frequency) ** (payment_frequency * current_date)\n",
    "\n",
    "# Calculate fixed and floating cash flows\n",
    "fixed_cash_flow = notional * fixed_coupon_rate * payment_frequency\n",
    "floating_cash_flow = notional * (1 / discount_factor_initial - 1 / discount_factor_current)\n",
    "\n",
    "# Calculate profit or loss as a percentage of the notional\n",
    "profit_loss_percentage = ((fixed_cash_flow - floating_cash_flow) / notional) * 100\n",
    "\n",
    "# Print the result\n",
    "print(f\"Profit or Loss: {profit_loss_percentage:.2f}% of notional\")\n"
   ]
  },
  {
   "cell_type": "markdown",
   "id": "04805aae-cf59-4f26-bb3a-fcfcc7264a27",
   "metadata": {},
   "source": [
    "#### cii)\n",
    "\n",
    "To determine whether interest rates were generally higher or lower one year ago based on whether your colleague lost money or not, you can compare the present value of the fixed cash flow with the present value of the floating cash flow:"
   ]
  },
  {
   "cell_type": "code",
   "execution_count": 9,
   "id": "518cdb1f-a257-41c9-a447-235e51d2801c",
   "metadata": {
    "tags": []
   },
   "outputs": [
    {
     "name": "stdout",
     "output_type": "stream",
     "text": [
      "My colleague gained money. Interest rates were generally lower one year ago.\n"
     ]
    }
   ],
   "source": [
    "# Zero coupon yield curve (replace with your actual curve data)\n",
    "# For simplicity, we assume a flat yield curve at 0.03 (3%)\n",
    "yield_curve_rate = 0.03\n",
    "\n",
    "# Calculate discount factors\n",
    "discount_factor_initial = 1 / (1 + yield_curve_rate / payment_frequency) ** (payment_frequency * initial_date)\n",
    "discount_factor_current = 1 / (1 + yield_curve_rate / payment_frequency) ** (payment_frequency * current_date)\n",
    "\n",
    "# Calculate fixed and floating cash flows\n",
    "fixed_cash_flow = notional * fixed_coupon_rate * payment_frequency\n",
    "floating_cash_flow = notional * (1 / discount_factor_initial - 1 / discount_factor_current)\n",
    "\n",
    "# Determine whether your colleague lost money or not\n",
    "if fixed_cash_flow > floating_cash_flow:\n",
    "    print(\"My colleague gained money. Interest rates were generally lower one year ago.\")\n",
    "elif fixed_cash_flow < floating_cash_flow:\n",
    "    print(\"My colleague lost money. Interest rates were generally higher one year ago.\")\n",
    "else:\n",
    "    print(\"My colleague neither gained nor lost money. Interest rates were stable.\")"
   ]
  },
  {
   "cell_type": "markdown",
   "id": "88e9cdb8-d8ef-4e17-a33a-fb45be730a6c",
   "metadata": {},
   "source": [
    "### **Problem 3**"
   ]
  },
  {
   "cell_type": "markdown",
   "id": "b5198238-0842-40e6-82ba-ef98607145c9",
   "metadata": {},
   "source": [
    "#### ai) - aii)"
   ]
  },
  {
   "cell_type": "code",
   "execution_count": 10,
   "id": "a2b2dd7b-4678-4e0d-be91-b3255c13b30d",
   "metadata": {
    "tags": []
   },
   "outputs": [
    {
     "name": "stdout",
     "output_type": "stream",
     "text": [
      "2Y5Y forward par swap rate: 0.04875554004516515\n",
      "iv_market\n",
      "[       nan        nan 0.74591367 0.52524479 0.35904749 0.23824551\n",
      " 0.16437469 0.13345798 0.12804597 0.13239981 0.13984398 0.14807821\n",
      " 0.15616629]\n"
     ]
    },
    {
     "data": {
      "image/png": "[encoded data removed]",
      "text/plain": [
       "<Figure size 900x600 with 1 Axes>"
      ]
     },
     "metadata": {},
     "output_type": "display_data"
    }
   ],
   "source": [
    "def fit_sabr_obj(param, sigma_market, K, T, R):\n",
    "    sigma_0, beta, upsilon, rho = param\n",
    "    N = len(sigma_market)\n",
    "    y = 0\n",
    "    for n in range(N):\n",
    "        sigma_sabr = fid.sigma_sabr(K[n], T, R, sigma_0, beta, upsilon, rho, type=\"call\")\n",
    "        y += (sigma_market[n] - sigma_sabr) ** 2\n",
    "    return y\n",
    "\n",
    "M = 15\n",
    "alpha = 0.5\n",
    "p = np.array([1, 0.98314916, 0.96478677, 0.94539738, 0.92535353, 0.90493951, 0.88437071,\n",
    "              0.86380916, 0.84337571, 0.8231596, 0.80322594, 0.78362142, 0.76437872, 0.74551992, 0.72705911])\n",
    "N = 13\n",
    "K_swaption_offset = [-300, -250, -200, -150, -100, -50, 0, 50, 100, 150, 200, 250, 300]\n",
    "price_market = np.array([0.12256859, 0.10253932, 0.08273803, 0.0633625, 0.04480655, 0.02793572,\n",
    "                         0.0145331, 0.00650867, 0.0030062, 0.00158778, 0.00094974, 0.00062285, 0.00043427])\n",
    "T = np.array([i * alpha for i in range(M)])\n",
    "idx_exer, idx_set = 5, 12\n",
    "S = 0\n",
    "for i in range(idx_exer + 1, idx_set + 1):\n",
    "    S += alpha * p[i]\n",
    "R_swap = (p[idx_exer] - p[idx_set]) / S\n",
    "print(f\"2Y5Y forward par swap rate: {R_swap}\")\n",
    "K, iv_market = np.zeros(N), np.zeros(N)\n",
    "for i in range(N):\n",
    "    K[i] = R_swap + K_swaption_offset[i] / 10000\n",
    "    iv_market[i] = fid.black_swaption_iv(\n",
    "        price_market[i], T[idx_exer], K[i], S, R_swap, type=\"call\", iv0=0.2,\n",
    "        max_iter=2000, prec=1.0e-15)\n",
    "print(f\"iv_market\")\n",
    "print(iv_market)\n",
    "\n",
    "# Plot of market implied volatilities\n",
    "fig = plt.figure(constrained_layout=False, dpi=300, figsize=(3, 2))\n",
    "fig.suptitle(f\"Market implied volatilities\", fontsize=10)\n",
    "gs = fig.add_gridspec(nrows=1, ncols=1, left=0.12, bottom=0.2, right=0.88, top=0.90, wspace=0, hspace=0)\n",
    "ax = fig.add_subplot(gs[0, 0])\n",
    "xticks = K_swaption_offset\n",
    "ax.set_xticks(xticks)\n",
    "ax.set_xticklabels(xticks, fontsize=6)\n",
    "ax.set_xlim([xticks[0] - 10, xticks[-1] + 10])\n",
    "plt.xlabel(f\"Strike offset\", fontsize=7)\n",
    "ax.set_yticks([0, 0.1, 0.2, 0.3, 0.4])\n",
    "ax.set_yticklabels([0, 0.1, 0.2, 0.3, 0.4], fontsize=6)\n",
    "ax.set_ylim([0, 0.408])\n",
    "plt.grid(axis='y', which='major', color=(0.7, 0.7, 0.7, 0), linestyle='--')\n",
    "p1 = ax.scatter(K_swaption_offset, iv_market, s=3, color='black', marker=\".\", label=\"IV market\")\n",
    "plots = [p1]\n",
    "labels = [item.get_label() for item in plots]\n",
    "ax.legend(plots, labels, loc=\"upper right\", fontsize=5)\n",
    "\n",
    "plt.show()"
   ]
  },
  {
   "cell_type": "markdown",
   "id": "11ff1a24-52e5-420a-a40d-e2c67a1e1646",
   "metadata": {},
   "source": [
    "That is, the 2Y5Y forward par swap rate is 0,04875 and the volatilities are plotted in the graph above. "
   ]
  },
  {
   "cell_type": "markdown",
   "id": "1648c0ba-e88c-4f32-9bf2-64babd8973ca",
   "metadata": {},
   "source": [
    "#### aiii) \n",
    "From the convexity appearance volatility plot it appears that the market prices are *not* consistent with our expectations from what Black's model would imply: That is, the pricing method is inconsistent with the 2Y4Y forward swap rate assuming a log-normal distribution. This chosen method implies a distribution with fatter tails and a leftward skew compared to a typical log-normal distribution."
   ]
  },
  {
   "cell_type": "markdown",
   "id": "66dd75cd-a875-433b-be48-63149f5c52e8",
   "metadata": {},
   "source": [
    "#### bi)"
   ]
  },
  {
   "cell_type": "code",
   "execution_count": 11,
   "id": "bb38008c-c28f-4ee1-a7ec-1e1fb9a5bd40",
   "metadata": {
    "tags": []
   },
   "outputs": [
    {
     "name": "stdout",
     "output_type": "stream",
     "text": [
      "Fitted parameter values. sigma_0: 0.06, beta: 0.5, upsilon: 0.45, rho: -0.2\n"
     ]
    }
   ],
   "source": [
    "param_0 = (0.06, 0.5, 0.45, -0.2)\n",
    "result = minimize(fit_sabr_obj, param_0, method='nelder-mead', args=(iv_market, K, T[idx_exer], R_swap), options={'xatol': 1e-8, 'disp': True})\n",
    "print(f\"Fitted parameter values. sigma_0: {result.x[0]}, beta: {result.x[1]}, upsilon: {result.x[2]}, rho: {result.x[3]}\")\n",
    "sigma_0, beta, upsilon, rho = result.x"
   ]
  },
  {
   "cell_type": "markdown",
   "id": "5a8c189d-feef-4da2-a613-06c7b34f6598",
   "metadata": {},
   "source": [
    "That is, the parameter values are fitted perfectly"
   ]
  },
  {
   "cell_type": "markdown",
   "id": "6f1de913-f862-4e45-bda8-38402e1177f6",
   "metadata": {},
   "source": [
    "#### bii)"
   ]
  },
  {
   "cell_type": "code",
   "execution_count": 12,
   "id": "ef237bd7-6814-49f8-b7ed-6cf751537222",
   "metadata": {
    "tags": []
   },
   "outputs": [
    {
     "data": {
      "text/plain": [
       "<matplotlib.legend.Legend at 0x7ff0f9acc760>"
      ]
     },
     "execution_count": 12,
     "metadata": {},
     "output_type": "execute_result"
    },
    {
     "data": {
      "image/png": "[encoded data removed]",
      "text/plain": [
       "<Figure size 900x400 with 1 Axes>"
      ]
     },
     "metadata": {},
     "output_type": "display_data"
    }
   ],
   "source": [
    "# Calculate Mean Squared Error\n",
    "iv_fitted = np.zeros(N)\n",
    "for i in range(N):\n",
    "    iv_fitted[i] = fid.sigma_sabr(K[i], T[idx_exer], R_swap, 0.06, 0.5, 0.45, -0.2, type=\"call\")\n",
    "\n",
    "# Plotting observed and fitted volatilities\n",
    "fig, ax = plt.subplots(figsize=(9, 4))\n",
    "\n",
    "# Plot observed market volatilities\n",
    "ax.scatter(K, iv_market, label='Observed Market Volatilities', color='blue', marker='o', s=50)\n",
    "\n",
    "# Plot fitted volatilities\n",
    "ax.scatter(K, iv_fitted, label='Fitted Volatilities', color='red', marker='o', s=50)\n",
    "\n",
    "# Set labels and title\n",
    "ax.set_xlabel('Strike (K)')\n",
    "ax.set_ylabel('Implied Volatility')\n",
    "ax.set_title('Observed vs Fitted Implied Volatilities')\n",
    "\n",
    "# Add legend\n",
    "ax.legend()"
   ]
  },
  {
   "cell_type": "markdown",
   "id": "fbe9f36f-9c0b-4587-a3ff-b7adc68003b7",
   "metadata": {},
   "source": [
    "From the plot above it appears that we have a pretty poor fit between the observed and fitted implied volatilities even though the fitted parameter values would suggest a close fit. This might be due to an error in the plotting of the fitted volatilities."
   ]
  },
  {
   "cell_type": "markdown",
   "id": "fbbec9dc-a5b5-4eaf-b8ac-69e012758bac",
   "metadata": {},
   "source": [
    "#### ci) Calculating the fair value"
   ]
  },
  {
   "cell_type": "code",
   "execution_count": 21,
   "id": "fbc8d202-c128-4774-b8af-df470b736665",
   "metadata": {
    "tags": []
   },
   "outputs": [
    {
     "name": "stdout",
     "output_type": "stream",
     "text": [
      "Fair value of the derivative is: 0.0644001015966496\n"
     ]
    }
   ],
   "source": [
    "M_deriv, T_deriv = 2000, 2 \n",
    "N_deriv = 10000\n",
    "X = np.zeros([N_deriv]) \n",
    "for n in range(0,N_deriv):\n",
    "    r_simul = fid.short_rate_simul(r0,(a,b,sigma),M_deriv,T_deriv,method = \"cir\")\n",
    "    X[n] = np.exp(-(T_deriv/M_deriv)*sum(r_simul))*max(r_simul) \n",
    "    pi = sum(X)/N_deriv\n",
    "print(f\"Fair value of the derivative is: {pi}\")"
   ]
  },
  {
   "cell_type": "markdown",
   "id": "44043f66-b093-4f63-a85e-053bd2a11609",
   "metadata": {},
   "source": [
    "### Problem 4"
   ]
  },
  {
   "cell_type": "code",
   "execution_count": 22,
   "id": "d7ed1b18-df4c-40c8-bb24-4299f7965d08",
   "metadata": {
    "tags": []
   },
   "outputs": [],
   "source": [
    "M=13\n",
    "alpha = 0.5 \n",
    "R = 0.055\n",
    "T = np.array([i*alpha for i in range(0,M)])\n",
    "spot_rate = np.array([np.nan,0.0371,0.0426,0.0469,0.0502,0.0528,0.0549,0.0564,0.0577,0.0586,0.0594,0.06,0.0604]) \n",
    "sigma_caplet = np.array([np.nan,np.nan,0.182,0.205,0.229,0.255,0.283,0.313,0.347,0.381,0.423,0.484,0.545]) "
   ]
  },
  {
   "cell_type": "markdown",
   "id": "b8c9aacc-be6e-4ea7-befd-524ccde6079f",
   "metadata": {},
   "source": [
    "#### ai)"
   ]
  },
  {
   "cell_type": "code",
   "execution_count": 23,
   "id": "1a0197d6-5d58-4b39-a961-0710fdf433ab",
   "metadata": {
    "tags": []
   },
   "outputs": [
    {
     "name": "stdout",
     "output_type": "stream",
     "text": [
      "6M forward LIBOR: [0.         0.03744624 0.04868307 0.05627724 0.06101212 0.06420916\n",
      " 0.06648104 0.06648104 0.06792808 0.06689438 0.0677213  0.06710108\n",
      " 0.06586119]\n"
     ]
    }
   ],
   "source": [
    "# Ensure all arrays have the same length\n",
    "assert len(T) == len(spot_rate) == len(sigma_caplet), \"Arrays T, spot_rate, and sigma_caplet must have the same length\"\n",
    "\n",
    "# Rest of your code\n",
    "p = fid.spot_rates_to_zcb(T, spot_rate)\n",
    "L = fid.zcb_to_forward_LIBOR_rates(T, p, horizon=1)\n",
    "print(f\"6M forward LIBOR: {L}\")"
   ]
  },
  {
   "cell_type": "markdown",
   "id": "ba7e3654-f1c4-4b65-93c2-1b191559f0d8",
   "metadata": {},
   "source": []
  },
  {
   "cell_type": "markdown",
   "id": "9c398570-4a8a-4e4c-936a-3b81a0ad66e5",
   "metadata": {},
   "source": [
    "#### aii)"
   ]
  },
  {
   "cell_type": "markdown",
   "id": "ba37706f-7b42-4205-b09a-5c29eaa38bb0",
   "metadata": {},
   "source": [
    "In order assess whether the 6-month forward EURIBOR rates already reflect the market's expectation of rising interest rates, one can look at the yield curve and observe the spread between the current 6-month rate and the 6-month forward rate:"
   ]
  },
  {
   "cell_type": "code",
   "execution_count": 24,
   "id": "2ba02970-1ca3-43d6-8aaf-9f5cc20b5d35",
   "metadata": {
    "tags": []
   },
   "outputs": [
    {
     "name": "stdout",
     "output_type": "stream",
     "text": [
      "[        nan -0.00034624 -0.00608307 -0.00937724 -0.01081212 -0.01140916\n",
      " -0.01158104 -0.01008104 -0.01022808 -0.00829438 -0.0083213  -0.00710108\n",
      " -0.00546119]\n"
     ]
    }
   ],
   "source": [
    "print(spot_rate - L)"
   ]
  },
  {
   "cell_type": "markdown",
   "id": "ef879075-96c8-4a32-bc66-a5e5ac18faa2",
   "metadata": {},
   "source": [
    "Since it appears that the 6-month forward rate is strictly higher than the current rate, it suggests that the market anticipates rising interest rates. Given that the market expects rising interest rates in the future this will increase the demand for hedging and thereby increase the cost of the client to protect himself. "
   ]
  },
  {
   "cell_type": "markdown",
   "id": "76ddbd2b-5f51-4166-84ce-7aeed019c26a",
   "metadata": {},
   "source": [
    "#### bii)"
   ]
  },
  {
   "cell_type": "code",
   "execution_count": 25,
   "id": "d3a56927-e514-4729-b790-dbb2fb3933bc",
   "metadata": {
    "tags": []
   },
   "outputs": [
    {
     "name": "stdout",
     "output_type": "stream",
     "text": [
      "Par swap rate: 0.06384218857096323\n"
     ]
    },
    {
     "ename": "ValueError",
     "evalue": "not enough values to unpack (expected 4, got 1)",
     "output_type": "error",
     "traceback": [
      "\u001b[0;31m---------------------------------------------------------------------------\u001b[0m",
      "\u001b[0;31mValueError\u001b[0m                                Traceback (most recent call last)",
      "Cell \u001b[0;32mIn[25], line 15\u001b[0m\n\u001b[1;32m     13\u001b[0m \u001b[38;5;66;03m# Optimization\u001b[39;00m\n\u001b[1;32m     14\u001b[0m param_0 \u001b[38;5;241m=\u001b[39m \u001b[38;5;241m0.05\u001b[39m  \u001b[38;5;66;03m# Initial guess for the forward rate\u001b[39;00m\n\u001b[0;32m---> 15\u001b[0m result \u001b[38;5;241m=\u001b[39m \u001b[43mminimize\u001b[49m\u001b[43m(\u001b[49m\u001b[43mfid\u001b[49m\u001b[38;5;241;43m.\u001b[39;49m\u001b[43mfit_vasicek_obj\u001b[49m\u001b[43m,\u001b[49m\u001b[43m \u001b[49m\u001b[43mparam_0\u001b[49m\u001b[43m,\u001b[49m\u001b[43m \u001b[49m\u001b[43mmethod\u001b[49m\u001b[38;5;241;43m=\u001b[39;49m\u001b[38;5;124;43m'\u001b[39;49m\u001b[38;5;124;43mnelder-mead\u001b[39;49m\u001b[38;5;124;43m'\u001b[39;49m\u001b[43m,\u001b[49m\u001b[43m \u001b[49m\u001b[43margs\u001b[49m\u001b[38;5;241;43m=\u001b[39;49m\u001b[43m(\u001b[49m\u001b[43mR_swap\u001b[49m\u001b[43m,\u001b[49m\u001b[43m \u001b[49m\u001b[43mT\u001b[49m\u001b[43m)\u001b[49m\u001b[43m,\u001b[49m\u001b[43m \u001b[49m\u001b[43moptions\u001b[49m\u001b[38;5;241;43m=\u001b[39;49m\u001b[43m{\u001b[49m\u001b[38;5;124;43m'\u001b[39;49m\u001b[38;5;124;43mxatol\u001b[39;49m\u001b[38;5;124;43m'\u001b[39;49m\u001b[43m:\u001b[49m\u001b[43m \u001b[49m\u001b[38;5;241;43m1e-20\u001b[39;49m\u001b[43m,\u001b[49m\u001b[43m \u001b[49m\u001b[38;5;124;43m'\u001b[39;49m\u001b[38;5;124;43mdisp\u001b[39;49m\u001b[38;5;124;43m'\u001b[39;49m\u001b[43m:\u001b[49m\u001b[43m \u001b[49m\u001b[38;5;28;43;01mTrue\u001b[39;49;00m\u001b[43m}\u001b[49m\u001b[43m)\u001b[49m\n\u001b[1;32m     17\u001b[0m forward_rate_3Y3Y \u001b[38;5;241m=\u001b[39m result\u001b[38;5;241m.\u001b[39mx[\u001b[38;5;241m0\u001b[39m]\n\u001b[1;32m     18\u001b[0m \u001b[38;5;28mprint\u001b[39m(\u001b[38;5;124mf\u001b[39m\u001b[38;5;124m\"\u001b[39m\u001b[38;5;124m3Y3Y Forward Par Swap Rate: \u001b[39m\u001b[38;5;132;01m{\u001b[39;00mforward_rate_3Y3Y\u001b[38;5;132;01m}\u001b[39;00m\u001b[38;5;124m\"\u001b[39m)\n",
      "File \u001b[0;32m/opt/anaconda3/lib/python3.8/site-packages/scipy/optimize/_minimize.py:684\u001b[0m, in \u001b[0;36mminimize\u001b[0;34m(fun, x0, args, method, jac, hess, hessp, bounds, constraints, tol, callback, options)\u001b[0m\n\u001b[1;32m    681\u001b[0m     bounds \u001b[38;5;241m=\u001b[39m standardize_bounds(bounds, x0, meth)\n\u001b[1;32m    683\u001b[0m \u001b[38;5;28;01mif\u001b[39;00m meth \u001b[38;5;241m==\u001b[39m \u001b[38;5;124m'\u001b[39m\u001b[38;5;124mnelder-mead\u001b[39m\u001b[38;5;124m'\u001b[39m:\n\u001b[0;32m--> 684\u001b[0m     res \u001b[38;5;241m=\u001b[39m \u001b[43m_minimize_neldermead\u001b[49m\u001b[43m(\u001b[49m\u001b[43mfun\u001b[49m\u001b[43m,\u001b[49m\u001b[43m \u001b[49m\u001b[43mx0\u001b[49m\u001b[43m,\u001b[49m\u001b[43m \u001b[49m\u001b[43margs\u001b[49m\u001b[43m,\u001b[49m\u001b[43m \u001b[49m\u001b[43mcallback\u001b[49m\u001b[43m,\u001b[49m\u001b[43m \u001b[49m\u001b[43mbounds\u001b[49m\u001b[38;5;241;43m=\u001b[39;49m\u001b[43mbounds\u001b[49m\u001b[43m,\u001b[49m\n\u001b[1;32m    685\u001b[0m \u001b[43m                               \u001b[49m\u001b[38;5;241;43m*\u001b[39;49m\u001b[38;5;241;43m*\u001b[39;49m\u001b[43moptions\u001b[49m\u001b[43m)\u001b[49m\n\u001b[1;32m    686\u001b[0m \u001b[38;5;28;01melif\u001b[39;00m meth \u001b[38;5;241m==\u001b[39m \u001b[38;5;124m'\u001b[39m\u001b[38;5;124mpowell\u001b[39m\u001b[38;5;124m'\u001b[39m:\n\u001b[1;32m    687\u001b[0m     res \u001b[38;5;241m=\u001b[39m _minimize_powell(fun, x0, args, callback, bounds, \u001b[38;5;241m*\u001b[39m\u001b[38;5;241m*\u001b[39moptions)\n",
      "File \u001b[0;32m/opt/anaconda3/lib/python3.8/site-packages/scipy/optimize/_optimize.py:845\u001b[0m, in \u001b[0;36m_minimize_neldermead\u001b[0;34m(func, x0, args, callback, maxiter, maxfev, disp, return_all, initial_simplex, xatol, fatol, adaptive, bounds, **unknown_options)\u001b[0m\n\u001b[1;32m    843\u001b[0m \u001b[38;5;28;01mtry\u001b[39;00m:\n\u001b[1;32m    844\u001b[0m     \u001b[38;5;28;01mfor\u001b[39;00m k \u001b[38;5;129;01min\u001b[39;00m \u001b[38;5;28mrange\u001b[39m(N \u001b[38;5;241m+\u001b[39m \u001b[38;5;241m1\u001b[39m):\n\u001b[0;32m--> 845\u001b[0m         fsim[k] \u001b[38;5;241m=\u001b[39m \u001b[43mfunc\u001b[49m\u001b[43m(\u001b[49m\u001b[43msim\u001b[49m\u001b[43m[\u001b[49m\u001b[43mk\u001b[49m\u001b[43m]\u001b[49m\u001b[43m)\u001b[49m\n\u001b[1;32m    846\u001b[0m \u001b[38;5;28;01mexcept\u001b[39;00m _MaxFuncCallError:\n\u001b[1;32m    847\u001b[0m     \u001b[38;5;28;01mpass\u001b[39;00m\n",
      "File \u001b[0;32m/opt/anaconda3/lib/python3.8/site-packages/scipy/optimize/_optimize.py:569\u001b[0m, in \u001b[0;36m_wrap_scalar_function_maxfun_validation.<locals>.function_wrapper\u001b[0;34m(x, *wrapper_args)\u001b[0m\n\u001b[1;32m    567\u001b[0m ncalls[\u001b[38;5;241m0\u001b[39m] \u001b[38;5;241m+\u001b[39m\u001b[38;5;241m=\u001b[39m \u001b[38;5;241m1\u001b[39m\n\u001b[1;32m    568\u001b[0m \u001b[38;5;66;03m# A copy of x is sent to the user function (gh13740)\u001b[39;00m\n\u001b[0;32m--> 569\u001b[0m fx \u001b[38;5;241m=\u001b[39m \u001b[43mfunction\u001b[49m\u001b[43m(\u001b[49m\u001b[43mnp\u001b[49m\u001b[38;5;241;43m.\u001b[39;49m\u001b[43mcopy\u001b[49m\u001b[43m(\u001b[49m\u001b[43mx\u001b[49m\u001b[43m)\u001b[49m\u001b[43m,\u001b[49m\u001b[43m \u001b[49m\u001b[38;5;241;43m*\u001b[39;49m\u001b[43m(\u001b[49m\u001b[43mwrapper_args\u001b[49m\u001b[43m \u001b[49m\u001b[38;5;241;43m+\u001b[39;49m\u001b[43m \u001b[49m\u001b[43margs\u001b[49m\u001b[43m)\u001b[49m\u001b[43m)\u001b[49m\n\u001b[1;32m    570\u001b[0m \u001b[38;5;66;03m# Ideally, we'd like to a have a true scalar returned from f(x). For\u001b[39;00m\n\u001b[1;32m    571\u001b[0m \u001b[38;5;66;03m# backwards-compatibility, also allow np.array([1.3]),\u001b[39;00m\n\u001b[1;32m    572\u001b[0m \u001b[38;5;66;03m# np.array([[1.3]]) etc.\u001b[39;00m\n\u001b[1;32m    573\u001b[0m \u001b[38;5;28;01mif\u001b[39;00m \u001b[38;5;129;01mnot\u001b[39;00m np\u001b[38;5;241m.\u001b[39misscalar(fx):\n",
      "File \u001b[0;32m~/Python/fixed_income_derivatives.py:499\u001b[0m, in \u001b[0;36mfit_vasicek_obj\u001b[0;34m(param, R_star, T, scaling)\u001b[0m\n\u001b[1;32m    498\u001b[0m \u001b[38;5;28;01mdef\u001b[39;00m \u001b[38;5;21mfit_vasicek_obj\u001b[39m(param,R_star,T,scaling \u001b[38;5;241m=\u001b[39m \u001b[38;5;241m1\u001b[39m):\n\u001b[0;32m--> 499\u001b[0m     r0, a, b, sigma \u001b[38;5;241m=\u001b[39m param\n\u001b[1;32m    500\u001b[0m     M \u001b[38;5;241m=\u001b[39m \u001b[38;5;28mlen\u001b[39m(T)\n\u001b[1;32m    501\u001b[0m     R_fit \u001b[38;5;241m=\u001b[39m spot_rate_vasicek(r0,a,b,sigma,T)\n",
      "\u001b[0;31mValueError\u001b[0m: not enough values to unpack (expected 4, got 1)"
     ]
    }
   ],
   "source": [
    "alpha = 0.5\n",
    "M = 13\n",
    "T = np.array([i * alpha for i in range(0, M)])\n",
    "idx_n, idx_N = 3, 6\n",
    "S_swap = 0\n",
    "\n",
    "for idx in range(idx_n + 1, idx_N + 1):\n",
    "    S_swap += alpha * p[idx]\n",
    "\n",
    "R_swap = (p[idx_n] - p[idx_N]) / S_swap\n",
    "print(f\"Par swap rate: {R_swap}\")\n",
    "\n",
    "# Optimization\n",
    "param_0 = 0.05  # Initial guess for the forward rate\n",
    "result = minimize(fid.fit_vasicek_obj, param_0, method='nelder-mead', args=(R_swap, T), options={'xatol': 1e-20, 'disp': True})\n",
    "\n",
    "forward_rate_3Y3Y = result.x[0]\n",
    "print(f\"3Y3Y Forward Par Swap Rate: {forward_rate_3Y3Y}\")"
   ]
  },
  {
   "cell_type": "markdown",
   "id": "8eacea02-33e6-4aec-a5e0-e1ca188a301c",
   "metadata": {},
   "source": [
    "#### ci)"
   ]
  },
  {
   "cell_type": "markdown",
   "id": "5f07a595-a00f-4168-855c-59a37a2c5725",
   "metadata": {},
   "source": [
    "The a potential upside of the interest rate cap is that If the market interest rate doesn't exceed the strike price, the cap doesn't come into play. In this scenario, the client pays the floating rate, which potentially could be lower than the strike price if rates fall. This means they benefit from the lower rates and avoid the cap premium. However, the potential downside regardless of the market rate, is that the client has already paid the upfront premium for the cap. This sunk cost essentially creates a \"floor\" below which their effective interest expense cannot fall, limiting the overall benefit from significantly declining rates.  \n",
    "\n",
    "\n",
    "The upside to the forward payer swaption is that it if offer a fixed interest rate regardless of future market fluctuations. Entering into a swaption typically involves an upfront premium payment. The downside to this that the initial cost reduces the potential benefit if floating rates remain low or even decline."
   ]
  },
  {
   "cell_type": "markdown",
   "id": "19a5a910-5592-41aa-a25d-dfcc8df67013",
   "metadata": {},
   "source": [
    "#### cii)\n",
    "\n",
    "None of the agreement can provide the client with perfect interest rate protection. There is no single financial instrument that offers complete protection against rising interest rates. However, one can combine strategies to get closer to complete protection: By buying a 3Y3Y payer swaption and an interest rate cap with a strike slightly above the expected future fixed rate (e.g., 0.06), the client can limit the potential losses arising from both rising fixed and floating rates. This strategy would be closest to full protection, but it comes at a cost. The client would need to pay premiums for both the swaption and the cap, increasing the overall cost of hedging. Depending on the clients individual risk aversion towards interest rate fluctuaction he might decide that a stronger hedging is worth the premium. "
   ]
  }
 ],
 "metadata": {
  "kernelspec": {
   "display_name": "Python 3 (ipykernel)",
   "language": "python",
   "name": "python3"
  },
  "language_info": {
   "codemirror_mode": {
    "name": "ipython",
    "version": 3
   },
   "file_extension": ".py",
   "mimetype": "text/x-python",
   "name": "python",
   "nbconvert_exporter": "python",
   "pygments_lexer": "ipython3",
   "version": "3.8.18"
  }
 },
 "nbformat": 4,
 "nbformat_minor": 5
}

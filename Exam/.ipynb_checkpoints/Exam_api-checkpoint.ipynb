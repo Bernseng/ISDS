{
 "cells": [
  {
   "cell_type": "markdown",
   "metadata": {},
   "source": [
    "## Testing for data scrabing on Esco and Jobnet"
   ]
  },
  {
   "cell_type": "code",
   "execution_count": 110,
   "metadata": {},
   "outputs": [],
   "source": [
    "# Import magics\n",
    "\n",
    "import pandas as pd\n",
    "import numpy as np\n",
    "import seaborn as sns\n",
    "import matplotlib.pyplot as plt\n",
    "from pathlib import Path\n",
    "import re\n",
    "import requests\n",
    "from selenium import webdriver\n",
    "from webdriver_manager.chrome import ChromeDriverManager\n",
    "from selenium.webdriver.common.by import By\n",
    "from bs4 import BeautifulSoup\n",
    "\n",
    "output = Path('ISDS/Exam/output')"
   ]
  },
  {
   "cell_type": "markdown",
   "metadata": {},
   "source": [
    "## Importing data from Danmarks Statistik"
   ]
  },
  {
   "cell_type": "code",
   "execution_count": null,
   "metadata": {},
   "outputs": [],
   "source": [
    "uri = 'https://api.statbank.dk/v1/data/LSK01/CSV?Branche(Stub)=3&Enhed=LS&Tid=*'\n",
    "\n",
    "df_stat = pd.read_csv(uri, sep=';')\n",
    "\n",
    "df_stat"
   ]
  },
  {
   "cell_type": "code",
   "execution_count": null,
   "metadata": {},
   "outputs": [],
   "source": [
    "uri = 'https://api.statbank.dk/v1/data/AUL01/CSV?Omr%C3%A5de=000&YDELSESTYPE=TOT&AKASSE=TOT&ALDER=TOT&ALDER=&K%C3%98N=M%2CK%2C*&Tid(Head)=*'\n",
    "\n",
    "df_ledighed = pd.read_csv(uri, sep=';')\n",
    "\n",
    "df_ledighed=df_ledighed.iloc[:, 4:]\n",
    "\n",
    "df_ledighed.groupby('TID')\n",
    "\n",
    "df_ledighed"
   ]
  },
  {
   "cell_type": "markdown",
   "metadata": {},
   "source": [
    "## Selecting data on Jonindex"
   ]
  },
  {
   "cell_type": "code",
   "execution_count": 111,
   "metadata": {},
   "outputs": [],
   "source": [
    "url = 'https://www.jobindex.dk/jobsoegning?archive=1&ref=google-sbty'\n",
    "\n",
    "response = requests.get(url)\n",
    "\n",
    "soup = BeautifulSoup(response.content, 'lxml')"
   ]
  },
  {
   "cell_type": "markdown",
   "metadata": {},
   "source": [
    "## Importing skills from ESCO"
   ]
  },
  {
   "cell_type": "code",
   "execution_count": null,
   "metadata": {},
   "outputs": [],
   "source": [
    "url = 'https://esco.ec.europa.eu/da/classification/skill_main'\n",
    "\n",
    "driver = webdriver.Chrome(ChromeDriverManager().install())\n",
    "\n",
    "driver.implicitly_wait(100) #Waits maximum 100 seconds for an element to be found in the HTML.\n",
    "\n",
    "driver.get(url)\n",
    "\n",
    "cookie = driver.find_element(By.CSS_SELECTOR, '.ea_ignore')\n",
    "\n",
    "cookie.click()\n",
    "\n",
    "søger = driver.find_element(By.CSS_SELECTOR, '#edit-keyword')\n",
    "\n",
    "søger.click()\n"
   ]
  },
  {
   "cell_type": "code",
   "execution_count": null,
   "metadata": {},
   "outputs": [],
   "source": [
    "url = 'http://ec.europa.eu/esco/api/search?language=da&type=skill&text=python'\n",
    "\n",
    "response = requests.get(url)\n",
    "\n",
    "result = response.json()\n",
    "\n",
    "result = result['_embedded']['results'][0:1]\n",
    "\n",
    "df = pd.DataFrame(result)\n",
    "\n",
    "df"
   ]
  },
  {
   "cell_type": "code",
   "execution_count": null,
   "metadata": {},
   "outputs": [],
   "source": [
    "url = 'http://data.europa.eu/esco/api/resource/skill?uri=https://esco.ec.europa.eu/da/classification/skill_main'\n",
    "\n",
    "response = requests.get(url)\n",
    "\n",
    "result = response.json()\n",
    "\n",
    "#result = result['_embedded']['results'][0:1]\n",
    "\n",
    "#df = pd.DataFrame(result)\n",
    "\n",
    "#df"
   ]
  },
  {
   "cell_type": "code",
   "execution_count": null,
   "metadata": {},
   "outputs": [],
   "source": []
  }
 ],
 "metadata": {
  "kernelspec": {
   "display_name": "Python 3.9.7 ('base')",
   "language": "python",
   "name": "python3"
  },
  "language_info": {
   "codemirror_mode": {
    "name": "ipython",
    "version": 3
   },
   "file_extension": ".py",
   "mimetype": "text/x-python",
   "name": "python",
   "nbconvert_exporter": "python",
   "pygments_lexer": "ipython3",
   "version": "3.9.7"
  },
  "orig_nbformat": 4,
  "vscode": {
   "interpreter": {
    "hash": "f391330d4b460aafb87b0964baa3bc9feb41f83abb3c41e72e23789a7e646ea5"
   }
  }
 },
 "nbformat": 4,
 "nbformat_minor": 2
}

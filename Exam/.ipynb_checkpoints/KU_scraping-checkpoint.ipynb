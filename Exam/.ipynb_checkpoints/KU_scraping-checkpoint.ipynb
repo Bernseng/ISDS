{
 "cells": [
  {
   "cell_type": "code",
   "execution_count": null,
   "metadata": {},
   "outputs": [],
   "source": [
    "# Import magics\n",
    "\n",
    "!pip install selenium\n",
    "!pip install webdriver_manager\n",
    "\n",
    "\n",
    "import pandas as pd\n",
    "import numpy as np\n",
    "import seaborn as sns\n",
    "import matplotlib.pyplot as plt\n",
    "from pathlib import Path\n",
    "import re\n",
    "import requests\n",
    "from selenium import webdriver\n",
    "from webdriver_manager.chrome import ChromeDriverManager\n",
    "from selenium.webdriver.common.by import By\n",
    "from bs4 import BeautifulSoup\n",
    "\n",
    "output = Path('ISDS/Exam/output')"
   ]
  },
  {
   "cell_type": "markdown",
   "metadata": {},
   "source": [
    "## Scrapping KU\n"
   ]
  },
  {
   "cell_type": "code",
   "execution_count": 43,
   "metadata": {},
   "outputs": [],
   "source": [
    "def extract_ku(fag):\n",
    "    \n",
    "    headers = {'User-Agent':'bwt973@alumni.ku.dk'}\n",
    "    \n",
    "    url = f\"https://studier.ku.dk/kandidat/{fag}/faglig-profil-og-job/\"\n",
    "    \n",
    "    r = requests.get(url, headers)\n",
    "\n",
    "    soup = BeautifulSoup(r.content.decode(\"utf-8\"), \"html.parser\")\n",
    "    \n",
    "    return soup\n",
    "\n",
    "def transform_ku(soup):\n",
    "\n",
    "    divs = soup.find_all(\"div\", class_=\"col-xs-12 col-sm-8 col-md-6 main-content\")\n",
    "\n",
    "    text_ku =[]\n",
    "\n",
    "    for i in range(len(divs)):\n",
    "        text_ku.append(divs[i].find_all(\"p\"))\n",
    "\n",
    "    divs2 = soup.find_all(\"div\", class_=\"col-xs-12 col-sm-8 col-md-6 main-content\")\n",
    "\n",
    "    for i in range(len(divs2)):\n",
    "        text_ku.append(divs2[i].find_all(\"ul\"))\n",
    "    \n",
    "    return text_ku\n",
    "\n",
    "ku_list = []\n",
    "\n",
    "search_list = ['psykologi', 'sociologi', 'statskundskab', 'antropologi', 'oekonomi']\n",
    "\n",
    "\n",
    "for k in search_list:\n",
    "    soup = extract_ku(k)\n",
    "    ku_list.append(transform_ku(soup))\n",
    "\n",
    "ku_df = pd.DataFrame(data=ku_list)\n",
    "\n",
    "#Merging the two colums \n",
    "ku_df=ku_df[0]+ku_df[1]\n",
    "\n",
    "#Making the object a dataframe\n",
    "ku_df=pd.DataFrame(ku_df)\n",
    "\n",
    "ku_df=pd.DataFrame.transpose(ku_df)\n",
    "\n",
    "ku_df.columns=['cand.psych', 'cand.scient.soc', 'cand.scient.pol', 'cand.scient.anth', 'cand.oecon']"
   ]
  },
  {
   "cell_type": "code",
   "execution_count": 44,
   "metadata": {},
   "outputs": [
    {
     "data": {
      "text/html": [
       "<div>\n",
       "<style scoped>\n",
       "    .dataframe tbody tr th:only-of-type {\n",
       "        vertical-align: middle;\n",
       "    }\n",
       "\n",
       "    .dataframe tbody tr th {\n",
       "        vertical-align: top;\n",
       "    }\n",
       "\n",
       "    .dataframe thead th {\n",
       "        text-align: right;\n",
       "    }\n",
       "</style>\n",
       "<table border=\"1\" class=\"dataframe\">\n",
       "  <thead>\n",
       "    <tr style=\"text-align: right;\">\n",
       "      <th></th>\n",
       "      <th>cand.psych</th>\n",
       "      <th>cand.scient.soc</th>\n",
       "      <th>cand.scient.pol</th>\n",
       "      <th>cand.scient.anth</th>\n",
       "      <th>cand.oecon</th>\n",
       "    </tr>\n",
       "  </thead>\n",
       "  <tbody>\n",
       "    <tr>\n",
       "      <th>0</th>\n",
       "      <td>[[Psykologi er studiet af menneskets tænkning,...</td>\n",
       "      <td>[[Som sociolog er du interesseret i, hvordan o...</td>\n",
       "      <td>[[Hvis du interesserer dig for samfundet omkri...</td>\n",
       "      <td>[[Som færdiguddannet antropolog kan du arbejde...</td>\n",
       "      <td>[[Din internetbrowser understøtter ikke iframe...</td>\n",
       "    </tr>\n",
       "  </tbody>\n",
       "</table>\n",
       "</div>"
      ],
      "text/plain": [
       "                                          cand.psych  \\\n",
       "0  [[Psykologi er studiet af menneskets tænkning,...   \n",
       "\n",
       "                                     cand.scient.soc  \\\n",
       "0  [[Som sociolog er du interesseret i, hvordan o...   \n",
       "\n",
       "                                     cand.scient.pol  \\\n",
       "0  [[Hvis du interesserer dig for samfundet omkri...   \n",
       "\n",
       "                                    cand.scient.anth  \\\n",
       "0  [[Som færdiguddannet antropolog kan du arbejde...   \n",
       "\n",
       "                                          cand.oecon  \n",
       "0  [[Din internetbrowser understøtter ikke iframe...  "
      ]
     },
     "execution_count": 44,
     "metadata": {},
     "output_type": "execute_result"
    }
   ],
   "source": [
    "#ku_df['KU'].loc[4]\n",
    "ku_df"
   ]
  },
  {
   "cell_type": "markdown",
   "metadata": {},
   "source": [
    "## Data Cleaning KU "
   ]
  },
  {
   "cell_type": "code",
   "execution_count": null,
   "metadata": {},
   "outputs": [],
   "source": []
  },
  {
   "cell_type": "markdown",
   "metadata": {},
   "source": [
    "## Scrapping AAU"
   ]
  },
  {
   "cell_type": "code",
   "execution_count": 45,
   "metadata": {},
   "outputs": [],
   "source": [
    "def extract_aau(fag):\n",
    "    \n",
    "    headers = {'User-Agent':'bwt973@alumni.ku.dk'}\n",
    "    \n",
    "    url = f\"https://www.aau.dk/uddannelser/kandidat/{fag}\"\n",
    "    \n",
    "    r = requests.get(url, headers)\n",
    "\n",
    "    soup = BeautifulSoup(r.content.decode(\"utf-8\"), \"html.parser\")\n",
    "    \n",
    "    return soup\n",
    "\n",
    "def transform_aau(soup):\n",
    "\n",
    "    divs = soup.find_all(\"main\", class_=\"Main_Main__2KIvG\")\n",
    "\n",
    "    for item in divs:\n",
    "        text_aau = item.find_all()[0].text.strip()\n",
    "\n",
    "        aau_text = {\n",
    "            \"text_aau\" : text_aau, \n",
    "        }\n",
    "        aau_list.append(aau_text)\n",
    "\n",
    "    return text_aau\n",
    "\n",
    "aau_list = []\n",
    "\n",
    "search_list = ['psykologi', 'sociologi', 'oekonomi']\n",
    "\n",
    "for k in search_list:\n",
    "    try: \n",
    "        soup = extract_aau(k)\n",
    "        transform_aau(soup)\n",
    "    except:\n",
    "        break\n",
    "\n",
    "aau_df = pd.DataFrame(data=aau_list)\n",
    "\n",
    "aau_df=pd.DataFrame.transpose(aau_df)\n",
    "\n",
    "aau_df.columns=['cand.psych', 'cand.scient.soc', 'cand.oecon']"
   ]
  },
  {
   "cell_type": "code",
   "execution_count": 46,
   "metadata": {},
   "outputs": [
    {
     "data": {
      "text/html": [
       "<div>\n",
       "<style scoped>\n",
       "    .dataframe tbody tr th:only-of-type {\n",
       "        vertical-align: middle;\n",
       "    }\n",
       "\n",
       "    .dataframe tbody tr th {\n",
       "        vertical-align: top;\n",
       "    }\n",
       "\n",
       "    .dataframe thead th {\n",
       "        text-align: right;\n",
       "    }\n",
       "</style>\n",
       "<table border=\"1\" class=\"dataframe\">\n",
       "  <thead>\n",
       "    <tr style=\"text-align: right;\">\n",
       "      <th></th>\n",
       "      <th>cand.psych</th>\n",
       "      <th>cand.scient.soc</th>\n",
       "      <th>cand.oecon</th>\n",
       "    </tr>\n",
       "  </thead>\n",
       "  <tbody>\n",
       "    <tr>\n",
       "      <th>text_aau</th>\n",
       "      <td>KandidatPsykologiUddannelsen uddanner dig til ...</td>\n",
       "      <td>KandidatSociologiUddannelsen bygger videre på ...</td>\n",
       "      <td>KandidatØkonomiDu lærer at analysere samfundsø...</td>\n",
       "    </tr>\n",
       "  </tbody>\n",
       "</table>\n",
       "</div>"
      ],
      "text/plain": [
       "                                                 cand.psych  \\\n",
       "text_aau  KandidatPsykologiUddannelsen uddanner dig til ...   \n",
       "\n",
       "                                            cand.scient.soc  \\\n",
       "text_aau  KandidatSociologiUddannelsen bygger videre på ...   \n",
       "\n",
       "                                                 cand.oecon  \n",
       "text_aau  KandidatØkonomiDu lærer at analysere samfundsø...  "
      ]
     },
     "execution_count": 46,
     "metadata": {},
     "output_type": "execute_result"
    }
   ],
   "source": [
    "aau_df\n",
    "#aau_df['text_aau'].loc[0]"
   ]
  }
 ],
 "metadata": {
  "interpreter": {
   "hash": "df9e3ca80c3193efe04a4fad4b77cbf2a7821bc792ced39580873dd75ee30dd1"
  },
  "kernelspec": {
   "display_name": "Python 3.9.7 ('base')",
   "language": "python",
   "name": "python3"
  },
  "language_info": {
   "codemirror_mode": {
    "name": "ipython",
    "version": 3
   },
   "file_extension": ".py",
   "mimetype": "text/x-python",
   "name": "python",
   "nbconvert_exporter": "python",
   "pygments_lexer": "ipython3",
   "version": "3.9.7"
  },
  "orig_nbformat": 4
 },
 "nbformat": 4,
 "nbformat_minor": 2
}

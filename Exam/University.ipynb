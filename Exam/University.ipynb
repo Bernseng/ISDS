{
 "cells": [
  {
   "cell_type": "code",
   "execution_count": 1,
   "id": "0fe9433d-fa39-4bb6-b2f4-4727bdca3b79",
   "metadata": {},
   "outputs": [
    {
     "name": "stderr",
     "output_type": "stream",
     "text": [
      "[nltk_data] Downloading package stopwords to\n",
      "[nltk_data]     /Users/nicolaibernsen/nltk_data...\n",
      "[nltk_data]   Package stopwords is already up-to-date!\n",
      "[nltk_data] Downloading package punkt to\n",
      "[nltk_data]     /Users/nicolaibernsen/nltk_data...\n",
      "[nltk_data]   Package punkt is already up-to-date!\n"
     ]
    }
   ],
   "source": [
    "import pandas as pd\n",
    "import numpy as np\n",
    "import seaborn as sns\n",
    "import matplotlib.pyplot as plt\n",
    "from pathlib import Path\n",
    "import re\n",
    "import requests\n",
    "from selenium import webdriver\n",
    "from webdriver_manager.chrome import ChromeDriverManager\n",
    "from selenium.webdriver.common.by import By\n",
    "from bs4 import BeautifulSoup\n",
    "import nltk\n",
    "nltk.download('stopwords')\n",
    "from nltk.corpus import stopwords\n",
    "nltk.download('punkt')\n",
    "from nltk.tokenize import word_tokenize\n",
    "\n",
    "from function import *"
   ]
  },
  {
   "cell_type": "markdown",
   "id": "0c296b50-b01d-4204-8de9-7c988def9d34",
   "metadata": {},
   "source": [
    "## Scraping KU, AU and AAU"
   ]
  },
  {
   "cell_type": "code",
   "execution_count": 2,
   "id": "067a3c81-64fa-42a9-994e-8ac5605d204f",
   "metadata": {
    "tags": []
   },
   "outputs": [],
   "source": [
    "ku_list = []\n",
    "\n",
    "search_list = ['psykologi', 'sociologi', 'statskundskab', 'antropologi', 'oekonomi']\n",
    "\n",
    "\n",
    "for k in search_list:\n",
    "    soup = extract_ku(k)\n",
    "    ku_list.append(transform_ku(soup))\n",
    "\n",
    "ku_df = pd.DataFrame(data=ku_list)\n",
    "\n",
    "#Merging the two colums \n",
    "ku_df=ku_df[0]+ku_df[1]\n",
    "\n",
    "#Making the object a dataframe\n",
    "ku_df=pd.DataFrame(ku_df)\n",
    "\n",
    "ku_df=pd.DataFrame.transpose(ku_df)\n",
    "\n",
    "ku_df.columns=['cand.psych_ku', 'cand.scient.soc_ku', 'cand.scient.pol_ku', 'cand.scient.anth_ku', 'cand.oecon_ku']"
   ]
  },
  {
   "cell_type": "code",
   "execution_count": 3,
   "id": "1b7a9327-0378-465c-b3e1-84fa3ad33c53",
   "metadata": {
    "tags": []
   },
   "outputs": [],
   "source": [
    "soup = extract_au('statskundskab')\n",
    "\n",
    "divs = soup.find_all(\"div\", class_=\"large-8 medium-8 medium-only-portrait-12 small-12 columns\")\n",
    "\n",
    "text = soup.find_all('p')\n",
    "\n",
    "text_stats = text[75:77]\n",
    "\n",
    "stats_df = pd.DataFrame(data=text_stats, columns=['cand.scient.pol_au'])\n",
    "stats = pd.DataFrame([', '.join(stats_df['cand.scient.pol_au'].to_list())], columns=['cand.scient.pol_au'])"
   ]
  },
  {
   "cell_type": "code",
   "execution_count": 4,
   "id": "fd176f55-5f90-4ef6-b679-560c61bb439b",
   "metadata": {
    "tags": []
   },
   "outputs": [],
   "source": [
    "soup = extract_au('oekonomi')\n",
    "\n",
    "divs = soup.find_all(\"div\", class_=\"large-8 medium-8 medium-only-portrait-12 small-12 columns\")\n",
    "\n",
    "text = soup.find_all('p')\n",
    "\n",
    "text_oek = text[60:62]\n",
    "\n",
    "oek_df = pd.DataFrame(data=text_oek, columns=['cand.oecon_au'])\n",
    "oek = pd.DataFrame([', '.join(oek_df['cand.oecon_au'].to_list())], columns=['cand.oecon_au'])"
   ]
  },
  {
   "cell_type": "code",
   "execution_count": 5,
   "id": "87d307e3-9a76-42dc-9bd5-1f6ad5998442",
   "metadata": {
    "tags": []
   },
   "outputs": [],
   "source": [
    "soup = extract_au('antropologi')\n",
    "\n",
    "divs = soup.find_all(\"div\", class_=\"large-8 medium-8 medium-only-portrait-12 small-12 columns\")\n",
    "\n",
    "text = soup.find_all('p')\n",
    "\n",
    "text_ant = text[50:55]\n",
    "\n",
    "ant_df = pd.DataFrame(data=text_ant, columns=['cand.scient.anth_au'])\n",
    "ant = pd.DataFrame([', '.join(ant_df['cand.scient.anth_au'].to_list())], columns=['cand.scient.anth_au'])"
   ]
  },
  {
   "cell_type": "code",
   "execution_count": 6,
   "id": "b66f75ec-ae8e-4281-a8a1-8bb1d496b766",
   "metadata": {
    "tags": []
   },
   "outputs": [],
   "source": [
    "soup = extract_au('psykologi')\n",
    "\n",
    "divs = soup.find_all(\"div\", class_=\"large-8 medium-8 medium-only-portrait-12 small-12 columns\")\n",
    "\n",
    "text = soup.find_all('p')\n",
    "\n",
    "text_psyk = text[74:78]\n",
    "\n",
    "psyk_df = pd.DataFrame(data=text_psyk, columns=['cand.psych_au'])\n",
    "psyk = pd.DataFrame([', '.join(psyk_df['cand.psych_au'].to_list())], columns=['cand.psych_au'])"
   ]
  },
  {
   "cell_type": "code",
   "execution_count": 7,
   "id": "02b89b6e-70d3-4bdc-84bd-e34f37643d2c",
   "metadata": {},
   "outputs": [
    {
     "data": {
      "text/plain": [
       "['dine jobmuligheder som antropolog afhænger meget af dine valg og interesser under studiet samt hvilket tilvalg og eventuel kandidatuddannelse du vælger på bacheloruddannelsen i antropologi får du indblik i kulturforskelle og ligheder og lærer at analysere vanskelige kulturspørgsmål du bliver trænet i at udvælge og anvende antropologiske metoder og lærer at formidle dine resultater skriftligt og mundtligt undervejs har du mulighed for at specialisere dig i bestemte emner og regioner såsom sundhed miljø integration eller i særlige kulturelle problemstillinger uddannede antropologer arbejder typisk som projektledere konsulenter undervisere eller som analyse og evalueringsmedarbejdere det kunne eksempelvis være indenfor innovation det sociale område eller udvikling og ulandsbistand ']"
      ]
     },
     "execution_count": 7,
     "metadata": {},
     "output_type": "execute_result"
    }
   ],
   "source": [
    "frames = [ant, stats, psyk, oek]\n",
    "\n",
    "au_df = pd.concat(frames, axis=1)\n",
    "\n",
    "au_df_list = au_df['cand.scient.anth_au'].to_list()\n",
    "au_list = []\n",
    "\n",
    "for i in au_df_list:\n",
    "    au_list.append(clean_text(i))\n",
    "\n",
    "au_list"
   ]
  },
  {
   "cell_type": "code",
   "execution_count": 8,
   "id": "c596e71d-6e6d-4dd1-bf98-f7a1b4d4b5e6",
   "metadata": {
    "tags": []
   },
   "outputs": [
    {
     "data": {
      "text/html": [
       "<div>\n",
       "<style scoped>\n",
       "    .dataframe tbody tr th:only-of-type {\n",
       "        vertical-align: middle;\n",
       "    }\n",
       "\n",
       "    .dataframe tbody tr th {\n",
       "        vertical-align: top;\n",
       "    }\n",
       "\n",
       "    .dataframe thead th {\n",
       "        text-align: right;\n",
       "    }\n",
       "</style>\n",
       "<table border=\"1\" class=\"dataframe\">\n",
       "  <thead>\n",
       "    <tr style=\"text-align: right;\">\n",
       "      <th></th>\n",
       "      <th>cand.psych_aau</th>\n",
       "      <th>cand.scient.soc_aau</th>\n",
       "      <th>cand.oecon_aau</th>\n",
       "    </tr>\n",
       "  </thead>\n",
       "  <tbody>\n",
       "    <tr>\n",
       "      <th>0</th>\n",
       "      <td>KandidatPsykologiUddannelsen uddanner dig til ...</td>\n",
       "      <td>KandidatSociologiUddannelsen bygger videre på ...</td>\n",
       "      <td>KandidatØkonomiDu lærer at analysere samfundsø...</td>\n",
       "    </tr>\n",
       "  </tbody>\n",
       "</table>\n",
       "</div>"
      ],
      "text/plain": [
       "                                      cand.psych_aau  \\\n",
       "0  KandidatPsykologiUddannelsen uddanner dig til ...   \n",
       "\n",
       "                                 cand.scient.soc_aau  \\\n",
       "0  KandidatSociologiUddannelsen bygger videre på ...   \n",
       "\n",
       "                                      cand.oecon_aau  \n",
       "0  KandidatØkonomiDu lærer at analysere samfundsø...  "
      ]
     },
     "execution_count": 8,
     "metadata": {},
     "output_type": "execute_result"
    }
   ],
   "source": [
    "def transform_aau(soup):\n",
    "\n",
    "    divs = soup.find_all(\"main\", class_=\"Main_Main__2KIvG\")\n",
    "\n",
    "    for item in divs:\n",
    "        text_aau = item.find_all()[0].text.strip()\n",
    "\n",
    "        aau_text = {\n",
    "            \"text_aau\" : text_aau, \n",
    "        }\n",
    "        aau_list.append(aau_text)\n",
    "\n",
    "        text_aau = clean_text(text_aau)\n",
    "        \n",
    "    return text_aau\n",
    "\n",
    "aau_list = []\n",
    "\n",
    "search_list = ['psykologi', 'sociologi', 'oekonomi']\n",
    "\n",
    "for k in search_list:\n",
    "    try: \n",
    "        soup = extract_aau(k)\n",
    "        transform_aau(soup)\n",
    "    except:\n",
    "        break\n",
    "\n",
    "aau_df = pd.DataFrame(data=aau_list)\n",
    "\n",
    "aau_df=pd.DataFrame.transpose(aau_df)\n",
    "\n",
    "aau_df.columns=['cand.psych_aau', 'cand.scient.soc_aau', 'cand.oecon_aau']\n",
    "\n",
    "aau_df = aau_df.reset_index(drop=True)\n",
    "\n",
    "aau_df"
   ]
  },
  {
   "cell_type": "markdown",
   "id": "3f2ef60c-1e41-4e51-8449-a9654857f87a",
   "metadata": {},
   "source": [
    "## Combining Dataframes"
   ]
  },
  {
   "cell_type": "code",
   "execution_count": 9,
   "id": "c7d09cf2-d2e5-4b93-990f-645bfbc65164",
   "metadata": {},
   "outputs": [],
   "source": [
    "merge_frames = [ku_df, au_df, aau_df]\n",
    "\n",
    "combined_df = pd.concat(merge_frames, axis=1)\n",
    "\n",
    "combined_df['cand.psych_ku_string'] = [','.join(map(str, l)) for l in combined_df['cand.psych_ku']]\n",
    "combined_df['cand.scient.pol_ku_string'] = [','.join(map(str, l)) for l in combined_df['cand.scient.pol_ku']]\n",
    "combined_df['cand.oecon_ku_string'] = [','.join(map(str, l)) for l in combined_df['cand.oecon_ku']]\n",
    "combined_df['cand.scient.anth_ku_string'] = [','.join(map(str, l)) for l in combined_df['cand.scient.anth_ku']]\n",
    "combined_df['cand.scient.soc_ku_string'] = [','.join(map(str, l)) for l in combined_df['cand.scient.soc_ku']]\n",
    "\n",
    "combined_df['cand.psych'] = combined_df['cand.psych_aau'] + combined_df['cand.psych_au'] + combined_df['cand.psych_ku_string']\n",
    "combined_df['cand.scient.anth'] = combined_df['cand.scient.anth_au'] + combined_df['cand.scient.anth_ku_string']\n",
    "combined_df['cand.scient.pol'] = combined_df['cand.scient.pol_au'] + combined_df['cand.scient.pol_ku_string']\n",
    "combined_df['cand.scient.soc'] = combined_df['cand.scient.soc_aau'] + combined_df['cand.scient.soc_ku_string']\n",
    "combined_df['cand.oecon'] = combined_df['cand.oecon_aau'] + combined_df['cand.oecon_au'] + combined_df['cand.oecon_ku_string']"
   ]
  },
  {
   "cell_type": "code",
   "execution_count": 10,
   "id": "b4e2701d-9c54-4ec8-90a7-893e9e7b71f0",
   "metadata": {},
   "outputs": [],
   "source": [
    "combined_df.drop(['cand.psych_aau', 'cand.scient.soc_aau', 'cand.oecon_aau', 'cand.psych_au', \\\n",
    "                  'cand.scient.anth_au', 'cand.scient.pol_au','cand.oecon_au', \\\n",
    "                  'cand.psych_ku', 'cand.scient.soc_ku', 'cand.scient.pol_ku', 'cand.scient.anth_ku', \\\n",
    "                  'cand.oecon_ku', 'cand.psych_ku_string', 'cand.scient.pol_ku_string', 'cand.oecon_ku_string', \\\n",
    "                  'cand.scient.anth_ku_string', 'cand.scient.soc_ku_string'], axis=1, inplace=True)"
   ]
  },
  {
   "cell_type": "code",
   "execution_count": 11,
   "id": "e7a57452-2f5b-4c69-9e68-f09c7ba9c262",
   "metadata": {},
   "outputs": [
    {
     "data": {
      "text/html": [
       "<div>\n",
       "<style scoped>\n",
       "    .dataframe tbody tr th:only-of-type {\n",
       "        vertical-align: middle;\n",
       "    }\n",
       "\n",
       "    .dataframe tbody tr th {\n",
       "        vertical-align: top;\n",
       "    }\n",
       "\n",
       "    .dataframe thead th {\n",
       "        text-align: right;\n",
       "    }\n",
       "</style>\n",
       "<table border=\"1\" class=\"dataframe\">\n",
       "  <thead>\n",
       "    <tr style=\"text-align: right;\">\n",
       "      <th></th>\n",
       "      <th>cand.psych</th>\n",
       "      <th>cand.scient.anth</th>\n",
       "      <th>cand.scient.pol</th>\n",
       "      <th>cand.scient.soc</th>\n",
       "      <th>cand.oecon</th>\n",
       "    </tr>\n",
       "  </thead>\n",
       "  <tbody>\n",
       "    <tr>\n",
       "      <th>0</th>\n",
       "      <td>KandidatPsykologiUddannelsen uddanner dig til ...</td>\n",
       "      <td>Dine jobmuligheder som antropolog afhænger meg...</td>\n",
       "      <td>Som bachelor i Statskundskab bliver du først o...</td>\n",
       "      <td>KandidatSociologiUddannelsen bygger videre på ...</td>\n",
       "      <td>KandidatØkonomiDu lærer at analysere samfundsø...</td>\n",
       "    </tr>\n",
       "  </tbody>\n",
       "</table>\n",
       "</div>"
      ],
      "text/plain": [
       "                                          cand.psych  \\\n",
       "0  KandidatPsykologiUddannelsen uddanner dig til ...   \n",
       "\n",
       "                                    cand.scient.anth  \\\n",
       "0  Dine jobmuligheder som antropolog afhænger meg...   \n",
       "\n",
       "                                     cand.scient.pol  \\\n",
       "0  Som bachelor i Statskundskab bliver du først o...   \n",
       "\n",
       "                                     cand.scient.soc  \\\n",
       "0  KandidatSociologiUddannelsen bygger videre på ...   \n",
       "\n",
       "                                          cand.oecon  \n",
       "0  KandidatØkonomiDu lærer at analysere samfundsø...  "
      ]
     },
     "execution_count": 11,
     "metadata": {},
     "output_type": "execute_result"
    }
   ],
   "source": [
    "university_df = combined_df\n",
    "university_df"
   ]
  },
  {
   "cell_type": "markdown",
   "id": "d2a91bd7-451a-4147-a376-5f71f10942bf",
   "metadata": {},
   "source": [
    "## Scraping UG"
   ]
  },
  {
   "cell_type": "code",
   "execution_count": 12,
   "id": "daf1b0db-3f21-467a-b6a2-76ab1b5b035c",
   "metadata": {},
   "outputs": [],
   "source": [
    "search_list = ['cand.psych', 'cand.oecon', 'cand.scient.pol', 'cand.scient.anth', 'cand.scient.soc']\n",
    "\n",
    "education_url = []\n",
    "\n",
    "for k in search_list:\n",
    "    for i in range(1):\n",
    "        try: \n",
    "            education_url.append(UG(i,k))\n",
    "        except:\n",
    "            break\n",
    "        \n",
    "education_url[1].pop(0)\n",
    "del education_url[4][0:3]"
   ]
  },
  {
   "cell_type": "code",
   "execution_count": 13,
   "id": "aee6b604-343b-4839-ab40-32930860dabb",
   "metadata": {},
   "outputs": [],
   "source": [
    "psych = clean_text(extract_UG(education_url[0][0]))\n",
    "oecon = extract_UG(education_url[1][0])\n",
    "pol = extract_UG(education_url[2][0])\n",
    "anth = extract_UG(education_url[3][0])\n",
    "soc = extract_UG(education_url[4][0])"
   ]
  },
  {
   "cell_type": "markdown",
   "id": "486a6e99-0d88-424b-a438-303590347f89",
   "metadata": {},
   "source": [
    "## Combining skills from UG and Universities"
   ]
  },
  {
   "cell_type": "code",
   "execution_count": 14,
   "id": "133f73fb-e7b4-4c6e-a37b-565bc6caadaf",
   "metadata": {},
   "outputs": [],
   "source": [
    "strings_psych = psych + university_df['cand.psych']\n",
    "strings_oecon = oecon + university_df['cand.oecon']\n",
    "strings_pol = pol + university_df['cand.scient.pol']\n",
    "strings_anth = anth + university_df['cand.scient.anth']\n",
    "strings_soc = soc + university_df['cand.scient.soc']\n",
    "\n",
    "\n",
    "psych_comb = \" \".join(strings_psych)\n",
    "oecon_comb = \" \".join(strings_oecon)\n",
    "pol_comb = \" \".join(strings_pol)\n",
    "anth_comb = \" \".join(strings_anth)\n",
    "soc_comb = \" \".join(strings_soc)"
   ]
  },
  {
   "cell_type": "code",
   "execution_count": 15,
   "id": "da55ad9f-7fda-4014-b179-98effef6ba75",
   "metadata": {},
   "outputs": [],
   "source": [
    "psych_series = pd.Series(psych_comb)\n",
    "oecon_series = pd.Series(oecon_comb)\n",
    "pol_series = pd.Series(pol_comb)\n",
    "anth_series = pd.Series(anth_comb)\n",
    "soc_series = pd.Series(soc_comb)\n",
    "\n",
    "psych_df = pd.DataFrame(psych_series)\n",
    "oecon_df = pd.DataFrame(oecon_series)\n",
    "pol_df = pd.DataFrame(pol_series)\n",
    "anth_df = pd.DataFrame(anth_series)\n",
    "soc_df = pd.DataFrame(soc_series)\n",
    "\n",
    "psych_df['cand.psych'] = psych_df[0]\n",
    "oecon_df['cand.oecon'] = oecon_df[0]\n",
    "pol_df['cand.scient.pol'] = pol_df[0]\n",
    "anth_df['cand.scient.anth'] = anth_df[0]\n",
    "soc_df['cand.scient.soc'] = soc_df[0]"
   ]
  },
  {
   "cell_type": "code",
   "execution_count": 16,
   "id": "ea2edd18-72c0-47e1-af28-7a69dc420cd2",
   "metadata": {},
   "outputs": [
    {
     "data": {
      "text/html": [
       "<div>\n",
       "<style scoped>\n",
       "    .dataframe tbody tr th:only-of-type {\n",
       "        vertical-align: middle;\n",
       "    }\n",
       "\n",
       "    .dataframe tbody tr th {\n",
       "        vertical-align: top;\n",
       "    }\n",
       "\n",
       "    .dataframe thead th {\n",
       "        text-align: right;\n",
       "    }\n",
       "</style>\n",
       "<table border=\"1\" class=\"dataframe\">\n",
       "  <thead>\n",
       "    <tr style=\"text-align: right;\">\n",
       "      <th></th>\n",
       "      <th>cand.psych</th>\n",
       "      <th>cand.oecon</th>\n",
       "      <th>cand.scient.pol</th>\n",
       "      <th>cand.scient.anth</th>\n",
       "      <th>cand.scient.soc</th>\n",
       "    </tr>\n",
       "  </thead>\n",
       "  <tbody>\n",
       "    <tr>\n",
       "      <th>0</th>\n",
       "      <td>på kandidatuddannelsen arbejder du videnskabe...</td>\n",
       "      <td>på kandidatuddannelsen får du en udvidet fors...</td>\n",
       "      <td>du får analytiske færdigheder og teoretisk in...</td>\n",
       "      <td>du fortsætter studiet af menneskers sociale o...</td>\n",
       "      <td>du vil herunder få specialiseret viden om de ...</td>\n",
       "    </tr>\n",
       "  </tbody>\n",
       "</table>\n",
       "</div>"
      ],
      "text/plain": [
       "                                          cand.psych  \\\n",
       "0   på kandidatuddannelsen arbejder du videnskabe...   \n",
       "\n",
       "                                          cand.oecon  \\\n",
       "0   på kandidatuddannelsen får du en udvidet fors...   \n",
       "\n",
       "                                     cand.scient.pol  \\\n",
       "0   du får analytiske færdigheder og teoretisk in...   \n",
       "\n",
       "                                    cand.scient.anth  \\\n",
       "0   du fortsætter studiet af menneskers sociale o...   \n",
       "\n",
       "                                     cand.scient.soc  \n",
       "0   du vil herunder få specialiseret viden om de ...  "
      ]
     },
     "execution_count": 16,
     "metadata": {},
     "output_type": "execute_result"
    }
   ],
   "source": [
    "final_df = pd.concat([psych_df['cand.psych'], oecon_df['cand.oecon'], pol_df['cand.scient.pol'], \\\n",
    "                      anth_df['cand.scient.anth'], soc_df['cand.scient.soc']], axis=1)\n",
    "\n",
    "final_df = make_a_list(final_df['cand.psych']).append(make_a_list(final_df['cand.oecon'])).append(make_a_list(final_df['cand.scient.pol']))\\\n",
    "    .append(make_a_list(final_df['cand.scient.anth'])).append(make_a_list(final_df['cand.scient.soc']))\n",
    "\n",
    "final_df = final_df.T\n",
    "final_df.columns = ['cand.psych', 'cand.oecon', 'cand.scient.pol', 'cand.scient.anth', 'cand.scient.soc']\n",
    "final_df"
   ]
  },
  {
   "cell_type": "code",
   "execution_count": 17,
   "id": "2b60bc53",
   "metadata": {},
   "outputs": [
    {
     "data": {
      "text/plain": [
       "' på kandidatuddannelsen arbejder du videnskabeligt med faget og øver dig i at bruge det du lærer i praksis uddannelsen belyser forskellige psykologiske problemstillinger som du lærer at tage stilling til gennem teoretisk og metodisk orienteret undervisning som færdiguddannet cand psych kan du bl a arbejde inden for social og sundhedsområdet du kan også arbejde som praktiserende psykolog eller blive ansat i private virksomheder hvor du kan arbejde med personaleudvikling evaluering og samarbejde der er endvidere mulighed for at undervise og forske på uddannelsen lærer du om teorier der beskæftiger sig med menneskets bevidsthedsliv og erkendelse den menneskelige personligheds struktur og udvikling psykiske vanskeligheder lidelser og livskriser du lærer også om interaktionen mellem det enkelte menneske og andre mennesker og samfundet kandidatuddannelsen indeholder undervisning i fag som fx arbejds og organisationspsykologi klinisk psykologi pædagogisk psykologi kognitions og udviklingspsykologi neuro og informationspsykologi social udviklings og integrationspsykologi hovedparten af psykologer er ansat i offentligt regi hvor de udøver forskellige former for behandlings rådgivnings evaluerings og undervisningsarbejde en del cand psych er arbejder som privatpraktiserende psykologer psykologer kan også finde ansættelse på det private arbejdsmarked som konsulenter eller i virksomheders uddannelses personale og vidensafdelinger læs mere om arbejdsområder og typer af job inden for kandidatpsykologiuddannelsen uddanner dig til psykolog (cand psych ) så du kan udføre psykologfagligt arbejde fx udredning rådgivning og terapi den forbereder dig til arbejdet som psykolog i både private og offentlige virksomheder og i selvstændig praksis få kendskab tilvideregående anvendt psykologi teori og metodepsykologisk praktikforløbpsykologisk intervention og testingaalborg2 årig uddannelsedansksøg optagelsekandidatpsykologiuddannelsen uddanner dig til psykolog (cand psych ) så du kan udføre psykologfagligt arbejde fx udredning rådgivning og terapi den forbereder dig til arbejdet som psykolog i både private og offentlige virksomheder og i selvstændig praksis få kendskab tilvideregående anvendt psykologi teori og metodepsykologisk praktikforløbpsykologisk intervention og testingaalborg2 årig uddannelsedansksøg optagelsekandidatuddannelsen i psykologi varer to år og uddanner dig til psykolog (cand psych ) så du kan udføre psykologfagligt arbejde fx udredning rådgivning og terapi adgangskravet er en bacheloruddannelse i psykologi kandidatuddannelsen i psykologi forbereder dig til arbejdet som psykolog i både private og offentlige virksomheder og i selvstændig praksis med en kandidatuddannelse i psykologi kan du blive autoriseret psykolog at arbejde som psykolog kræver både en solid teoretisk ballast samt gode metodiske og praktiske færdigheder derfor lærer du at forstå og forklare komplekse menneskelige reaktionsmønstre i mange forskellige sammenhænge på kandidatstudiet lærer du også hvorledes der kan gribes ind når disse reaktionsmønstre er uhensigtsmæssige fx psykiske sygdomme stress på arbejdspladser eller børn der har vanskelige kår desuden uddannes du til selv at udforme og udføre psykologiske undersøgelser og til at forholde dig kritisk til egne og andres antagelser overordnet set skal du lære at kunne omsætte psykologiske teorier til praksis og du skal lære at kunne vurdere og udvælge de rette psykologiske teorier metoder og redskaber i en given situation endvidere skal du kunne formidle psykologisk viden og diskutere professionelle og videnskabelige problemstillinger med både fagfæller og ikke specialister fagligt indhold kandidatuddannelsen i psykologi består af fire semestre og giver dig mulighed for at fordybe dig i ét af deforskellige professionsprogrammer der hver især er orienteret mod forskellige psykologfaglige praksisser clinical psychology psychotherapy and psychiatry (cppp) cultural psychology and educational practice (cpep) klinikkerne for udviklings og rehabiliteringspsykologi (kur) neuropsykologi du kan læse mere om de enkelte programmer under fordybelsesområderne ”professionsprogrammer” de forskellige professionsprogrammer forbereder dig særligt på visse aspekter af den psykologiske praksis uden at låse dig fast inden for det område du har valgt psykologiuddannelsen er en generalistuddannelse som ikke giver kvalifikationer inden for særlige områder men ruster dig til at arbejde bredt indenfor det psykologiske felt semesteroversigt1 semesterpå dette semester introduceres du til en række psykologfaglige færdigheder der er nødvendige for at kunne løse opgaver i det psykologiske felt det drejer sig om udredningskompetencer og interventionsteknikker du bliver også introduceret til jura og etik og fordyber dig i et område af den anvendte psykologi kurser på 1 semester videregående anvendt psykologi 1 dette kursus foregår på dit professionsprogram hvor du fordyber dig i et bestemt område af den anvendte psykologi du lærer om hvorledes man forstå psykologiske problemstillinger indenfor området hvilke interventionsmuligheder der er og hvilke begrænsninger der knytter sig til disse supplerende anvendt psykologi da kandidatuddannelsen i psykologi er en generalistuddannelse er det vigtigt at du lærer om andre anvendte områder end den som du fordyber dig i igennem dit professionsprogram dette kursus skaber et overblik over de forskellige anvendte områder indenfor psykologien psykologisk testning her lærer du at anvende standardiserede psykologiske test for at udrede indenfor både børneområdet og voksenområdet den psykologiske profession dette kursus har til formål at forstå jura og etik knyttet til arbejdet som psykolog du lærer også om teorier om psykologens dømmekraft og hvorledes man anvender videnskabelig viden i praksis psykologisk praksis og interventionsmetode her lærer du basale samtaleterapeutiske teknikker og introduceres til andre interventionsmetoder 2 semesterpå dette semester kommer du i praktik hvor du skal prøve at være i den professionelle praksis hvor du får erfaringer med selv at udføre praktiske psykologopgaver du følger også et kursus på dit professionsprogram der styrker din forståelse af det anvendte felt yderligere kurser på 2 semester videregående anvendt psykologi 2 dette kursus er forankret i dit professionsprogram og bygger videre på videregående anvendt psykologi 1 psykologisk praktisk forløb du er i praktik hos en psykolog idage hvor du får erfaring med at udføre praktiske psykologopgaver samtidig med at du får vejledning og supervision se mere under praktik og udenlandsophold 3 semestermålet med dette semester er at fordybe dig i et selvstændigt valgt emne indenfor den anvendte psykologi ved at skrive et projekt sammen nogle af dine medstuderende på dette semester styrker du yderligere dine videnskabelige metodekompetencer og har et valgfag kurser på 3 semester forskningsmetoder potentialer og begrænsninger i et omfattende metodefelt på dette kursus udbygger du den viden om forskningsmetoder som du oparbejdede i løbet af din bachelor du introduceres til flere metoder og får en større forståelse af forskning indenfor psykologi teori praksis og videnskabelig metode du skriver et projekt sammen med nogle medstuderende om en selvvalgt problemstilling inden for psykologgiens praksisfelt du skal anvende en selvvalgt relevant videnskabelig metode for at undersøge problemstillingen og skrive en projektrapport valgfag du følger et fordybelsesfag ud fra en pallet af fag inden for psykologien 4 semesterpå dit afsluttende semester skriver du dit speciale her samler du trådene fra alle de foregående semestre ved at inddrage forskellige teorier videnskabsteoretiske traditioner historiske perspektiver og psykologiske undersøgelser i besvarelsen af en selvvalgt problemstilling i studieordningen for kandidatuddannelsen i psykologi kan du læse mere om uddannelsens opbygning og indhold job og karriere som psykolog er der mange muligheder åbne på arbejdsmarkedet fælles for dem er at du beskæftiger dig med mennesker og ofte arbejder sammen med andre fagområder som fx socialrådgivere og psykiatere de mest udbredte stillinger er følgende klinisk psykolog som klinisk psykolog arbejder du med patienter som har sindslidelser det kan være i forbindelse med en privat praksis men også på behandlingscentre eller psykiatrien behandlingerne er oftest en række terapeutiske samtaler hvor du støtter patient med at opnå bedre udfoldelsesmuligheder i sin tilværelse arbejds og organisationspsykolog arbejds og organisationspsykologer arbejder med at forbedre arbejdsmiljøer på organisationsniveau men kan også arbejde på individniveau fx med terapi eller at afklare en medarbejders arbejdsmarkedskompetencer arbejdspsykologer arbejder desuden ofte som konsulent i forhold til specifikke opgaver for virksomheder pædagogisk psykolog den pædagogiske psykolog arbejder bl a i ppr (pædagogisk psykologisk rådgivning) på socialkontorer eller som supervisor til pædagoger og andre faggrupper arbejdsfeltet består således bredt set af uddannelsesområdet ex børnehave og skole men også bredere pædagogiske institutioner såsom handicapområdet og arbejdet med anbragte unge opgaverne inkluderer udredning konsultativ rådgivning og terapeutiske interventioner der er et væld af øvrige muligheder som eksempelvis neuropsykolog coach forsker osv kandidatuddannelsen i psykologi giver kompetencer til disse professioner se hvilke job og karrieremuligheder psykologi på aau har ført til (dimittendundersøgelsen) psykologi kandidat aau aalborg 2017få hjælp til dine karriere og jobtanker på aauaau karriere tilbyder sparring på din vej fra studieliv til jobliv mens du studerer på aau kan du deltage i karriere og jobrelaterede arrangementer finde hjælp på vores hjemmeside og booke personlige karrierevejledningssamtaler til en snak om fx ansøgning og cv studiejob og praktiksøgning kompetencer – både de faglige og de mere personlige gode værktøjer til at finde rundt i dine karrieretanker og på arbejdsmarkedet at få hul på jobsøgningen og netværksdannelsen inden du bliver færdiguddannet læs mere om aau karrierelæs uddannelsen somvil du være gymnasielærer har du lyst til at arbejde med undervisning og formidling af viden på gymnasie hf eller handelskoleniveau det får du kompetence til ved at kombinere et centralt fag med et sidefag et faglig uddannelseden et faglige uddannelse er for dig der går efter at bringe din faglighed i spil inden for ét fagområde to faglig uddannelse med et centralt fag og et sidefagden to faglige uddannelse er for dig der gerne vil kombinere et centralt fag med et sidefag fx idræt samfundsfag eller engelsk projektorienteret forløb og udenlandsopholdpsykologisk praktisk forløb finder som hovedregel sted på 8 semester dvs på kandidatuddannelsen i psykologi her kan du prøve at være i den professionelle praksis dvs du får erfaring med selv at udføre praktiske psykologopgaver og kommer til at arbejde med klienter i praksis og får erfaringer med psykologiske arbejdsmetoder som observationer test eller interview i forløbet modtager du vejledning og supervision det giver dig en vished om at du ikke blot behersker faget på et teoretisk plan men også evner at omsætte det i praktiske færdigheder læs mere under de enkelte professionsprogrammer professionsprogrammer kandidatuddannelsen i psykologi harforskellige professionsprogrammer med forskellige underprogrammer under kandidatuddannelsen er man som studerende tilknyttet et af deprofessionsprogrammer kandidatuddannelsen incl specialet beregnes tilects point hvorafects foregår på professionsprogrammet tilknytningen til et professionsprogram indebærer specielt tilrettelagte kursusforløb med fokus på et anvendt område indenfor psykologien selvom den studerende kan tone sin uddannelse ved at følge et professionsprogram så er kandidatuddannelsen i psykologi en generalist uddannelse og alle studerende opnår ved uddannelsens afslutning titlen cand psych det fremgår således ikke af eksamensbeviset hvilket professionsprogram den enkelte studerende har fulgt professionsprogrammerne er forbeholdt de kandidatstuderende i psykologi der er ikke tale om selvstændige uddannelser som man kan søge optagelse på uden at være indskrevet på kandidatuddannelsen i psykologi studerende som er optaget på kandidatuddannelsen kan ønske en bestemt professionsprogram men den studerende er ikke garanteret optagelse på et bestemt program ansøgere til kandidatuddannelsen kan med andre ord ikke garanteres en plads på et bestemt professionsprogram clinical psychology psychotherapy and psychiatry (c ppp)dette kliniske professionsprogram c ppp giver de studerende en bred introduktion til den kliniske psykologis genstandsområde og praksis men også en specialisering der knytter sig til de tre tilhørende kliniske psykologisk praktisk forløb universitetsklinikken (uk) børne unge psykiatri (bup) voksenpsykiatriprogrammet (ap pre) der vil være en gradvis progression henover de tre semestre der starter med en bred introduktion til den kliniske psykologi som brygger videre på fundamentet fra bacheloruddannelsen på c ppp vil studerende opnå en viden om centrale teorier om psykopatologi og interventionsformer baseret på forskning inden for området endvidere vil de studerende igennem deres psykologisk praktisk forløb opnå egne erfaringer med psykologfaglige arbejdsopgaver inden for klinisk psykologi psykoterapi og psykiatri samlet set vil programmet med dets forskellige komponenter inden for teori praksis og forskning give de studerende et solidt fundament for deres videre faglige udvikling som psykologer cultural psychology and educational practice (cpep)cpep er et hovedprogram som består af de to underprogrammer cultural psychology (cp) educational practice (ep) programmet forener kulturpsykologiske og pædagogisk psykologiske perspektiver på psykologi og pædagogis psykologisk praksis overordnet tager de to underprogrammer udgangspunkt i en fælles teoretisk referenceramme som betoner kulturelle normative relationelle sproglige semiotiske strukturelle og diskursive dimensioners betydning for forståelsen af psykologiske fænomener og psykologisk praksis på programmet arbejdes generelt med centrale aktuelle teorier af relevans for forståelsen af psykologiske fænomener og i forhold til psykologfaglig anvendelse med særlig fokus på pædagogisk psykologisk anvendelsesområde klinikkerne for udviklings og rehabiliteringspsykologi (kur)klinikkerne for udviklings og rehabiliteringspsykologi (kur) består af følgende underprogrammer børnesprogklinikken (bspk) klinik for handicap og rehabiliteringspsykologi (khare) klinikkerne har fokus på almen og atypisk udvikling handicap og rehabilitering hos børn unge og voksne endvidere fokuseres på overordnede områder sprogets og kommunikationens betydning for udvikling og trivsel hos primært børn og unge og på psykiske konsekvenser af handicap (fysisk eller psykisk sygdom) i et livslangt perspektiv hvordan man med en målrettet psykologisk intervention kan modvirke og forebygge psykiske problemer formålet er overordnet at fremme livskvalitet og modvirke marginalisering på trods af sygdom eller vanskelige livsbetingelser neuropsykologi (np)professionsprogrammet i neuropsykologi (np) har til formål at ruste de studerende til at varetage arbejdsopgaver bredt indenfor neuropsykologien; såvel det klinisk anvendte område som indenfor de mere grundvidenskabelige områder af neurovidenskaben neuroprogrammet er stærkt forankret i forskning og tilstræber videst muligt at involvere de studerende i denne praksis dette tilstræbes ved at formidle en forståelse af samspillet mellem grundforskning på den ene side og klinisk praksis på den anden professionsprogrammet i neuropsykologi har følgende overordnede målsætninger at sammenkoble teoretisk viden og videnskabelig praksis med anvendte problemstillinger indenfor klinisk neuropsykologi såvel som neurovidenskabelig forskning at skærpe den studerendes evne til at arbejde med neuropsykologiske problemer samt at udforme neuropsykologisk relevante projekter at træne den studerende til at formidle neuropsykologisk viden til fagfolk såvel som lægmænd arbejds og organisationspsykologisk program – work and organizational psychology (aop)aop er et professionsprogram (et struktureret kandidatforløb) på kandidatuddannelsen i psykologi på aalborg universitet programmets målsætning er at kvalificere kandidatstuderende til at arbejde med individer grupper og organisationer i forhold til problematikker der bl a vedrører trivsel læring og innovation programmet har sit udgangspunkt i arbejds og organisationspsykologien med klare forbindelser til disciplinerne sundhedspsykologi klinisk psykologi og pædagogisk psykologi programmets undervisningsaktiviteter er fokuseret på tre emnekredse disse er hhv arbejdsmiljøpsykologi læring og innovation i organisationer og metoder til udredning intervention og praksisudvikling disse temaer behandles både på syvende ottende og niende semester det psykologisk praktiske forløb på aop foregår enten som eksternt praktikforløb eller som intern forskningspraktik kontakt studievejledning og studietpsykologistudievejledning for psykologidet er vigtig at du føler dig klædt på til at træffe det rigtige studievalg studiets vejledere er selv studerende på uddannelsen og de kan bl a vejlede dig om indholdet i det enkelte studium studiemiljø eksamensregler dispensationer m v adressenordkraft teglgårds plads 1 aalborg lokale 11 21 (på niveau 11)telefon9931 15e mailstudvejl psykologi@ikp aau dktræffetidmandag kl 14 30 16 30 og onsdag kl 10 00 12 00ændringerændrede åbningstider mm bliver meldt ud på vores vejledningsside på facebook gå til vores facebooksidekontakt studiethar du spørgsmål angående kandidatuddannelsen kan du kontakte studiet studienævnssekretærandrea von dosenrodead@ikp aau dkstudienævnsforpersonnoomi christine linde matthiesennoomi@ikp aau dkstudieleder tom nyvangnyvang@ikp aau dkaau studie og trivselsvejledning i aalborg universitets studie og trivselsvejledning kan vi hjælpe med blandt andet valg undervejs i studiet studietvivl studieteknik trivsel orlov og udmeldelse eller måske bare en snak om dine tanker om studiet vi snakker gerne med dig om stort som småt åbningstider og kontaktoplysningeroptagelse og adgangskravadgangsgivende uddannelserfølgende uddannelser giver adgang til kandidatuddannelsen i psykologi adgangsgivende uddannelser med retskrav på optagelse bacheloruddannelse i psykologi fra aau (retskrav) adgangsgivende uddannelser uden retskrav på optagelse bacheloruddannelse i psykologi fra københavns universitet syddansk universitet eller aarhus universitet psykologi eller tilsvarende uddannelse fra et andet universitet der ækvivalerer med en dansk bachelorgrad i psykologi se også uddannelsens studieordning studienævnet foretager ikke forhåndsvurdering af adgangsgrundlag det betyder at faglige vurderinger kun foretages i forbindelse med at der indsendes en konkret ansøgning om optagelse for ikke nordiske ansøgere kræves en bestået studieprøve i dansk studieprøven udbydes af de kommunale sprogskoler adgangsbegrænsningder er adgangsbegrænsning til kandidatuddannelsen i psykologi det betyder at det ikke er alle ansøgere der søger rettidigt og som opfylder adgangskravene der er sikret en studieplads studerende som er optaget på kandidatuddannelsen kan ønske en bestemt specialisering (professionsprogram) men den studerende er ikke garanteret optagelse på et bestemt program ansøgere til kandidatuddannelsen kan med andre ord ikke garanteres en plads på en bestemt specialisering udvælgelse til optag udvælgelse til optag sker på baggrund af følgende motivation for optagelse på kandidatuddannelsen ved aalborg universitet herunder mål med kandidatuddannelsen kendskab til kandidatuddannelsen ved aalborg universitet generelt standpunkt/opnåede karakterer i den adgangsgivende uddannelse herunder i bachelorprojektet sprogkundskaber i engelsk ækvivalensredegørelse ansøgningen skal bilægges en omhyggelig redegørelse for den adgangsgivende uddannelses ækvivalens med en dansk bacheloruddannelse i psykologi studienævnet for psykologi har fastlagt følgende ækvivalenskrav til adgangsgivende uddannelse uddannelsen skal omfatte mindstects point i psykologi med et pensum på mindst 15 000 sider og skal være gennemført mindst på bachelorniveau uddannelsen skal som minimum indeholde elementer der ækvivalerer følgende almenpsykologiske grunddiscipliner med samlet mindstects og et pensum på mindst 6 000 sider fordelt efter nedenstående minimumskrav personlighedspsykologi med mindstects og et pensum på mindst 1 000 sider socialpsykologi med mindstects og et pensum på mindst 1 000 sider udviklingspsykologi med mindstects og et pensum på mindst 1 000 sider kognitionspsykologi og biologisk psykologi samlet med mindstects og et pensum på mindst 2 000 sider psykologisk forskningsmetodologi herunder kvalitativ og kvantitativ forskningsmetode inkl statistik med mindstects og et pensum på mindst 1 000 sider psykologiens videnskabsteori med mindstects og et pensum på mindstsider pædagogisk psykologi med mindstects og et pensum på mindst 1 000 sider arbejds og organisationspsykologi med mindstects og et pensum på mindst 1 000 sider klinisk psykologi med psykiatri med mindstects og et pensum på mindst 1 500 sider en almenpsykologisk bachelorafhandling på mindstsider med mindstects og et selvstændigt pensum på mindst 1 200 sider i ækvivalensredegørelsen skal hvert enkelt af de anførte punkter og underpunkter dokumenteres med henvisning til eksamensbevis karakterudskrift fagbeskrivelse semesterplan kursuskatalog el lign pensumopgivelser evt spørgsmål og yderligere information vedr ækvivalensredegørelsen kan rettes til studievejledningen for psykologi ansøgningsprocedureansøgningen skal sendes digitalt via ansøgningssystemet (se link \"søg optagelse\") følgende skal vedhæftes som bilag kopi af eksamensbevis (eftersendes hvis bacheloruddannelsen på ansøgningstidspunktet endnu ikke er afsluttet) kopi af karakterudskrifter af gennemførte fagfuldstændig redegørelse for den adgangsgivende uddannelses ækvivalens med dansk bacheloruddannelse i psykologi (se nedenstående) fagbeskrivelser samt pensumlister for alle beståede fag nævnt i ækvivalensredegørelsen motiveret ansøgning maxanslag curriculum vitae (cv) ækvivalensredegørelse ansøgningen skal bilægges en omhyggelig redegørelse for den adgangsgivende uddannelses ækvivalens med en dansk bacheloruddannelse i psykologi studienævnet for psykologi har fastlagt følgende ækvivalenskrav til adgangsgivende uddannelse uddannelsen skal omfatte mindstects point i psykologi med et pensum på mindst 15 000 sider og skal være gennemført mindst på bachelorniveau uddannelsen skal som minimum indeholde elementer der ækvivalerer følgende almenpsykologiske grunddiscipliner med samlet mindstects og et pensum på mindst 6 000 sider fordelt efter nedenstående minimumskrav personlighedspsykologi med mindstects og et pensum på mindst 1 000 sider socialpsykologi med mindstects og et pensum på mindst 1 000 sider udviklingspsykologi med mindstects og et pensum på mindst 1 000 sider kognitionspsykologi og biologisk psykologi samlet med mindstects og et pensum på mindst 2 000 sider psykologisk forskningsmetodologi herunder kvalitativ og kvantitativ forskningsmetode inkl statistik med mindstects og et pensum på mindst 1 000 sider psykologiens videnskabsteori med mindstects og et pensum på mindstsider pædagogisk psykologi med mindstects og et pensum på mindst 1 000 sider arbejds og organisationspsykologi med mindstects og et pensum på mindst 1 000 sider klinisk psykologi med psykiatri med mindstects og et pensum på mindst 1 500 sider en almenpsykologisk bachelorafhandling på mindstsider med mindstects og et selvstændigt pensum på mindst 1 200 sider i ækvivalensredegørelsen skal hvert enkelt af de anførte punkter og underpunkter dokumenteres med henvisning til eksamensbevis karakterudskrift fagbeskrivelse semesterplan kursuskatalog el lign pensumopgivelser giver din uddannelse ikke direkte adganghvis din uddannelse ikke er nævnt under adgangskravene men er beslægtet kan du stadig søge om optagelse når du søger vil studiet lave en individuel faglig vurdering af dit adgangsgrundlag i forhold til den specifikke kandidatuddannelse spørg gerne studievejlederen fra uddannelsen om dine optagelsesmuligheder hvis du er i tvivl mere om adgangskravgiver din uddannelse ikke direkte adgang hvis din uddannelse ikke er nævnt under adgangskravene men er beslægtet kan du stadig søge om optagelse når du søger vil studiet lave en individuel faglig vurdering af dit adgangsgrundlag i forhold til den specifikke kandidatuddannelse spørg gerne studievejlederen fra uddannelsen om dine optagelsesmuligheder hvis du er i tvivl bacheloruddannelse fra aau som giver ret til optagelse (retskrav)du har ret til optagelse på den kandidatuddannelse der er den naturlige overbygning af din bacheloruddannelses fagområde retskravet gælder til kandidatuddannelsen på det universitet du tog din bacheloruddannelse ved og er gældende iår ansøgningsfristansøgningsfristen er den 1 marts med studiestart den 1 september du skal søge digitalt via ansøgningssystemet husk at din ansøgning skal indeholde dokumentation for bestået adgangsgivende eksamen svar på din ansøgninghar du søgt op optagelse inden ansøgningsfristens udløb kan du forvente svar senest den 10 juni mere om optagelse på en kandidatuddannelsedu kan læse mere om optagelse på en kandidatuddannelse fx frister meritmuligheder og information til ansøgere der er forsinkede i deres bacheloruddannelse optagelse på en kandidatuddannelsesom studerende på aau møder du forskende og engagerede underviserepå aalborg universitet har vi forskningsbaseret undervisning hvilket kort fortalt betyder at dine undervisere forsker inden for samme fagområde som de underviser i du får derfor tilgang til den nyeste viden og engagerede undervisere der brænder for det de underviser i undervisningsmaterialet er derfor ikke kun bøger men kan fx også være aktuelle artikler fra tidsskrifter gruppearbejdepå aalborg universitet kommer du i høj grad til at arbejde i grupper med dine studiekammerater det betyder at du gennem samarbejde og arbejdsdeling får mulighed for at udforske større og mere komplekse problemstillinger end du ville kunne klare alene og at du altid har andre at sparre og drøfte faglige udfordringer med desuden betyder gruppearbejdet at du hurtigt lærer dine medstuderende at kende og får en stor omgangskreds på dit studie læs mere om gruppearbejde på aalborg universitetproblembaseret læringaalborg universitet er verdenskendt for den unikke undervisningsform problembaseret læring (pbl) kort fortalt går det ud på at du kommer til at arbejde i grupper sammen med dine studiekammerater hvor du identificerer analyserer formulerer og løser problemstillinger fra det virkelige liv arbejdsformen er værdsat og efterspurgt af såvel erhvervslivet som de studerende da du i høj grad selv har mulighed for at definere de problemstillinger du arbejder med du udvikler dine evner inden for teamwork og du bliver klædt godt på til det arbejdsmarked der venter dig efter endt studie tæt samarbejde med erhvervslivetaalborg universitet har et tæt samarbejde med erhvervslivet hvilket betyder at du allerede som studerende kommer til at arbejde med virkelige problemstillinger fra virksomheder og organisationer dermed får du allerede mens du studerer mulighed for at gøre dig praktiske erfaringer med det teori du lærer på universitetet laboratorier i verdensklasselaboratorierne på aalborg universitet er af højeste standard og de spiller en vigtig rolle i undervisningen du kommer til at arbejde under de bedste laboratorieforhold med adgang til den nyeste state of the art teknologi hvilket er af afgørende betydning for dit udbytte af undervisningen studiebyerne aalborg esbjerg københavndu kan studere på aalborg universitet (aau) i aalborg esbjerg og københavn aau s hovedcampus ligger i aalborg læs hvad de tre studiebyer kan tilbyde dig som studerende og få også et indtryk af studiemiljøet på campusområderne mød aaustudieliv på aaudin su og økonomise liste over de kandidatuddannelser der tilbyder at du kan blive studerende for en dag kandidatdag er arrangementet for dig der er bachelor eller professionsbachelor og overvejer at udbygge din uddannelse med en kandidatgrad kom til åbent hus og bliv klogere på dit studievalg mød studerende og studievejledere hør oplæg om uddannelser studieform og studieliv se liste over de kandidatuddannelser der tilbyder at du kan blive studerende for en dag kandidatdag er arrangementet for dig der er bachelor eller professionsbachelor og overvejer at udbygge din uddannelse med en kandidatgrad kom til åbent hus og bliv klogere på dit studievalg mød studerende og studievejledere hør oplæg om uddannelser studieform og studieliv mød aalborg universitetpsykologi studievejledningkontaktoplysninger og åbningstiderstudievejledere på psykologiastrid jensen 9 semestersigrid jacobsen 7 semesterjulie bjerre 5 semesteradressenordkraft teglgårds plads 1 aalborg lokale 11 21 (på niveau 11)e mailstudvejl psykologi@hum aau dktelefon9931 15træffetidermandage kl 14 30 16 30onsdage kl 10 30 12 30afvigende træffetideronsdag d oktober kl 12 30 14 30 onsdag d oktober lukketændring af åbningstiderændrede åbningstider mm bliver meldt ud på vores facebookside gå til vores facebooksidesom bachelor i psykologi får du en bred og grundlæggende viden om det psykologiske felt du lærer blandt andet om menneskets tænkning og følelser samt hvordan mennesket oplever og handler i forhold til sig selv og andre som bachelor i psykologi bliver du først og fremmest god til at belyse formidle og tage kritisk stilling til psykologiens teorier om eksempelvis menneskelige forhold og konflikter du skal være opmærksom på at arbejdet med hvordan en psykolog anvender teori i praksis først bliver en stor del af dit studie på kandidatuddannelsen først herefter opnår du egentlige praktiske færdigheder i psykologi hvorefter du kan arbejde med andre mennesker i det virkelige liv som færdiguddannet kandidat i psykologi er dine jobmuligheder meget varierede de fleste bliver ansat i det offentlige det kan eksempelvis være på sygehuse i psykiatrien eller i social og sundhedssektoren andre bliver ansat i det private som erhvervspsykologer i fagforeninger eller lignende du har også mulighed for at undervise i psykologi på eksempelvis gymnasier og højskoler når du har afsluttet din kandidatuddannelse i psykologi kan du efter to års psykologifagligt arbejde opnå autorisation dermed kan du blandt andet blive privatpraktiserende psykolog efter yderligereårs virke kan du opnå en specialistbetegnelse inden for et konkret psykologisk område det kræver dog blandt andet at du deltager i flere kurser psykologi er studiet af menneskets tænkning følelser og handlinger over for andre individer grupper og organisationer som videnskab står psykologi i et krydsfelt mellem humaniora naturvidenskab og samfundsvidenskab faget spænder bredt og har mange og forskelligartede underområder at studere psykologi som en videnskabelig disciplin vil sige at man beskæftiger sig med det psykiske ud fra den særlige systematik logik og argumentation der karakteriserer universitetsstudier generelt det betyder at du lærer at forstå analysere og diskutere teorier inden for emner som bevidsthed og erkendelse personlighed udvikling psykiske lidelser samt interaktion mellem individ samfund kultur og institutioner som kandidat i psykologi cand psych opnår du den beskyttede titel \"psykolog\" hovedparten af psykologer er ansat i offentligt regi hvor de udøver forskellige former for behandlings rådgivnings evaluerings og undervisningsarbejde psykologer bliver dog i stigende grad ansat på det private arbejdsmarked som konsulenter eller i virksomheders uddannelses personale og videnskabsafdelinger andre vælger forskningsvejen href=\"/kandidat/psykologi/interviews med psykologer/\">find interviews med færdige kandidater her <em> </em> href=\"/kandidat/psykologi/faglig profil og job/forskning paa faget/\">læs mere om forskning på faget her <ul class=\"breadcrumb\"> aria label=\"brødkrumme psykologi\" href=\"/kandidat/psykologi/\"> psykologi <li class=\"active\">faglig profil og job '"
      ]
     },
     "execution_count": 17,
     "metadata": {},
     "output_type": "execute_result"
    }
   ],
   "source": [
    "final_df['cand.psych'].loc[0]"
   ]
  },
  {
   "cell_type": "code",
   "execution_count": 18,
   "id": "9072fc56-af57-4d29-80c2-b3eef793db1b",
   "metadata": {},
   "outputs": [],
   "source": [
    "final_df['cand.psych'] = final_df['cand.psych'].apply(word_tokenize)\n",
    "final_df['cand.oecon'] = final_df['cand.oecon'].apply(word_tokenize)\n",
    "final_df['cand.scient.pol'] = final_df['cand.scient.pol'].apply(word_tokenize)\n",
    "final_df['cand.scient.anth'] = final_df['cand.scient.anth'].apply(word_tokenize)\n",
    "final_df['cand.scient.soc'] = final_df['cand.scient.soc'].apply(word_tokenize)"
   ]
  },
  {
   "cell_type": "code",
   "execution_count": 19,
   "id": "ca274c71-ee39-42d7-ad02-06ed205a4ba9",
   "metadata": {},
   "outputs": [],
   "source": [
    "stop = stopwords.words('danish')\n",
    "final_df['cand.psych'] = final_df['cand.psych'].apply(lambda words: [word for word in words if word not in stop])\n",
    "final_df['cand.oecon'] = final_df['cand.oecon'].apply(lambda words: [word for word in words if word not in stop])\n",
    "final_df['cand.scient.pol'] = final_df['cand.scient.pol'].apply(lambda words: [word for word in words if word not in stop])\n",
    "final_df['cand.scient.anth'] = final_df['cand.scient.anth'].apply(lambda words: [word for word in words if word not in stop])\n",
    "final_df['cand.scient.soc'] = final_df['cand.scient.soc'].apply(lambda words: [word for word in words if word not in stop])"
   ]
  },
  {
   "cell_type": "code",
   "execution_count": 20,
   "id": "c5e032ed-7e0a-4690-a38e-d14071c62335",
   "metadata": {},
   "outputs": [],
   "source": [
    "final_df.to_csv('out.csv')\n"
   ]
  },
  {
   "cell_type": "code",
   "execution_count": null,
   "id": "f1f548f6",
   "metadata": {},
   "outputs": [],
   "source": []
  }
 ],
 "metadata": {
  "kernelspec": {
   "display_name": "Python 3.9.7 ('base')",
   "language": "python",
   "name": "python3"
  },
  "language_info": {
   "codemirror_mode": {
    "name": "ipython",
    "version": 3
   },
   "file_extension": ".py",
   "mimetype": "text/x-python",
   "name": "python",
   "nbconvert_exporter": "python",
   "pygments_lexer": "ipython3",
   "version": "3.9.7"
  },
  "vscode": {
   "interpreter": {
    "hash": "f391330d4b460aafb87b0964baa3bc9feb41f83abb3c41e72e23789a7e646ea5"
   }
  }
 },
 "nbformat": 4,
 "nbformat_minor": 5
}

{
 "cells": [
  {
   "cell_type": "code",
   "execution_count": 36,
   "id": "0fe9433d-fa39-4bb6-b2f4-4727bdca3b79",
   "metadata": {},
   "outputs": [],
   "source": [
    "import pandas as pd\n",
    "import numpy as np\n",
    "import seaborn as sns\n",
    "import matplotlib.pyplot as plt\n",
    "from pathlib import Path\n",
    "import re\n",
    "import requests\n",
    "from selenium import webdriver\n",
    "from webdriver_manager.chrome import ChromeDriverManager\n",
    "from selenium.webdriver.common.by import By\n",
    "from bs4 import BeautifulSoup\n"
   ]
  },
  {
   "cell_type": "code",
   "execution_count": 37,
   "id": "fdc8516d-06ca-43ac-b695-f46fe438a895",
   "metadata": {},
   "outputs": [],
   "source": [
    "def clean_text(text):\n",
    "    text = text.replace('[','').replace(']', '')\n",
    "    text = re.sub(\"(<li>)|(</li>)|</p>|<p>|\\xa0|<ul>|</ul>|'|-| +|,| ,\", ' ', text)\n",
    "    text = re.sub(\" +\", \" \", text)\n",
    "    return text"
   ]
  },
  {
   "cell_type": "code",
   "execution_count": 38,
   "id": "067a3c81-64fa-42a9-994e-8ac5605d204f",
   "metadata": {
    "tags": []
   },
   "outputs": [
    {
     "ename": "AttributeError",
     "evalue": "'list' object has no attribute 'replace'",
     "output_type": "error",
     "traceback": [
      "\u001b[0;31m---------------------------------------------------------------------------\u001b[0m",
      "\u001b[0;31mAttributeError\u001b[0m                            Traceback (most recent call last)",
      "\u001b[0;32m/var/folders/3f/tb6g2l554hj6p4hby9682kh80000gn/T/ipykernel_37138/2471573429.py\u001b[0m in \u001b[0;36m<module>\u001b[0;34m\u001b[0m\n\u001b[1;32m     35\u001b[0m \u001b[0;32mfor\u001b[0m \u001b[0mk\u001b[0m \u001b[0;32min\u001b[0m \u001b[0msearch_list\u001b[0m\u001b[0;34m:\u001b[0m\u001b[0;34m\u001b[0m\u001b[0;34m\u001b[0m\u001b[0m\n\u001b[1;32m     36\u001b[0m     \u001b[0msoup\u001b[0m \u001b[0;34m=\u001b[0m \u001b[0mextract_ku\u001b[0m\u001b[0;34m(\u001b[0m\u001b[0mk\u001b[0m\u001b[0;34m)\u001b[0m\u001b[0;34m\u001b[0m\u001b[0;34m\u001b[0m\u001b[0m\n\u001b[0;32m---> 37\u001b[0;31m     \u001b[0mku_list\u001b[0m\u001b[0;34m.\u001b[0m\u001b[0mappend\u001b[0m\u001b[0;34m(\u001b[0m\u001b[0mtransform_ku\u001b[0m\u001b[0;34m(\u001b[0m\u001b[0msoup\u001b[0m\u001b[0;34m)\u001b[0m\u001b[0;34m)\u001b[0m\u001b[0;34m\u001b[0m\u001b[0;34m\u001b[0m\u001b[0m\n\u001b[0m\u001b[1;32m     38\u001b[0m \u001b[0;34m\u001b[0m\u001b[0m\n\u001b[1;32m     39\u001b[0m \u001b[0mku_df\u001b[0m \u001b[0;34m=\u001b[0m \u001b[0mpd\u001b[0m\u001b[0;34m.\u001b[0m\u001b[0mDataFrame\u001b[0m\u001b[0;34m(\u001b[0m\u001b[0mdata\u001b[0m\u001b[0;34m=\u001b[0m\u001b[0mku_list\u001b[0m\u001b[0;34m)\u001b[0m\u001b[0;34m\u001b[0m\u001b[0;34m\u001b[0m\u001b[0m\n",
      "\u001b[0;32m/var/folders/3f/tb6g2l554hj6p4hby9682kh80000gn/T/ipykernel_37138/2471573429.py\u001b[0m in \u001b[0;36mtransform_ku\u001b[0;34m(soup)\u001b[0m\n\u001b[1;32m     24\u001b[0m     \u001b[0;32mfor\u001b[0m \u001b[0mi\u001b[0m \u001b[0;32min\u001b[0m \u001b[0mrange\u001b[0m\u001b[0;34m(\u001b[0m\u001b[0mlen\u001b[0m\u001b[0;34m(\u001b[0m\u001b[0mdivs2\u001b[0m\u001b[0;34m)\u001b[0m\u001b[0;34m)\u001b[0m\u001b[0;34m:\u001b[0m\u001b[0;34m\u001b[0m\u001b[0;34m\u001b[0m\u001b[0m\n\u001b[1;32m     25\u001b[0m         \u001b[0mtext_ku\u001b[0m\u001b[0;34m.\u001b[0m\u001b[0mappend\u001b[0m\u001b[0;34m(\u001b[0m\u001b[0mdivs2\u001b[0m\u001b[0;34m[\u001b[0m\u001b[0mi\u001b[0m\u001b[0;34m]\u001b[0m\u001b[0;34m.\u001b[0m\u001b[0mfind_all\u001b[0m\u001b[0;34m(\u001b[0m\u001b[0;34m\"ul\"\u001b[0m\u001b[0;34m)\u001b[0m\u001b[0;34m)\u001b[0m\u001b[0;34m\u001b[0m\u001b[0;34m\u001b[0m\u001b[0m\n\u001b[0;32m---> 26\u001b[0;31m         \u001b[0mtext_ku\u001b[0m \u001b[0;34m=\u001b[0m \u001b[0mclean_text\u001b[0m\u001b[0;34m(\u001b[0m\u001b[0mtext_ku\u001b[0m\u001b[0;34m)\u001b[0m\u001b[0;34m\u001b[0m\u001b[0;34m\u001b[0m\u001b[0m\n\u001b[0m\u001b[1;32m     27\u001b[0m \u001b[0;34m\u001b[0m\u001b[0m\n\u001b[1;32m     28\u001b[0m     \u001b[0;32mreturn\u001b[0m \u001b[0mtext_ku\u001b[0m\u001b[0;34m\u001b[0m\u001b[0;34m\u001b[0m\u001b[0m\n",
      "\u001b[0;32m/var/folders/3f/tb6g2l554hj6p4hby9682kh80000gn/T/ipykernel_37138/941581075.py\u001b[0m in \u001b[0;36mclean_text\u001b[0;34m(text)\u001b[0m\n\u001b[1;32m      1\u001b[0m \u001b[0;32mdef\u001b[0m \u001b[0mclean_text\u001b[0m\u001b[0;34m(\u001b[0m\u001b[0mtext\u001b[0m\u001b[0;34m)\u001b[0m\u001b[0;34m:\u001b[0m\u001b[0;34m\u001b[0m\u001b[0;34m\u001b[0m\u001b[0m\n\u001b[0;32m----> 2\u001b[0;31m     \u001b[0mtext\u001b[0m \u001b[0;34m=\u001b[0m \u001b[0mtext\u001b[0m\u001b[0;34m.\u001b[0m\u001b[0mreplace\u001b[0m\u001b[0;34m(\u001b[0m\u001b[0;34m'['\u001b[0m\u001b[0;34m,\u001b[0m\u001b[0;34m''\u001b[0m\u001b[0;34m)\u001b[0m\u001b[0;34m.\u001b[0m\u001b[0mreplace\u001b[0m\u001b[0;34m(\u001b[0m\u001b[0;34m']'\u001b[0m\u001b[0;34m,\u001b[0m \u001b[0;34m''\u001b[0m\u001b[0;34m)\u001b[0m\u001b[0;34m\u001b[0m\u001b[0;34m\u001b[0m\u001b[0m\n\u001b[0m\u001b[1;32m      3\u001b[0m     \u001b[0mtext\u001b[0m \u001b[0;34m=\u001b[0m \u001b[0mre\u001b[0m\u001b[0;34m.\u001b[0m\u001b[0msub\u001b[0m\u001b[0;34m(\u001b[0m\u001b[0;34m\"(<li>)|(</li>)|</p>|<p>|\\xa0|<ul>|</ul>|'|-| +|,| ,\"\u001b[0m\u001b[0;34m,\u001b[0m \u001b[0;34m' '\u001b[0m\u001b[0;34m,\u001b[0m \u001b[0mtext\u001b[0m\u001b[0;34m)\u001b[0m\u001b[0;34m\u001b[0m\u001b[0;34m\u001b[0m\u001b[0m\n\u001b[1;32m      4\u001b[0m     \u001b[0mtext\u001b[0m \u001b[0;34m=\u001b[0m \u001b[0mre\u001b[0m\u001b[0;34m.\u001b[0m\u001b[0msub\u001b[0m\u001b[0;34m(\u001b[0m\u001b[0;34m\" +\"\u001b[0m\u001b[0;34m,\u001b[0m \u001b[0;34m\" \"\u001b[0m\u001b[0;34m,\u001b[0m \u001b[0mtext\u001b[0m\u001b[0;34m)\u001b[0m\u001b[0;34m\u001b[0m\u001b[0;34m\u001b[0m\u001b[0m\n\u001b[1;32m      5\u001b[0m     \u001b[0;32mreturn\u001b[0m \u001b[0mtext\u001b[0m\u001b[0;34m\u001b[0m\u001b[0;34m\u001b[0m\u001b[0m\n",
      "\u001b[0;31mAttributeError\u001b[0m: 'list' object has no attribute 'replace'"
     ]
    }
   ],
   "source": [
    "def extract_ku(fag):\n",
    "    \n",
    "    headers = {'User-Agent':'bwt973@alumni.ku.dk'}\n",
    "    \n",
    "    url = f\"https://studier.ku.dk/kandidat/{fag}/faglig-profil-og-job/\"\n",
    "    \n",
    "    r = requests.get(url, headers)\n",
    "\n",
    "    soup = BeautifulSoup(r.content.decode(\"utf-8\"), \"html.parser\")\n",
    "    \n",
    "    return soup\n",
    "\n",
    "def transform_ku(soup):\n",
    "\n",
    "    divs = soup.find_all(\"div\", class_=\"col-xs-12 col-sm-8 col-md-6 main-content\")\n",
    "\n",
    "    text_ku =[]\n",
    "\n",
    "    for i in range(len(divs)):\n",
    "        text_ku.append(divs[i].find_all(\"p\"))\n",
    "\n",
    "    divs2 = soup.find_all(\"div\", class_=\"col-xs-12 col-sm-8 col-md-6 main-content\")\n",
    "\n",
    "    for i in range(len(divs2)):\n",
    "        text_ku.append(divs2[i].find_all(\"ul\"))\n",
    "        text_ku = clean_text(text_ku)\n",
    "    \n",
    "    return text_ku\n",
    "\n",
    "ku_list = []\n",
    "\n",
    "search_list = ['psykologi', 'sociologi', 'statskundskab', 'antropologi', 'oekonomi']\n",
    "\n",
    "\n",
    "for k in search_list:\n",
    "    soup = extract_ku(k)\n",
    "    ku_list.append(transform_ku(soup))\n",
    "\n",
    "ku_df = pd.DataFrame(data=ku_list)\n",
    "\n",
    "#Merging the two colums \n",
    "ku_df=ku_df[0]+ku_df[1]\n",
    "\n",
    "#Making the object a dataframe\n",
    "ku_df=pd.DataFrame(ku_df)\n",
    "\n",
    "ku_df=pd.DataFrame.transpose(ku_df)\n",
    "\n",
    "ku_df.columns=['cand.psych_ku', 'cand.scient.soc_ku', 'cand.scient.pol_ku', 'cand.scient.anth_ku', 'cand.oecon_ku']"
   ]
  },
  {
   "cell_type": "code",
   "execution_count": null,
   "id": "73ec5a02-d3b4-4f99-bbc7-d5c87c344716",
   "metadata": {
    "tags": []
   },
   "outputs": [],
   "source": [
    "def extract_au(fag):\n",
    "    \n",
    "    headers = {'User-Agent':'tps798@alumni.ku.dk'}\n",
    "    \n",
    "    url = f\"https://bachelor.au.dk/{fag}\"\n",
    "    \n",
    "    r = requests.get(url, headers)\n",
    "\n",
    "    soup = BeautifulSoup(r.content.decode(\"utf-8\"), \"html.parser\")\n",
    "    \n",
    "    return soup"
   ]
  },
  {
   "cell_type": "code",
   "execution_count": null,
   "id": "1b7a9327-0378-465c-b3e1-84fa3ad33c53",
   "metadata": {
    "tags": []
   },
   "outputs": [],
   "source": [
    "soup = extract_au('statskundskab')\n",
    "\n",
    "divs = soup.find_all(\"div\", class_=\"large-8 medium-8 medium-only-portrait-12 small-12 columns\")\n",
    "\n",
    "text = soup.find_all('p')\n",
    "\n",
    "text_stats = text[75:77]\n",
    "\n",
    "stats_df = pd.DataFrame(data=text_stats, columns=['cand.scient.pol_au'])\n",
    "stats = pd.DataFrame([', '.join(stats_df['cand.scient.pol_au'].to_list())], columns=['cand.scient.pol_au'])"
   ]
  },
  {
   "cell_type": "code",
   "execution_count": null,
   "id": "fd176f55-5f90-4ef6-b679-560c61bb439b",
   "metadata": {
    "tags": []
   },
   "outputs": [],
   "source": [
    "soup = extract_au('oekonomi')\n",
    "\n",
    "divs = soup.find_all(\"div\", class_=\"large-8 medium-8 medium-only-portrait-12 small-12 columns\")\n",
    "\n",
    "text = soup.find_all('p')\n",
    "\n",
    "text_oek = text[60:62]\n",
    "\n",
    "oek_df = pd.DataFrame(data=text_oek, columns=['cand.oecon_au'])\n",
    "oek = pd.DataFrame([', '.join(oek_df['cand.oecon_au'].to_list())], columns=['cand.oecon_au'])"
   ]
  },
  {
   "cell_type": "code",
   "execution_count": null,
   "id": "87d307e3-9a76-42dc-9bd5-1f6ad5998442",
   "metadata": {
    "tags": []
   },
   "outputs": [],
   "source": [
    "soup = extract_au('antropologi')\n",
    "\n",
    "divs = soup.find_all(\"div\", class_=\"large-8 medium-8 medium-only-portrait-12 small-12 columns\")\n",
    "\n",
    "text = soup.find_all('p')\n",
    "\n",
    "text_ant = text[50:55]\n",
    "\n",
    "ant_df = pd.DataFrame(data=text_ant, columns=['cand.scient.anth_au'])\n",
    "ant = pd.DataFrame([', '.join(ant_df['cand.scient.anth_au'].to_list())], columns=['cand.scient.anth_au'])"
   ]
  },
  {
   "cell_type": "code",
   "execution_count": 39,
   "id": "b66f75ec-ae8e-4281-a8a1-8bb1d496b766",
   "metadata": {
    "tags": []
   },
   "outputs": [],
   "source": [
    "soup = extract_au('psykologi')\n",
    "\n",
    "divs = soup.find_all(\"div\", class_=\"large-8 medium-8 medium-only-portrait-12 small-12 columns\")\n",
    "\n",
    "text = soup.find_all('p')\n",
    "\n",
    "text_psyk = text[74:78]\n",
    "\n",
    "psyk_df = pd.DataFrame(data=text_psyk, columns=['cand.psych_au'])\n",
    "psyk = pd.DataFrame([', '.join(psyk_df['cand.psych_au'].to_list())], columns=['cand.psych_au'])"
   ]
  },
  {
   "cell_type": "code",
   "execution_count": 40,
   "id": "02b89b6e-70d3-4bdc-84bd-e34f37643d2c",
   "metadata": {},
   "outputs": [],
   "source": [
    "frames = [ant, stats, psyk, oek]\n",
    "\n",
    "au_df = pd.concat(frames, axis=1)"
   ]
  },
  {
   "cell_type": "code",
   "execution_count": 41,
   "id": "c596e71d-6e6d-4dd1-bf98-f7a1b4d4b5e6",
   "metadata": {
    "tags": []
   },
   "outputs": [],
   "source": [
    "def extract_aau(fag):\n",
    "    \n",
    "    headers = {'User-Agent':'bwt973@alumni.ku.dk'}\n",
    "    \n",
    "    url = f\"https://www.aau.dk/uddannelser/kandidat/{fag}\"\n",
    "    \n",
    "    r = requests.get(url, headers)\n",
    "\n",
    "    soup = BeautifulSoup(r.content.decode(\"utf-8\"), \"html.parser\")\n",
    "    \n",
    "    return soup\n",
    "\n",
    "def transform_aau(soup):\n",
    "\n",
    "    divs = soup.find_all(\"main\", class_=\"Main_Main__2KIvG\")\n",
    "\n",
    "    for item in divs:\n",
    "        text_aau = item.find_all()[0].text.strip()\n",
    "\n",
    "        aau_text = {\n",
    "            \"text_aau\" : text_aau, \n",
    "        }\n",
    "        aau_list.append(aau_text)\n",
    "\n",
    "        text_aau = clean_text(text_aau)\n",
    "        \n",
    "    return text_aau\n",
    "\n",
    "aau_list = []\n",
    "\n",
    "search_list = ['psykologi', 'sociologi', 'oekonomi']\n",
    "\n",
    "for k in search_list:\n",
    "    try: \n",
    "        soup = extract_aau(k)\n",
    "        transform_aau(soup)\n",
    "    except:\n",
    "        break\n",
    "\n",
    "aau_df = pd.DataFrame(data=aau_list)\n",
    "\n",
    "aau_df=pd.DataFrame.transpose(aau_df)\n",
    "\n",
    "aau_df.columns=['cand.psych_aau', 'cand.scient.soc_aau', 'cand.oecon_aau']\n",
    "\n",
    "aau_df = aau_df.reset_index(drop=True)"
   ]
  },
  {
   "cell_type": "code",
   "execution_count": 42,
   "id": "c7d09cf2-d2e5-4b93-990f-645bfbc65164",
   "metadata": {},
   "outputs": [],
   "source": [
    "merge_frames = [ku_df, au_df, aau_df]\n",
    "\n",
    "combined_df = pd.concat(merge_frames, axis=1)\n",
    "\n",
    "combined_df['cand.psych_ku_string'] = [','.join(map(str, l)) for l in combined_df['cand.psych_ku']]\n",
    "combined_df['cand.scient.pol_ku_string'] = [','.join(map(str, l)) for l in combined_df['cand.scient.pol_ku']]\n",
    "combined_df['cand.oecon_ku_string'] = [','.join(map(str, l)) for l in combined_df['cand.oecon_ku']]\n",
    "combined_df['cand.scient.anth_ku_string'] = [','.join(map(str, l)) for l in combined_df['cand.scient.anth_ku']]\n",
    "combined_df['cand.scient.soc_ku_string'] = [','.join(map(str, l)) for l in combined_df['cand.scient.soc_ku']]\n",
    "\n",
    "combined_df['cand.psych'] = combined_df['cand.psych_aau'] + combined_df['cand.psych_au'] + combined_df['cand.psych_ku_string']\n",
    "combined_df['cand.scient.anth'] = combined_df['cand.scient.anth_au'] + combined_df['cand.scient.anth_ku_string']\n",
    "combined_df['cand.scient.pol'] = combined_df['cand.scient.pol_au'] + combined_df['cand.scient.pol_ku_string']\n",
    "combined_df['cand.scient.soc'] = combined_df['cand.scient.soc_aau'] + combined_df['cand.scient.soc_ku_string']\n",
    "combined_df['cand.oecon'] = combined_df['cand.oecon_aau'] + combined_df['cand.oecon_au'] + combined_df['cand.oecon_ku_string']"
   ]
  },
  {
   "cell_type": "code",
   "execution_count": 43,
   "id": "b4e2701d-9c54-4ec8-90a7-893e9e7b71f0",
   "metadata": {},
   "outputs": [],
   "source": [
    "combined_df.drop(['cand.psych_aau', 'cand.scient.soc_aau', 'cand.oecon_aau', 'cand.psych_au', \\\n",
    "                  'cand.scient.anth_au', 'cand.scient.pol_au','cand.oecon_au', \\\n",
    "                  'cand.psych_ku', 'cand.scient.soc_ku', 'cand.scient.pol_ku', 'cand.scient.anth_ku', \\\n",
    "                  'cand.oecon_ku', 'cand.psych_ku_string', 'cand.scient.pol_ku_string', 'cand.oecon_ku_string', \\\n",
    "                  'cand.scient.anth_ku_string', 'cand.scient.soc_ku_string'], axis=1, inplace=True)"
   ]
  },
  {
   "cell_type": "code",
   "execution_count": 44,
   "id": "e7a57452-2f5b-4c69-9e68-f09c7ba9c262",
   "metadata": {},
   "outputs": [
    {
     "data": {
      "text/plain": [
       "'KandidatSociologiUddannelsen bygger videre på den grundlæggende videnskabelige viden om sociologisk teori og metode, som du har opnået på bacheloruddannelsen.Få kendskab tilArbejdsliv, organisation og Human Resource Management, Sociale fællesskaber og sociale forskelleSundhed, sygdom, steder og rum Hverdagsliv, kultur og samtidsdiagnoserAalborg2-årig uddannelseDanskSøg optagelseKandidatSociologiUddannelsen bygger videre på den grundlæggende videnskabelige viden om sociologisk teori og metode, som du har opnået på bacheloruddannelsen.Få kendskab tilArbejdsliv, organisation og Human Resource Management, Sociale fællesskaber og sociale forskelleSundhed, sygdom, steder og rum Hverdagsliv, kultur og samtidsdiagnoserAalborg2-årig uddannelseDanskSøg optagelseKandidatuddannelsen sigter mod at skærpe din personlige, faglige profil. På kandidatuddannelsen vælger du mellem valgfrie moduler i videregående teori og metode, sociologiske specialiseringer og valgfag eller praktik. Et praktikophold kan være med til at udvide erfaringerne og give brugbare kvalifikationer, når du senere skal ud på arbejdsmarkedet. I dit afsluttende speciale har du lejlighed til at bringe flere af sociologiuddannelsens enkeltstående elementer i sammenhæng med din egen særlige faglige profil.Du skal acceptere følgende cookiekategorier for at kunne se indholdet: MarketingÅben cookie dialogFagligt indholdProjekter skrevet af sociologistuderendeLæs\\xa0projekter skrevet af sociologistuderende\\xa0i Projektbiblioteket.Sociologiske specialiseringssporKandidatuddannelsen giver dig mulighed for at vælge mellem fire specialiseringsspor, som består af to emnespecialiseringer.\\n\\nArbejdsliv, organisation og Human Resource Management\\n\\nOrganisationssociologi\\nDet moderne arbejdsliv og HRM\\n\\n\\nHverdagsliv, kultur og samtidsdiagnoser\\n\\nHverdagsliv, kultur og emotioner\\xa0\\nSamtidsdiagnoser og afvigelser\\n\\n\\nSociale fælleskaber og sociale forskelle\\n\\nDet civile samfund og sociale bevægelser\\nKøn, migration og sociale protester\\xa0\\n\\n\\nSundhed, sygdom, steder og rum\\n\\nSundheds- og sygdomssociologi\\nRummets sociologi\\n\\n\\n\\nFor at gennemføre et specialiseringsspor kræves, at mindst 30 ECTS-point gennemføres inden for disse emnespecialiseringer.Sociologiske metodespecialiseringerKandidatuddannelsen i Sociologi giver dig mulighed for at bygge videre på de stærke metodekompetencer, du allerede har udviklet i løbet af din bacheloruddannelse. Gennem valg af metodespecialiseringer har du selv indflydelse på sammensætningen af dine metodekompetencer. Følgende metodespecialiseringer udbydes på kandidatuddannelsens\\xa01. og 2. semester:\\nBiografisk narrativ metode\\nVideregående kvalitativ metode\\nForløbsanalyse på registre\\nKorrespondanceanalyse\\nVideregående kvantitativ metode: Kausal inferens i sociologien\\nSocial Data science I: Dataanalyse med Python\\nSocial Data Science II: Machine Learning i Samfundsvidenskaben\\nDu får mulighed for at udbygge dine kvalitative metodekompetencer med specialiseringerne biografisk narrativ metode og videregående kvalitativ metode. Inden for det kvantitative område får du mulighed for at arbejde med forløbsanalyse på registre, hvor du med udgangspunkt i registerdata og longitudinelle designs studerer forandring og stabilitet ved hjælp af (cox-) regressionsmodeller. Korrespondanceanalyse giver dig mulighed for at\\xa0fortolke surveydata ved hjælp af rumlige grafiske\\xa0fremstillinger. Videregående kvantitative metoder giver dig mulighed for gennem regressionsmodeller og kontrafaktisk tænkning, at gå i dybden med analysen af kausale relationer. Social Data Science I gives en introduktion til Python samt til computationelle og dataintensive metoder (herunder netscraping) med fokus på analyseteknikker, datahåndtering, datavisualisering. og dataudforskning. Social Data Science II bygger videre på Data Science I, og giver dig kompetencer til at udvikle prædiktive algoritmer og machine learning.SemesteroversigtOversigt over semestreneKandidatuddannelsen består af 1.-4. semester og giver dig mulighed\\xa0for at forme en individuel faglig profil. På kandidatuddannelsen hæves\\xa0niveauet i forhold til bachelordelen gennem en videreudvikling af den\\xa0grundlæggende videnskabelige viden om sociologisk teori og metode.\\n1.-2. semester strækker sig over 1. år og omhandler Sociologiske specialiseringer.\\n3.-4. semester strækker sig over 2. år og indebærer Praktik/valgfag, specialeforberedende kursus samt speciale.1.-3. semester: Selvstændigt studieforløbPå de tre første semestre får du lejlighed til selvstændigt at tilrettelægge\\xa0dit studieforløb og vælge hvilken specialiseringsspor, metodespecialiseringer\\xa0og valgfag, du ønsker at fordybe dig i. Ud over kravet\\xa0om sociologisk relevans og sammenhæng er de eneste bindinger, at du skal følg et specialiseringsspor, hvori der skal udarbejdes et projekt\\xa0og mindst to metodespecialisering samt valgfag svarende til 25 ECTS eller praktikforløb.\\nMange studerende benytter valgfriheden til at sammensætte en kandidatuddannelse,\\xa0der er rettet mod en bestemt del af arbejdsmarkedet.\\xa0Det kan være sundhedssektoren, hvor man fx kan kombinere specialiseringssporet i ”Sundhed, sygdom, steder og rum”.\\xa0 På den måde får\\xa0man et indgående kendskab til et eller flere samfundsområder, samtidig\\xa0med at det bliver lettere for arbejdsgiveren at se, hvilke kvalifikationer\\xa0man har.4. semester: SpecialePå kandidatuddannelsens 4. semester udarbejder du dit afsluttende projekt: Specialet. Et sociologisk speciale skal tilvejebringe ny viden eller\\xa0kaste nyt lys over allerede eksisterende viden inden for et af de sociologiske\\xa0fagområder.\\nEmnet for specialet er valgfrit, men skal dog godkendes af studienævnet\\xa0for at sikre tilstrækkeligt højt niveau, sociologisk relevans, og at de nødvendige\\xa0vejledningsmuligheder er til stede. De studerende kan vælge at\\xa0arbejde individuelt med specialet eller i grupper af højst fire personer.\\nForud for specialets påbegyndelse afholdes der på kandidatuddannelsens\\xa03. semester et specialeforberedende kursus, hvor den studerende\\xa0skal udarbejde et specialeforberedende essay. Dette har til hensigt at\\xa0indkredse en sociologisk problemstilling, der kan danne udgangspunkt\\xa0for kandidatspecialet. Kurset evalueres som en individuel mundtlig eksamen.\\nEksempler på specialerLivsfortællinger. En sociologisk undersøgelse af højtuddannede flygtninge/indvandrereStress i relation til familie og arbejdslivMænd mellem arbejde og familieKunstnernes kamp for anerkendelseSocial krise og religiøs mobiliseringFleksibilitet på arbejdsmarkedet – myte eller realitet?Fortællinger fra et fængsel – om indsattes hverdagslivUnge piger og selvskade (cutting).Med særligt fokus påVed siden af de fire udbudte specialiseringsspor har studerende, der gennem uddannelsen har haft særligt fokus på grøn omstilling eller social data science mulighed for at få dette tilføjet i et tillæg til eksamensbeviset.\\nFor at opnå betegnelsen med særligt fokus på grøn omstilling kræves som minimum:\\n\\nAt den studerende har skrevet specialiseringsprojekt inden for emneområdet grøn omstilling\\nAt den studerende skrevet kandidatspeciale inden for emneområdet grøn omstilling\\n\\n\\xa0For at opnå betegnelsen med særligt fokus på social data science kræves som minimum:\\n\\nAt den studerende har bestået modulerne Social Data Science I og II (20 ECTS)\\nAt den studerende har anvendt centrale metoder fra modulerne Social Data Science I eller II i kandidatspecialet. oud for specialets påbegyndelse afholdes der på kandidatuddannelsens 3. semester et specialeforberedende\\nStudieordningSe studieordning for kandidatuddannelsen i Sociologi.Projektorienteret forløb og udlandsopholdProjektorienteret forløb eller valgfagProjektorienteret forløb og udlandsophold er mest oplagt på 3. semester på kandidatuddannelsen i Sociologi.\\nValgfag kan vælges blandt de kurser, der udbydes\\xa0på kandidatuddannelsens 1. semester, eller fag, der udbydes af andre\\xa0studienævn ved Aalborg Universitet eller af andre universiteter i Danmark\\xa0eller udlandet.\\nDu kan også vælge et projektorienteret forløb i stedet for et valgfag. Projektorienteret forløb kan knytte sig til mange forskellige slags arbejdssteder og bestå i flere arbejdsfunktioner. Mange vælger at tage et semesters projektorienteret forløb, fordi det giver mulighed for at prøve sociologjobbet i praksis. Du kan få et indtryk af beskæftigelsesmulighederne for færdiguddannede sociologer ved at se på nedenstående liste over praktikpladser.\\nVed at vælge at komme i projektorienteret forløb i et semester får du mulighed for at prøve arbejdet som sociolog, inden du afslutter uddannelsen.Eksempler på projektorienteret forløbUndersøgelses- og forskningsarbejde\\n\\nVIVE – Det nationale forsknings- og analysecenter for velfærdsforskning\\nCenter for Rusmiddelforskning, Århus\\nJustitsministeriets forskningsenhed, København\\n\\nPrivate analyse- og konsulentvirksomheder\\n\\nJysk Analyse, Aalborg\\nRambøll Management\\nOffentlig administration, råd og nævn\\nAalborg Kommune, Statistik og analysekontoret\\nAalborg Sygehus, Personaleafdelingen\\nDet Kriminalpræventive Råd, København\\n\\nPrivate erhvervsvirksomheder\\n\\nTDC, Århus, Human Ressource afdeling\\nKMD, Kommunedata, Aalborg\\nHuman Resource afdeling\\nAalborg Industries\\nVestas personaleafdeling\\n\\nInteresseorganisationer og frivillige organisationer\\n\\nDansk Arbejdsgiverforening, København\\nFolkekirkens Nødhjælp, København\\nDansk Flygtningehjælp, Randers\\nUdlandsopholdSociologi er et internationalt fag i den forstand, at det grundlæggende omhandler moderne nutidige samfundsforhold - med hovedvægten på vestlige samfund - på tværs af landegrænser. Det faglige indhold i sociologiuddannelserne ved især de vestlige universiteter har således mange fællestræk. Gennem et studieophold ved et udenlandsk universitet er der gode chancer for, at du styrker din selvstændighed såvel fagligt som personligt. Blandt de universiteter, hvor sociologistuderende har opholdt sig, kan nævnes:\\n\\nUniversitetet i Oslo, Norge. Valgfag i kriminalpolitik og kriminologi\\nGoldsmiths College, London, England. Valgfag og specialisering i ”Social Anthropology”\\nUniversitat Autonoma de Barcelona, Spanien. Valgfag og specialisering i ”Social Policy and Social Movements”\\nMálaga Universitet, Spanien. Valgfag i turismestudier ved hhv. Escuela Universitaria de Turismo og Facultad Educaciones\\nGriffith University, Australien. Master i Human Ressource Management\\nStockholms Universitet, Sverige. Valgfag i politisk sociologi\\nManchester University, England. Master i “Historical Social Enquiry”\\nUniversity of New Mexico, USA. 4. semester\\nVil du på udlandsophold?\\nAalborg Universitets Internationale Kontor har mange års erfaring med at sende AAU-studerende på studie- eller praktikophold i udlandet, og du har mulighed for at søge AAU-legater via kontoret.\\nLæs mere om udlandsopholdJob og Karriere TitelEn kandidatgrad i sociologi giver dig titlen cand.scient.soc. Senere kan denne evt. suppleres med en treårig forskeruddannelse: Ph.d. i sociologi. Sociologerne i Danmark og de øvrige nordiske lande fordeler sig i tre nogenlunde lige store hovedgrupper: 1) undervisning og forskning, 2) den offentlige sektor og 3) den private eller halvprivate sektor.Undervisning og forskning1) Som underviser og forsker arbejder du typisk på universiteter og højere læreanstalter – Det kan være på sociologiuddannelserne eller på en række andre uddannelser som fx statskundskab, seminarierne samt socialrådgiver- og sygeplejerskeuddannelserne. Derudover arbejder sociologer med forskning på fx VIVE – Det nationale forsknings- og analysecenter for velfærdsforskning, Dansk Sygehusinstitut, Danmarks Miljøundersøgelser og Statens Institut for Folkesundhed.Offentlige sektor2) Inden for den offentlige sektor kan du fx få ansættelse i ministerier og styrelser, hvor du typisk betjener diverse råd og nævn med undersøgelser, oversigter, forslag osv. Det kan være Ligestillingsrådet, Det Kriminalpræventive Råd eller Forbrugerstyrelsen. Også det praktiske ulandsarbejde og EU har tiltrukket en del sociologer, ligesom Danmarks Statistik rummer et utal af forskellige opgaver for sociologer. Mange amter og større kommuner har ligeledes sociologer ansat, fortrinsvis til udviklings- og sekretariatsarbejde i undervisnings-, kultur-, social- og sundhedsforvaltninger, hvor de specielt varetager opgaver i forbindelse med børn, unge, ældre, handicappede, psykiatri, arbejdsløshed, sygdom og sundhed.Private eller halvprivate sektor3) I den private og halvprivate sektor kan du få ansættelse i interesseorganisationer som LO, Dansk Arbejdsgiverforening eller Kommunernes Landsforening. Men også inden for markeds- og opinionsanalyse og reklamebranchen arbejder der efterhånden en del sociologer. Dertil kommer konsulentvirksomheder, som arbejder med sociologisk analyse og rådgivning, lige fra store virksomheder som COWI og Rambøll Management til små firmaer med 1-5 medarbejdere. Der er også nogle, der er ansat i private virksomheder som personale og uddannelseskonsulenter.DimittendundersøgelsenSe Dimittendundersøgelsen for Sociologi her.Du skal acceptere følgende cookiekategorier for at kunne se indholdet: MarketingÅben cookie dialogFå hjælp til dine karriere- og jobtanker på AAUAAU Karriere tilbyder sparring på din vej fra studieliv til jobliv. Mens du studerer på AAU, kan du deltage i karriere- og jobrelaterede arrangementer, finde hjælp på vores hjemmeside og booke personlige karrierevejledningssamtaler til en snak om fx:\\n\\nAnsøgning og cv\\nStudiejob- og praktiksøgning\\nKompetencer – både de faglige og de mere personlige\\nGode værktøjer til at finde rundt i dine karrieretanker og på arbejdsmarkedet\\nAt få hul på jobsøgningen og netværksdannelsen, inden du bliver færdiguddannet\\n\\nLæs mere om AAU KarriereKontakt SociologiSociologistudietFibigerstræde 59220 Aalborg ØstTelefon: 9940 8405sociologisekretariatet@socsci.aau.dkStudievejledningMathilde Melgaard Sørensen og Matilde HaustedKroghstræde 7, rum 48 (i forhallen)9220 Aalborg ØTelefon.: 9940 7611sociologi-studvejl@socsci.aau.dkTræffetidTirsdage og torsdage kl. 12.00 - 14.00.Du skal acceptere følgende cookiekategorier for at kunne se indholdet: MarketingÅben cookie dialogDu skal acceptere følgende cookiekategorier for at kunne se indholdet: MarketingÅben cookie dialogDu skal acceptere følgende cookiekategorier for at kunne se indholdet: MarketingÅben cookie dialogDu skal acceptere følgende cookiekategorier for at kunne se indholdet: MarketingÅben cookie dialogDu skal acceptere følgende cookiekategorier for at kunne se indholdet: MarketingÅben cookie dialogDu skal acceptere følgende cookiekategorier for at kunne se indholdet: MarketingÅben cookie dialogHvordan er sociologiuddannelsen opbygget?Hvad er forskellen på sociologi og psykologi?Hvordan foregår undervisningen?Hvad med det sociale liv?Hvor meget fylder statistik på uddannelsen?Hvor meget fylder gruppearbejdet?AAU Studie- og trivselsvejledning\\nI Aalborg Universitets Studie- og Trivselsvejledning kan vi hjælpe med blandt andet valg undervejs i studiet, studietvivl, studieteknik, trivsel, orlov og udmeldelse, eller måske bare\\xa0en snak om dine tanker om studiet. Vi snakker gerne med dig om stort som småt.\\nÅbningstider og kontaktoplysningerOptagelse og adgangskravAdgangsgivende uddannelserAdgangsgivende uddannelser med retskrav på optagelse.\\n\\nBacheloruddannelse i sociolog, Aalborg Universitet\\n\\nFølgende bacheloruddannelser giver også adgang til kandidatuddannelsen i Sociologi:\\n\\nBacheloruddannelsen i Sociologi fra Københavns Universitet\\nBacheloruddannelsen i Sociologi fra Syddansk Universitet\\nBacheloruddannelsen i Kulturanalyse fra Syddansk Universitet\\nBacheloruddannelsen i Socialvidenskab fra Roskilde Universitet\\nØvrige uddannelser og optagOptag fra øvrige bacheloruddannelser sker efter konkret vurdering i studienævnet. I vurderingen lægges vægt på, at ansøgeren har fag svarende til mindst 60 ECTS-point inden for det sociologiske fagområde, samt at disse fordeler sig på både sociologisk teori, kvantitativ metode og kvalitativ metode.\\xa0Ingen forhåndsvurdering af adgangsgrundlagStudienævnet foretager ikke forhåndsvurdering af adgangsgrundlag. Det betyder, at faglige vurderinger kun foretages i forbindelse med, at der indsendes en konkret ansøgning om optagelse. Hvis du ønsker en uformel vurdering af dine muligheder for at opnå adgang, kan du henvende dig til studievejledningen på Sociologi.AdgangsbegrænsningKandidatuddannelsen i Sociologi er centralt dimensioneret. Det betyder, at ikke alle ansøgere, der søger rettidigt og som opfylder adgangskravene, er sikret en studieplads.Antal studiepladserDer udbydes 35 studiepladser i 2022.Udvælgelse til optagUdvælgelse til optag blandt ansøgere, der søger rettidigt og som opfylder adgangskravene, sker på baggrund af følgende kriterier:\\n\\nKaraktergennemsnit på den adgangsgivende uddannelse (vurderes på baggrund af beståede eksaminer på ansøgningstidspunktet).\\nAntal beståede ECTS-point inden for det sociologiske fagområde udover de 60 ECTS-point, der er adgangskravet i den adgangsgivende bacheloruddannelse.\\nKendskab til kandidatuddannelsen i Sociologi ved Aalborg Universitet samt til PBL-modellen (der vedlægges motiveret ansøgning på højst 1 side).\\nMere om adgangskravGiver din uddannelse ikke direkte adgang?Hvis din uddannelse ikke er nævnt under adgangskravene, men er beslægtet, kan du stadig søge om optagelse. Når du søger, vil studiet\\xa0lave en individuel\\xa0faglig\\xa0vurdering af dit adgangsgrundlag i forhold til den specifikke kandidatuddannelse.\\nSpørg gerne studievejlederen fra uddannelsen om dine optagelsesmuligheder, hvis du er i tvivl.Bacheloruddannelse fra AAU, som giver ret til optagelse (retskrav)Du har ret til optagelse på den kandidatuddannelse, der er den naturlige overbygning af din bacheloruddannelses fagområde.\\xa0Retskravet gælder til\\xa0kandidatuddannelsen på det universitet, du tog din bacheloruddannelse ved og er gældende i 3 år.\\xa0AnsøgningsfristAnsøgningsfristen er den 1. marts\\xa0med studiestart den 1. september.\\nDu skal søge digitalt via ansøgningssystemet. Husk, at din ansøgning skal indeholde dokumentation for bestået adgangsgivende eksamen.Svar på din ansøgningHar du søgt op optagelse inden ansøgningsfristens udløb, kan du forvente svar senest den 10. juni.Mere om optagelse på en kandidatuddannelseDu kan læse mere om optagelse på en kandidatuddannelse fx frister, meritmuligheder og information til ansøgere, der er forsinkede i deres bacheloruddannelse.\\nOptagelse på en kandidatuddannelseSom studerende på AAU møder du...Forskende og engagerede underviserePå Aalborg Universitet har vi forskningsbaseret undervisning, hvilket kort fortalt\\xa0betyder, at dine undervisere forsker inden for samme fagområde, som de underviser i. Du får derfor tilgang til den nyeste viden og engagerede undervisere, der brænder for det, de underviser i. Undervisningsmaterialet er derfor ikke kun bøger, men kan fx også være aktuelle artikler fra tidsskrifter.\\xa0GruppearbejdePå Aalborg Universitet kommer du i høj grad til at arbejde i grupper med dine studiekammerater.\\xa0Det betyder, at du gennem samarbejde og arbejdsdeling, får mulighed for at udforske større og mere komplekse problemstillinger, end du ville kunne klare alene, og at du altid har andre at sparre og drøfte faglige udfordringer med.\\xa0Desuden betyder gruppearbejdet, at du hurtigt lærer dine medstuderende at kende og får en stor omgangskreds på dit studie.\\nLæs mere om gruppearbejde\\xa0på Aalborg UniversitetProblembaseret læringAalborg Universitet er verdenskendt for den unikke undervisningsform - Problembaseret Læring\\xa0(PBL). Kort\\xa0fortalt går det ud på, at du kommer til at arbejde i grupper sammen med dine studiekammerater, hvor du identificerer, analyserer, formulerer og løser problemstillinger fra det virkelige liv. Arbejdsformen er værdsat og efterspurgt af såvel erhvervslivet som de studerende, da du i høj grad selv har mulighed for at definere de problemstillinger, du arbejder med, du udvikler dine evner inden for teamwork, og du bliver klædt godt på til det arbejdsmarked, der venter dig efter endt studie.\\xa0Tæt samarbejde med erhvervslivetAalborg Universitet har et tæt samarbejde med erhvervslivet, hvilket betyder, at\\xa0du allerede som studerende kommer til at arbejde med virkelige problemstillinger fra virksomheder og organisationer. Dermed får du allerede, mens du studerer, mulighed for at gøre dig praktiske erfaringer med det teori, du lærer på universitetet.Laboratorier i verdensklasseLaboratorierne på Aalborg Universitet er af højeste standard, og de spiller en vigtig rolle i undervisningen. Du kommer til at arbejde under de bedste laboratorieforhold med adgang til den nyeste state-of-the-art\\xa0teknologi, hvilket er af afgørende\\xa0betydning for dit udbytte af undervisningen.Studiebyerne - Aalborg, Esbjerg, KøbenhavnDu kan studere på Aalborg Universitet (AAU) i Aalborg, Esbjerg og København. AAU\\'s hovedcampus ligger i Aalborg.\\nLæs hvad de tre studiebyer kan tilbyde dig, som studerende, og få også et indtryk af studiemiljøet på campusområderne\\xa0\\xa0Mød AAUStudieliv på AAUDin SU og økonomiSe liste over de kandidatuddannelser, der tilbyder, at du kan blive studerende for en dag.Kandidatdag er arrangementet for dig, der er bachelor eller professionsbachelor og overvejer at udbygge din uddannelse med en kandidatgrad.Kom til Åbent Hus og bliv klogere på dit studievalg. Mød studerende og studievejledere. Hør oplæg om uddannelser, studieform og studieliv.Se liste over de kandidatuddannelser, der tilbyder, at du kan blive studerende for en dag.Kandidatdag er arrangementet for dig, der er bachelor eller professionsbachelor og overvejer at udbygge din uddannelse med en kandidatgrad.Kom til Åbent Hus og bliv klogere på dit studievalg. Mød studerende og studievejledere. Hør oplæg om uddannelser, studieform og studieliv.Mød Aalborg Universitet<p>Som sociolog er du interesseret i, hvordan og hvorfor det\\xa0moderne samfund hænger sammen – og hvordan du kan\\xa0bidrage til at skabe social forandring dér, hvor\\xa0behovet opstår. Du undersøger de sociale relationer, der forbinder\\xa0mennesker til hinanden og til samfundet. Dit fokus på\\xa0relationer betyder, at du anskuer en problematik i en\\xa0social sammenhæng og ikke som et isoleret fænomen.</p>,<p>En forudsætning for at skabe social forandring, er, at\\xa0du finder, belyser og forstår de dybereliggende årsager\\xa0til en problematik. Din sociologiske værktøjskasse indeholder både\\xa0kvalitative og kvantitative metoder. Det betyder, at du\\xa0kan kombinere forskellige metoder og sammensætte\\xa0det bedst mulige undersøgelsesdesign til at belyse\\xa0en problematik.</p>,<p>Når du kender de dybereliggende årsager, kan du\\xa0skabe rum for mulige løsninger. De gode løsninger går\\xa0ofte på tværs af organisationer og fagligheder.\\xa0Som sociolog forstår og forener du forskellige interesser og synspunkter, og du skaber derved et\\xa0mere nuanceret billede af en problematik. Med det\\xa0blik bidrager du til at udvikle holdbare og langsigtede\\xa0løsninger, der skaber social forandring.</p>,<p>Sociologiuddannelsen har et bredt jobsigte, da du kan anvende din sociologiske faglighed mange steder på arbejdsmarkedet. Du har gode muligheder for at specialisere dig i løbet af kandidatuddannelsen alt efter dine faglige interesser – se linket nedenfor om undervisning og opbygning.</p>,<p>Med en kandidatgrad i sociologi kan du blandt andet arbejde med organisations- og medarbejderudvikling, offentlig forvaltning, forskning, politikudvikling, evaluering, adfærdsændringer og kulturanalyser.</p>,<p>Sociologer finder arbejde inden for alle sektorer og brancher – i det offentlige, i det private erhvervsliv og i NGO’er.<strong>\\xa0</strong><a href=\"/bachelor/sociologi/karrieremuligheder/ku-sociologi-pjece_WEB.pdf\" onclick=\"this.target=\\'_blank\\';; this.target=\\'_blank\\';; this.target=\\'_blank\\';; this.target=\\'_blank\\';; this.target=\\'_blank\\';; this.target=\\'_blank\\';; this.target=\\'_blank\\';\">I denne pjece beskriver otte tidligere sociologistuderende via små citater, hvordan de anvender deres sociologiske faglighed på arbejdsmarkedet.</a></p>,<ul class=\"breadcrumb\">\\n<li>\\n<a aria-label=\"Brødkrumme: Sociologi\" href=\"/kandidat/sociologi/\">\\n                Sociologi\\n            </a>\\n</li>\\n<li class=\"active\">Faglig profil og job</li>\\n</ul>'"
      ]
     },
     "execution_count": 44,
     "metadata": {},
     "output_type": "execute_result"
    }
   ],
   "source": [
    "university_df = combined_df\n",
    "university_df['cand.scient.soc'].loc[0]"
   ]
  },
  {
   "cell_type": "code",
   "execution_count": null,
   "id": "68f01c2f-878b-4754-9b15-76d513aa5090",
   "metadata": {},
   "outputs": [],
   "source": []
  }
 ],
 "metadata": {
  "kernelspec": {
   "display_name": "Python 3 (ipykernel)",
   "language": "python",
   "name": "python3"
  },
  "language_info": {
   "codemirror_mode": {
    "name": "ipython",
    "version": 3
   },
   "file_extension": ".py",
   "mimetype": "text/x-python",
   "name": "python",
   "nbconvert_exporter": "python",
   "pygments_lexer": "ipython3",
   "version": "3.9.7"
  }
 },
 "nbformat": 4,
 "nbformat_minor": 5
}

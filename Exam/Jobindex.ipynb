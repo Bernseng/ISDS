{
 "cells": [
  {
   "cell_type": "markdown",
   "metadata": {},
   "source": [
    "## Testing for data scrabing on Esco and Jobnet"
   ]
  },
  {
   "cell_type": "code",
   "execution_count": 82,
   "metadata": {},
   "outputs": [],
   "source": [
    "# Import magics\n",
    "\n",
    "# !pip install selenium\n",
    "# !pip install webdriver_manager\n",
    "# !python -m nltk.downloader popular\n",
    "# !pip install tensorflow\n",
    "# !pip install spacy\n",
    "# !pip install wordloud\n",
    "# !python -m spacy download da_core_news_md\n",
    "\n",
    "import pandas as pd\n",
    "import numpy as np\n",
    "import seaborn as sns\n",
    "import matplotlib.pyplot as plt\n",
    "from collections import Counter\n",
    "from pathlib import Path\n",
    "import re\n",
    "import requests\n",
    "from selenium import webdriver\n",
    "from webdriver_manager.chrome import ChromeDriverManager\n",
    "from selenium.webdriver.common.by import By\n",
    "from bs4 import BeautifulSoup\n",
    "from io import StringIO\n",
    "import nltk\n",
    "from sklearn.feature_extraction.text import TfidfVectorizer\n",
    "from sklearn.linear_model import LogisticRegression\n",
    "import tensorflow as tf\n",
    "import spacy\n",
    "from spacy import displacy\n",
    "from tensorflow.keras import layers\n",
    "stop_word = nltk.corpus.stopwords.words('danish')\n",
    "from sklearn.feature_extraction.text import CountVectorizer\n",
    "from spacy.lang.da.stop_words import STOP_WORDS\n",
    "import string\n",
    "from function import *\n",
    "from PIL import Image\n",
    "from wordcloud import WordCloud, STOPWORDS, ImageColorGenerator\n",
    "nlp = spacy.load('da_core_news_md')\n",
    "output = Path(r'Exam/output')"
   ]
  },
  {
   "cell_type": "markdown",
   "metadata": {},
   "source": [
    "## Selecting data on Jobindex"
   ]
  },
  {
   "cell_type": "code",
   "execution_count": null,
   "metadata": {},
   "outputs": [],
   "source": [
    "from queue import Empty\n",
    "\n",
    "def extract_jobindex(page, tag):\n",
    "    flat_list = []\n",
    "    headers = {'User-Agent':'kjp538@alumni.ku.dk'}\n",
    "\n",
    "    url = f\"https://www.jobindex.dk/jobsoegning?page={page}&q={tag}\"\n",
    "                    \n",
    "    r = requests.get(url, headers)\n",
    "        \n",
    "    soup = BeautifulSoup(r.content.decode(\"utf-8\"), \"html.parser\")\n",
    "                    \n",
    "    divs = soup.find_all(\"div\", class_=\"PaidJob-inner\")         \n",
    "    url_list = []\n",
    "\n",
    "    for item in divs:\n",
    "        # summary = item.find_all(\"p\")\n",
    "        job_url =  item.select_one('[data-click*=\"u=\"]:has(> b)')['href']\n",
    "\n",
    "        # job = ''.join([str(i) for i in summary])\n",
    "        url_list.append(job_url)\n",
    "\n",
    "        # job_list.append(job)\n",
    "\n",
    "    for sublist in url_list:\n",
    "        for item in sublist:\n",
    "            flat_list.append(item)\n",
    "    \n",
    "    return url_list\n",
    "\n",
    "for i in range(10):\n",
    "    job = extract_jobindex(i, 'cand.oecon')\n",
    "    if extract_jobindex(i, 'cand.oecon') != Empty:\n",
    "        print('reached maximum job articles')\n",
    "        break\n",
    "job"
   ]
  },
  {
   "cell_type": "markdown",
   "metadata": {},
   "source": [
    "### Cleaning Jobindex data"
   ]
  },
  {
   "cell_type": "code",
   "execution_count": 73,
   "metadata": {},
   "outputs": [
    {
     "name": "stderr",
     "output_type": "stream",
     "text": [
      "[nltk_data] Downloading package omw-1.4 to\n",
      "[nltk_data]     /Users/nicolaibernsen/nltk_data...\n",
      "[nltk_data]   Package omw-1.4 is already up-to-date!\n"
     ]
    }
   ],
   "source": [
    "vectorizer = CountVectorizer()\n",
    "porter = nltk.PorterStemmer()\n",
    "nltk.download('omw-1.4')\n",
    "wnl = nltk.WordNetLemmatizer()"
   ]
  },
  {
   "cell_type": "code",
   "execution_count": null,
   "metadata": {},
   "outputs": [],
   "source": [
    "def clean_jobindex(search_word):\n",
    "    job_url = []\n",
    "    jobindex = []\n",
    "    info_job = [] \n",
    "    flat_list = []\n",
    "\n",
    "    headers = {'User-Agent':'kjp538@alumni.ku.dk'}\n",
    "\n",
    "    for i in range(5):\n",
    "        job = extract_jobindex(i, 'cand.psych')\n",
    "        if extract_jobindex(i, 'cand.psych') != Empty:\n",
    "            print('reached maximum job articles')\n",
    "            break\n",
    "\n",
    "    return job"
   ]
  },
  {
   "cell_type": "code",
   "execution_count": 70,
   "metadata": {},
   "outputs": [
    {
     "name": "stdout",
     "output_type": "stream",
     "text": [
      "reached maximum job articles\n",
      "reached maximum job articles\n",
      "reached maximum job articles\n",
      "reached maximum job articles\n",
      "reached maximum job articles\n"
     ]
    }
   ],
   "source": [
    "search_list = ['cand.psych', 'cand.polit', 'cand.scient.pol', 'cand.scient.anth', 'cand.scient.soc']\n",
    "\n",
    "def clean_jobindex(search_word):\n",
    "    job_url = []\n",
    "    jobindex = []\n",
    "    info_job = [] \n",
    "    flat_list = []\n",
    "\n",
    "    headers = {'User-Agent':'kjp538@alumni.ku.dk'}\n",
    "\n",
    "    for i in range(5):\n",
    "        job = extract_jobindex(i, search_word)\n",
    "        if extract_jobindex(i, search_word) != Empty:\n",
    "            print('reached maximum job articles')\n",
    "            break\n",
    "    \n",
    "    for i in job:\n",
    "        url = f\"{i}\"\n",
    "        r = requests.get(url, headers)\n",
    "        \n",
    "        soup = BeautifulSoup(r.content.decode(\"utf-8\"), \"html.parser\")\n",
    "        divs = soup.find_all(\"div\", class_=\"csa_jobadText\")        \n",
    "        info_job.append(divs)\n",
    "\n",
    "    job_ = ' '.join(str(i) for i in info_job)\n",
    "    _job = nltk.word_tokenize(clean_text(job_))\n",
    "    for word in _job:\n",
    "        if word not in stop_word:\n",
    "            jobindex.append(word)\n",
    "            \n",
    "    return jobindex\n",
    "\n",
    "jobindex_psych = [wnl.lemmatize(i) for i in clean_jobindex('cand.psych')]\n",
    "jobindex_oecon = clean_jobindex('cand.polit')\n",
    "jobindex_pol = clean_jobindex('cand.scient.pol')\n",
    "jobindex_anth = clean_jobindex('cand.scient.anth')\n",
    "jobindex_soc = clean_jobindex('cand.scient.soc')\n",
    "\n",
    "\n",
    "\n",
    "psych = ' '.join(jobindex_psych)\n",
    "oecon = ' '.join(jobindex_oecon)\n",
    "pol = ' '.join(jobindex_pol)\n",
    "anth = ' '.join(jobindex_anth)\n",
    "soc = ' '.join(jobindex_soc)"
   ]
  },
  {
   "cell_type": "code",
   "execution_count": 77,
   "metadata": {},
   "outputs": [],
   "source": [
    "write_text('cand.psych', jobindex_psych)"
   ]
  },
  {
   "cell_type": "code",
   "execution_count": 84,
   "metadata": {},
   "outputs": [
    {
     "data": {
      "text/plain": [
       "[('align', 24),\n",
       " ('ung', 19),\n",
       " ('god', 16),\n",
       " ('tværfaglig', 15),\n",
       " ('ny', 12),\n",
       " ('fælles', 9),\n",
       " ('egen', 9),\n",
       " ('stor', 7),\n",
       " ('faglig', 6),\n",
       " ('fast', 6),\n",
       " ('pædagogisk', 5),\n",
       " ('forskellig', 4),\n",
       " ('velkommen', 4),\n",
       " ('psykologfaglig', 4),\n",
       " ('høj', 3),\n",
       " ('kollegial', 3),\n",
       " ('hel', 3),\n",
       " ('enkelt', 3),\n",
       " ('central', 3),\n",
       " ('psykologisk', 3),\n",
       " ('voksen', 3),\n",
       " ('spændende', 3),\n",
       " ('aktiv', 3),\n",
       " ('selvstændig', 3),\n",
       " ('ekstern', 3),\n",
       " ('daglig', 3),\n",
       " ('øvrig', 3),\n",
       " ('mange', 3),\n",
       " ('professionel', 3),\n",
       " ('etnisk', 3),\n",
       " ('lille', 2),\n",
       " ('mulig', 2),\n",
       " ('tidlig', 2),\n",
       " ('fagprofessionel', 2),\n",
       " ('understøtte', 2),\n",
       " ('vigtig', 2),\n",
       " ('umage', 2),\n",
       " ('første', 2),\n",
       " ('intern', 2),\n",
       " ('relevant', 2),\n",
       " ('dygtig', 2),\n",
       " ('terapeutisk', 2),\n",
       " ('tæt', 2),\n",
       " ('velfungerende', 2),\n",
       " ('gensidig', 2),\n",
       " ('nærværende', 2),\n",
       " ('individuel', 2),\n",
       " ('gammel', 2),\n",
       " ('optaget', 2),\n",
       " ('halsnæs', 2),\n",
       " ('fleksibilitet', 1),\n",
       " ('meningsfuldt', 1),\n",
       " ('flest', 1),\n",
       " ('adfærdsterapeutisk', 1),\n",
       " ('forbinde', 1),\n",
       " ('praktisk', 1),\n",
       " ('alsidig', 1),\n",
       " ('gavn', 1),\n",
       " ('konkret', 1),\n",
       " ('didaktisk', 1),\n",
       " ('tværfagligt', 1),\n",
       " ('åben', 1),\n",
       " ('imødekommende', 1),\n",
       " ('systematisk', 1),\n",
       " ('metodisk', 1),\n",
       " ('frugtbar', 1),\n",
       " ('formår', 1),\n",
       " ('aktuel', 1),\n",
       " ('engagere', 1),\n",
       " ('kompetent', 1),\n",
       " ('meningsfuld', 1),\n",
       " ('kontinuerlig', 1),\n",
       " ('mittag', 1),\n",
       " ('cool', 1),\n",
       " ('socialt', 1),\n",
       " ('nemmere', 1),\n",
       " ('justify', 1),\n",
       " ('behandlingsmæssig', 1),\n",
       " ('svær', 1),\n",
       " ('regelmæssig', 1),\n",
       " ('fokus', 1),\n",
       " ('familievenlig', 1),\n",
       " ('kompliceret', 1),\n",
       " ('smuk', 1),\n",
       " ('nem', 1),\n",
       " ('hyggelig', 1),\n",
       " ('meget', 1),\n",
       " ('torus', 1),\n",
       " ('social', 1),\n",
       " ('privat', 1),\n",
       " ('eventuel', 1),\n",
       " ('spise', 1),\n",
       " ('løbende', 1),\n",
       " ('sundhedsplejersk', 1),\n",
       " ('nær', 1),\n",
       " ('evalueres', 1),\n",
       " ('primær', 1),\n",
       " ('kollegaa', 1),\n",
       " ('positiv', 1),\n",
       " ('narrativt', 1),\n",
       " ('led', 1),\n",
       " ('mundtligt', 1),\n",
       " ('skriftlig', 1),\n",
       " ('kommunal', 1),\n",
       " ('centralt', 1),\n",
       " ('heldig', 1),\n",
       " ('systemisk', 1),\n",
       " ('meningsfulde', 1),\n",
       " ('rettidig', 1),\n",
       " ('int', 1),\n",
       " ('lykkes', 1),\n",
       " ('afstemt', 1),\n",
       " ('områdeteam', 1),\n",
       " ('langt', 1),\n",
       " ('ansættelsesdato', 1),\n",
       " ('ligelig', 1),\n",
       " ('opslået', 1),\n",
       " ('rart', 1),\n",
       " ('ugentligt', 1),\n",
       " ('frisk', 1),\n",
       " ('vant', 1),\n",
       " ('sød', 1),\n",
       " ('sjov', 1),\n",
       " ('lyttende', 1),\n",
       " ('bred', 1),\n",
       " ('tætt', 1),\n",
       " ('temadag', 1),\n",
       " ('theraplay', 1),\n",
       " ('rig', 1),\n",
       " ('mangearte', 1),\n",
       " ('psykolog', 1),\n",
       " ('nyuddannet', 1),\n",
       " ('opstart', 1),\n",
       " ('fleksibel', 1),\n",
       " ('kørekort', 1),\n",
       " ('koordinator', 1),\n",
       " ('rå', 1),\n",
       " ('autentisk', 1),\n",
       " ('enestående', 1),\n",
       " ('ægte', 1),\n",
       " ('afslappet', 1),\n",
       " ('moderne', 1),\n",
       " ('rummelig', 1),\n",
       " ('halsnaes', 1)]"
      ]
     },
     "execution_count": 84,
     "metadata": {},
     "output_type": "execute_result"
    }
   ],
   "source": [
    "document = nlp(open('/Users/nicolaibernsen/Desktop/KU/9.Semester/Introduction_to_Social_Datascience/ISDS/Exam/cand.psych.txt',\n",
    "encoding=\"utf-8\").read())\n",
    "adjs = []\n",
    "for token in document:\n",
    "    if token.pos_ == 'ADJ':\n",
    "        adjs.append(token.lemma_)\n",
    "adjs\n",
    "adjs_tally = Counter(adjs)\n",
    "adjs_tally.most_common()"
   ]
  },
  {
   "cell_type": "markdown",
   "metadata": {},
   "source": [
    "### Plotting Jobindex data using Wordcloud"
   ]
  },
  {
   "cell_type": "code",
   "execution_count": 71,
   "metadata": {},
   "outputs": [
    {
     "data": {
      "image/png": "[encoded data removed]",
      "text/plain": [
       "<Figure size 432x288 with 1 Axes>"
      ]
     },
     "metadata": {
      "needs_background": "light"
     },
     "output_type": "display_data"
    }
   ],
   "source": [
    "stopwords = set(STOPWORDS)\n",
    "\n",
    "stopwords.update(['hr','bringe','ppr','vores','ønsker','nye','hverdag','del','inden','søger', \n",
    "'kan','egedal','oktober','kompetencer','li','ul','text','align','justify','br','p','div','strong','style','href','både'])\n",
    "\n",
    "wordcloud = WordCloud(stopwords=stopwords, max_font_size=35, max_words=100, background_color='white').generate(psych)\n",
    "\n",
    "plt.imshow(wordcloud, interpolation='bilinear')\n",
    "plt.axis('off')\n",
    "plt.show()"
   ]
  },
  {
   "cell_type": "code",
   "execution_count": null,
   "metadata": {},
   "outputs": [],
   "source": [
    "wordcloud = WordCloud(stopwords=stopwords, max_font_size=35, max_words=100, background_color='white').generate(oecon)\n",
    "\n",
    "plt.imshow(wordcloud, interpolation='bilinear')\n",
    "plt.axis('off')\n",
    "plt.show()"
   ]
  },
  {
   "cell_type": "markdown",
   "metadata": {},
   "source": [
    "## Importing skills from ESCO"
   ]
  },
  {
   "cell_type": "code",
   "execution_count": null,
   "metadata": {},
   "outputs": [],
   "source": [
    "occupations = ['http://data.europa.eu/esco/occupation/99492920-e5a5-4dba-9e5a-93193147198c', \n",
    "'http://data.europa.eu/esco/occupation/11df8941-508c-4103-ad40-52cdf9430a59', \n",
    "'http://data.europa.eu/esco/occupation/acf69cab-8629-45c8-ae10-c8fb15f474b6', \n",
    "'http://data.europa.eu/esco/occupation/52ded7d7-11df-42e3-b90a-d7f4b70fb4b9',\n",
    "'http://data.europa.eu/esco/occupation/4f89b0d2-b666-4890-af01-25d1d60da1f3']\n",
    "\n",
    "jobs = pd.DataFrame(columns=['job_title', 'essential_skill', 'optional_skill'])\n",
    "\n",
    "for i in occupations:\n",
    "    jobs = jobs.append(fetching_occupation(i))\n",
    "\n",
    "jobs = jobs.apply(lambda x: x.replace({'økonom':'cand.oecon', 'psykolog':'cand.psych', 'antropolog':'cand.scient.anth', \n",
    "'politolog':'cand.scient.pol', 'sociolog':'cand.scient.soc'}, regex=True))"
   ]
  },
  {
   "cell_type": "code",
   "execution_count": null,
   "metadata": {},
   "outputs": [],
   "source": [
    "oecon_esco = jobs.loc[jobs['job_title'] == 'cand.oecon']\n",
    "search_words = []\n",
    "for value in oecon_esco['optional_skill']:\n",
    "    search_words.append(value)\n",
    "    \n",
    "search_words"
   ]
  },
  {
   "cell_type": "code",
   "execution_count": null,
   "metadata": {},
   "outputs": [],
   "source": [
    "oecon.find('markedet')"
   ]
  },
  {
   "cell_type": "markdown",
   "metadata": {},
   "source": [
    "## Scraping UG"
   ]
  },
  {
   "cell_type": "code",
   "execution_count": null,
   "metadata": {},
   "outputs": [],
   "source": [
    "search_list = ['cand.psych', 'cand.oecon', 'cand.scient.pol', 'cand.scient.anth', 'cand.scient.soc']\n",
    "\n",
    "education_url = []\n",
    "\n",
    "for k in search_list:\n",
    "    for i in range(1):\n",
    "        try: \n",
    "            education_url.append(UG(i,k))\n",
    "        except:\n",
    "            break\n",
    "        \n",
    "education_url[1].pop(0)\n",
    "del education_url[4][0:3]"
   ]
  },
  {
   "cell_type": "code",
   "execution_count": null,
   "metadata": {},
   "outputs": [],
   "source": [
    "psych = nltk.word_tokenize(extract_UG(education_url[0][0]))\n",
    "oecon = nltk.word_tokenize(extract_UG(education_url[1][0]))\n",
    "pol = nltk.word_tokenize(extract_UG(education_url[2][0]))\n",
    "anth = nltk.word_tokenize(extract_UG(education_url[3][0]))\n",
    "soc = nltk.word_tokenize(extract_UG(education_url[4][0]))\n",
    "psych_final = []\n",
    "for word in psych:\n",
    "    if word not in stop_word:\n",
    "        psych_final.append(word)\n",
    "\n",
    "psych_final"
   ]
  },
  {
   "cell_type": "code",
   "execution_count": null,
   "metadata": {},
   "outputs": [],
   "source": [
    "# write_text('psych', psych_final)"
   ]
  },
  {
   "cell_type": "code",
   "execution_count": null,
   "metadata": {},
   "outputs": [],
   "source": [
    "psych_text = tf.data.TextLineDataset('/Users/nicolaibernsen/Desktop/KU/9.Semester/Introduction_to_Social_Datascience/ISDS_edit/Exam/psych.txt').filter(lambda x: tf.cast(tf.strings.length(x), bool))\n",
    "\n",
    "def custom_standardization(input_data):\n",
    "  lowercase = tf.strings.lower(input_data)\n",
    "  return tf.strings.regex_replace(lowercase,\n",
    "                                  '[%s]' % re.escape(string.punctuation), '')\n",
    "\n",
    "\n",
    "# Define the vocabulary size and the number of words in a sequence.\n",
    "vocab_size = 4096\n",
    "sequence_length = 10\n",
    "\n",
    "# Use the `TextVectorization` layer to normalize, split, and map strings to\n",
    "# integers. Set the `output_sequence_length` length to pad all samples to the\n",
    "# same length.\n",
    "vectorize_layer = layers.TextVectorization(\n",
    "    standardize=custom_standardization,\n",
    "    max_tokens=vocab_size,\n",
    "    output_mode='int',\n",
    "    output_sequence_length=sequence_length)\n",
    "\n",
    "vectorize_layer.adapt(psych_text.batch(4096))\n",
    "inverse_vocab = vectorize_layer.get_vocabulary()\n",
    "print(inverse_vocab[:20])"
   ]
  },
  {
   "cell_type": "code",
   "execution_count": null,
   "metadata": {},
   "outputs": [],
   "source": [
    "SEED = 42\n",
    "AUTOTUNE = tf.data.AUTOTUNE\n",
    "text_vector_ds = psych_text.batch(1024).prefetch(AUTOTUNE).map(vectorize_layer).unbatch()\n",
    "sequences = list(text_vector_ds.as_numpy_iterator())\n",
    "print(len(sequences))"
   ]
  },
  {
   "cell_type": "code",
   "execution_count": null,
   "metadata": {},
   "outputs": [],
   "source": [
    "for seq in sequences[:10]:\n",
    "  print(f\"{seq} => {[inverse_vocab[i] for i in seq]}\")"
   ]
  }
 ],
 "metadata": {
  "kernelspec": {
   "display_name": "Python 3.9.7 ('base')",
   "language": "python",
   "name": "python3"
  },
  "language_info": {
   "codemirror_mode": {
    "name": "ipython",
    "version": 3
   },
   "file_extension": ".py",
   "mimetype": "text/x-python",
   "name": "python",
   "nbconvert_exporter": "python",
   "pygments_lexer": "ipython3",
   "version": "3.9.7"
  },
  "orig_nbformat": 4,
  "vscode": {
   "interpreter": {
    "hash": "f391330d4b460aafb87b0964baa3bc9feb41f83abb3c41e72e23789a7e646ea5"
   }
  }
 },
 "nbformat": 4,
 "nbformat_minor": 2
}
